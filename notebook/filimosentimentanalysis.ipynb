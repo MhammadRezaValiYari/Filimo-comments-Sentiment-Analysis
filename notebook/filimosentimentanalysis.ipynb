{
  "cells": [
    {
      "cell_type": "markdown",
      "source": [
        "# Import required packages\n"
      ],
      "metadata": {
        "id": "LR_Wg-gpb3IW"
      },
      "id": "LR_Wg-gpb3IW"
    },
    {
      "cell_type": "code",
      "execution_count": 1,
      "metadata": {
        "colab": {
          "base_uri": "https://localhost:8080/"
        },
        "id": "3fe28b2f",
        "outputId": "d6c4f32a-2637-4aba-9e17-db8e16cda33a"
      },
      "outputs": [
        {
          "output_type": "stream",
          "name": "stdout",
          "text": [
            "Looking in indexes: https://pypi.org/simple, https://us-python.pkg.dev/colab-wheels/public/simple/\n",
            "Collecting hazm\n",
            "  Downloading hazm-0.7.0-py3-none-any.whl (316 kB)\n",
            "\u001b[K     |████████████████████████████████| 316 kB 32.6 MB/s \n",
            "\u001b[?25hCollecting nltk==3.3\n",
            "  Downloading nltk-3.3.0.zip (1.4 MB)\n",
            "\u001b[K     |████████████████████████████████| 1.4 MB 75.7 MB/s \n",
            "\u001b[?25hCollecting libwapiti>=0.2.1\n",
            "  Downloading libwapiti-0.2.1.tar.gz (233 kB)\n",
            "\u001b[K     |████████████████████████████████| 233 kB 78.2 MB/s \n",
            "\u001b[?25hRequirement already satisfied: six in /usr/local/lib/python3.7/dist-packages (from nltk==3.3->hazm) (1.15.0)\n",
            "Building wheels for collected packages: nltk, libwapiti\n",
            "  Building wheel for nltk (setup.py) ... \u001b[?25l\u001b[?25hdone\n",
            "  Created wheel for nltk: filename=nltk-3.3-py3-none-any.whl size=1394485 sha256=7262b828ff1dcfb199280c8fa0582cbcd932de444d8c400b4308c0fe0871b1f0\n",
            "  Stored in directory: /root/.cache/pip/wheels/9b/fd/0c/d92302c876e5de87ebd7fc0979d82edb93e2d8d768bf71fac4\n",
            "  Building wheel for libwapiti (setup.py) ... \u001b[?25l\u001b[?25hdone\n",
            "  Created wheel for libwapiti: filename=libwapiti-0.2.1-cp37-cp37m-linux_x86_64.whl size=154693 sha256=c860972c50e183ac5742703feacb36f2afcab4cf16b90c1148004bc06e48514b\n",
            "  Stored in directory: /root/.cache/pip/wheels/ab/b2/5b/0fe4b8f5c0e65341e8ea7bb3f4a6ebabfe8b1ac31322392dbf\n",
            "Successfully built nltk libwapiti\n",
            "Installing collected packages: nltk, libwapiti, hazm\n",
            "  Attempting uninstall: nltk\n",
            "    Found existing installation: nltk 3.7\n",
            "    Uninstalling nltk-3.7:\n",
            "      Successfully uninstalled nltk-3.7\n",
            "Successfully installed hazm-0.7.0 libwapiti-0.2.1 nltk-3.3\n",
            "Looking in indexes: https://pypi.org/simple, https://us-python.pkg.dev/colab-wheels/public/simple/\n",
            "Collecting autocorrect\n",
            "  Downloading autocorrect-2.6.1.tar.gz (622 kB)\n",
            "\u001b[K     |████████████████████████████████| 622 kB 32.5 MB/s \n",
            "\u001b[?25hBuilding wheels for collected packages: autocorrect\n",
            "  Building wheel for autocorrect (setup.py) ... \u001b[?25l\u001b[?25hdone\n",
            "  Created wheel for autocorrect: filename=autocorrect-2.6.1-py3-none-any.whl size=622382 sha256=3a3b89d35bb18a3d8d29eebf10c064b5a231a9b81a0b665fc19dca3b515f1f30\n",
            "  Stored in directory: /root/.cache/pip/wheels/54/d4/37/8244101ad50b0f7d9bffd93ce58ed7991ee1753b290923934b\n",
            "Successfully built autocorrect\n",
            "Installing collected packages: autocorrect\n",
            "Successfully installed autocorrect-2.6.1\n",
            "Looking in indexes: https://pypi.org/simple, https://us-python.pkg.dev/colab-wheels/public/simple/\n",
            "Collecting clean-text\n",
            "  Downloading clean_text-0.6.0-py3-none-any.whl (11 kB)\n",
            "Collecting ftfy<7.0,>=6.0\n",
            "  Downloading ftfy-6.1.1-py3-none-any.whl (53 kB)\n",
            "\u001b[K     |████████████████████████████████| 53 kB 2.4 MB/s \n",
            "\u001b[?25hCollecting emoji<2.0.0,>=1.0.0\n",
            "  Downloading emoji-1.7.0.tar.gz (175 kB)\n",
            "\u001b[K     |████████████████████████████████| 175 kB 61.0 MB/s \n",
            "\u001b[?25hRequirement already satisfied: wcwidth>=0.2.5 in /usr/local/lib/python3.7/dist-packages (from ftfy<7.0,>=6.0->clean-text) (0.2.5)\n",
            "Building wheels for collected packages: emoji\n",
            "  Building wheel for emoji (setup.py) ... \u001b[?25l\u001b[?25hdone\n",
            "  Created wheel for emoji: filename=emoji-1.7.0-py3-none-any.whl size=171046 sha256=ab891655114ba48d19d0dd0dbeb66648fa5b183cde55d51dd040c12733cdeeda\n",
            "  Stored in directory: /root/.cache/pip/wheels/8a/4e/b6/57b01db010d17ef6ea9b40300af725ef3e210cb1acfb7ac8b6\n",
            "Successfully built emoji\n",
            "Installing collected packages: ftfy, emoji, clean-text\n",
            "Successfully installed clean-text-0.6.0 emoji-1.7.0 ftfy-6.1.1\n"
          ]
        },
        {
          "output_type": "stream",
          "name": "stderr",
          "text": [
            "WARNING:root:Since the GPL-licensed package `unidecode` is not installed, using Python's `unicodedata` package which yields worse results.\n"
          ]
        },
        {
          "output_type": "stream",
          "name": "stdout",
          "text": [
            "Looking in indexes: https://pypi.org/simple, https://us-python.pkg.dev/colab-wheels/public/simple/\n",
            "Collecting word2vec\n",
            "  Downloading word2vec-0.11.1.tar.gz (42 kB)\n",
            "\u001b[K     |████████████████████████████████| 42 kB 1.4 MB/s \n",
            "\u001b[?25h  Installing build dependencies ... \u001b[?25l\u001b[?25hdone\n",
            "  Getting requirements to build wheel ... \u001b[?25l\u001b[?25hdone\n",
            "    Preparing wheel metadata ... \u001b[?25l\u001b[?25hdone\n",
            "Requirement already satisfied: numpy>=1.9.2 in /usr/local/lib/python3.7/dist-packages (from word2vec) (1.21.6)\n",
            "Requirement already satisfied: joblib in /usr/local/lib/python3.7/dist-packages (from word2vec) (1.1.0)\n",
            "Building wheels for collected packages: word2vec\n",
            "  Building wheel for word2vec (PEP 517) ... \u001b[?25l\u001b[?25hdone\n",
            "  Created wheel for word2vec: filename=word2vec-0.11.1-py2.py3-none-any.whl size=142178 sha256=ccf661ed5576e491cd10b4a91a790d2232901a646070d5f0b5c04a49ec4eff54\n",
            "  Stored in directory: /root/.cache/pip/wheels/c9/c0/d4/29d797817e268124a32b6cf8beb8b8fe87b86f099d5a049e61\n",
            "Successfully built word2vec\n",
            "Installing collected packages: word2vec\n",
            "Successfully installed word2vec-0.11.1\n"
          ]
        }
      ],
      "source": [
        "! pip install hazm\n",
        "import hazm\n",
        "! pip install autocorrect\n",
        "from autocorrect import Speller \n",
        "! pip install clean-text\n",
        "from cleantext import clean\n",
        "! pip install word2vec\n",
        "import word2vec\n",
        "\n",
        "import pandas as pd\n",
        "import numpy as np\n",
        "import nltk\n",
        "from string import punctuation\n",
        "import re\n",
        "import nltk \n",
        "from tensorflow.keras.preprocessing.text import Tokenizer\n",
        "from tensorflow.keras.preprocessing.sequence import pad_sequences\n",
        "from tensorflow.keras.layers import Dense,Embedding,LSTM,SpatialDropout1D\n",
        "from tensorflow.keras.models import Sequential\n",
        "from sklearn.model_selection import train_test_split\n",
        "from sklearn.svm import LinearSVC ,SVC\n",
        "from sklearn.ensemble import RandomForestClassifier \n",
        "from sklearn.naive_bayes import GaussianNB"
      ],
      "id": "3fe28b2f"
    },
    {
      "cell_type": "markdown",
      "source": [
        "# Data reading From Google drive"
      ],
      "metadata": {
        "id": "EVoiEuO9cY5W"
      },
      "id": "EVoiEuO9cY5W"
    },
    {
      "cell_type": "code",
      "execution_count": 2,
      "metadata": {
        "colab": {
          "base_uri": "https://localhost:8080/"
        },
        "id": "f768c1ff",
        "outputId": "6c07d036-4f96-49cd-aa4e-04b6b6d735c9"
      },
      "outputs": [
        {
          "output_type": "stream",
          "name": "stdout",
          "text": [
            "Mounted at /content/drive\n",
            "/content/drive/MyDrive/data.csv\n"
          ]
        }
      ],
      "source": [
        "from google.colab import drive\n",
        "\n",
        "drive.mount('/content/drive', force_remount=True)\n",
        "\n",
        "!ls '/content/drive/MyDrive/data.csv'\n",
        "\n",
        "data = pd.read_csv('/content/drive/MyDrive/data.csv', encoding='utf-8')\n",
        "df = pd.DataFrame(data)\n",
        "df.drop(columns=['Unnamed: 0', 'Unnamed: 0.1'], inplace=True)\n"
      ],
      "id": "f768c1ff"
    },
    {
      "cell_type": "code",
      "execution_count": 3,
      "metadata": {
        "colab": {
          "base_uri": "https://localhost:8080/",
          "height": 424
        },
        "id": "29f02b38",
        "outputId": "dbc0863e-018c-43b9-c449-7b859b1f61e7"
      },
      "outputs": [
        {
          "output_type": "execute_result",
          "data": {
            "text/plain": [
              "                                      comment_text          film_name\n",
              "0                                              NaN           BlackCat\n",
              "1                                              NaN           BlackCat\n",
              "2    خیلی قشنگه . روزگار الان و خوب به تصویر کشیده           BlackCat\n",
              "3                                  عالی آقای رادان           BlackCat\n",
              "4                                         قشنگ بود           BlackCat\n",
              "..                                             ...                ...\n",
              "143                               بسیار خوب و درست  Death_of_Salesman\n",
              "144                              مرگ فروشنده عالی👌  Death_of_Salesman\n",
              "145                                      جالب بود👌  Death_of_Salesman\n",
              "146        عالی بود احسنت به امید فیلم های جدیدتون  Death_of_Salesman\n",
              "147                                           عالی  Death_of_Salesman\n",
              "\n",
              "[148 rows x 2 columns]"
            ],
            "text/html": [
              "\n",
              "  <div id=\"df-c227b363-948d-48c9-acd0-4875fe449929\">\n",
              "    <div class=\"colab-df-container\">\n",
              "      <div>\n",
              "<style scoped>\n",
              "    .dataframe tbody tr th:only-of-type {\n",
              "        vertical-align: middle;\n",
              "    }\n",
              "\n",
              "    .dataframe tbody tr th {\n",
              "        vertical-align: top;\n",
              "    }\n",
              "\n",
              "    .dataframe thead th {\n",
              "        text-align: right;\n",
              "    }\n",
              "</style>\n",
              "<table border=\"1\" class=\"dataframe\">\n",
              "  <thead>\n",
              "    <tr style=\"text-align: right;\">\n",
              "      <th></th>\n",
              "      <th>comment_text</th>\n",
              "      <th>film_name</th>\n",
              "    </tr>\n",
              "  </thead>\n",
              "  <tbody>\n",
              "    <tr>\n",
              "      <th>0</th>\n",
              "      <td>NaN</td>\n",
              "      <td>BlackCat</td>\n",
              "    </tr>\n",
              "    <tr>\n",
              "      <th>1</th>\n",
              "      <td>NaN</td>\n",
              "      <td>BlackCat</td>\n",
              "    </tr>\n",
              "    <tr>\n",
              "      <th>2</th>\n",
              "      <td>خیلی قشنگه . روزگار الان و خوب به تصویر کشیده</td>\n",
              "      <td>BlackCat</td>\n",
              "    </tr>\n",
              "    <tr>\n",
              "      <th>3</th>\n",
              "      <td>عالی آقای رادان</td>\n",
              "      <td>BlackCat</td>\n",
              "    </tr>\n",
              "    <tr>\n",
              "      <th>4</th>\n",
              "      <td>قشنگ بود</td>\n",
              "      <td>BlackCat</td>\n",
              "    </tr>\n",
              "    <tr>\n",
              "      <th>...</th>\n",
              "      <td>...</td>\n",
              "      <td>...</td>\n",
              "    </tr>\n",
              "    <tr>\n",
              "      <th>143</th>\n",
              "      <td>بسیار خوب و درست</td>\n",
              "      <td>Death_of_Salesman</td>\n",
              "    </tr>\n",
              "    <tr>\n",
              "      <th>144</th>\n",
              "      <td>مرگ فروشنده عالی👌</td>\n",
              "      <td>Death_of_Salesman</td>\n",
              "    </tr>\n",
              "    <tr>\n",
              "      <th>145</th>\n",
              "      <td>جالب بود👌</td>\n",
              "      <td>Death_of_Salesman</td>\n",
              "    </tr>\n",
              "    <tr>\n",
              "      <th>146</th>\n",
              "      <td>عالی بود احسنت به امید فیلم های جدیدتون</td>\n",
              "      <td>Death_of_Salesman</td>\n",
              "    </tr>\n",
              "    <tr>\n",
              "      <th>147</th>\n",
              "      <td>عالی</td>\n",
              "      <td>Death_of_Salesman</td>\n",
              "    </tr>\n",
              "  </tbody>\n",
              "</table>\n",
              "<p>148 rows × 2 columns</p>\n",
              "</div>\n",
              "      <button class=\"colab-df-convert\" onclick=\"convertToInteractive('df-c227b363-948d-48c9-acd0-4875fe449929')\"\n",
              "              title=\"Convert this dataframe to an interactive table.\"\n",
              "              style=\"display:none;\">\n",
              "        \n",
              "  <svg xmlns=\"http://www.w3.org/2000/svg\" height=\"24px\"viewBox=\"0 0 24 24\"\n",
              "       width=\"24px\">\n",
              "    <path d=\"M0 0h24v24H0V0z\" fill=\"none\"/>\n",
              "    <path d=\"M18.56 5.44l.94 2.06.94-2.06 2.06-.94-2.06-.94-.94-2.06-.94 2.06-2.06.94zm-11 1L8.5 8.5l.94-2.06 2.06-.94-2.06-.94L8.5 2.5l-.94 2.06-2.06.94zm10 10l.94 2.06.94-2.06 2.06-.94-2.06-.94-.94-2.06-.94 2.06-2.06.94z\"/><path d=\"M17.41 7.96l-1.37-1.37c-.4-.4-.92-.59-1.43-.59-.52 0-1.04.2-1.43.59L10.3 9.45l-7.72 7.72c-.78.78-.78 2.05 0 2.83L4 21.41c.39.39.9.59 1.41.59.51 0 1.02-.2 1.41-.59l7.78-7.78 2.81-2.81c.8-.78.8-2.07 0-2.86zM5.41 20L4 18.59l7.72-7.72 1.47 1.35L5.41 20z\"/>\n",
              "  </svg>\n",
              "      </button>\n",
              "      \n",
              "  <style>\n",
              "    .colab-df-container {\n",
              "      display:flex;\n",
              "      flex-wrap:wrap;\n",
              "      gap: 12px;\n",
              "    }\n",
              "\n",
              "    .colab-df-convert {\n",
              "      background-color: #E8F0FE;\n",
              "      border: none;\n",
              "      border-radius: 50%;\n",
              "      cursor: pointer;\n",
              "      display: none;\n",
              "      fill: #1967D2;\n",
              "      height: 32px;\n",
              "      padding: 0 0 0 0;\n",
              "      width: 32px;\n",
              "    }\n",
              "\n",
              "    .colab-df-convert:hover {\n",
              "      background-color: #E2EBFA;\n",
              "      box-shadow: 0px 1px 2px rgba(60, 64, 67, 0.3), 0px 1px 3px 1px rgba(60, 64, 67, 0.15);\n",
              "      fill: #174EA6;\n",
              "    }\n",
              "\n",
              "    [theme=dark] .colab-df-convert {\n",
              "      background-color: #3B4455;\n",
              "      fill: #D2E3FC;\n",
              "    }\n",
              "\n",
              "    [theme=dark] .colab-df-convert:hover {\n",
              "      background-color: #434B5C;\n",
              "      box-shadow: 0px 1px 3px 1px rgba(0, 0, 0, 0.15);\n",
              "      filter: drop-shadow(0px 1px 2px rgba(0, 0, 0, 0.3));\n",
              "      fill: #FFFFFF;\n",
              "    }\n",
              "  </style>\n",
              "\n",
              "      <script>\n",
              "        const buttonEl =\n",
              "          document.querySelector('#df-c227b363-948d-48c9-acd0-4875fe449929 button.colab-df-convert');\n",
              "        buttonEl.style.display =\n",
              "          google.colab.kernel.accessAllowed ? 'block' : 'none';\n",
              "\n",
              "        async function convertToInteractive(key) {\n",
              "          const element = document.querySelector('#df-c227b363-948d-48c9-acd0-4875fe449929');\n",
              "          const dataTable =\n",
              "            await google.colab.kernel.invokeFunction('convertToInteractive',\n",
              "                                                     [key], {});\n",
              "          if (!dataTable) return;\n",
              "\n",
              "          const docLinkHtml = 'Like what you see? Visit the ' +\n",
              "            '<a target=\"_blank\" href=https://colab.research.google.com/notebooks/data_table.ipynb>data table notebook</a>'\n",
              "            + ' to learn more about interactive tables.';\n",
              "          element.innerHTML = '';\n",
              "          dataTable['output_type'] = 'display_data';\n",
              "          await google.colab.output.renderOutput(dataTable, element);\n",
              "          const docLink = document.createElement('div');\n",
              "          docLink.innerHTML = docLinkHtml;\n",
              "          element.appendChild(docLink);\n",
              "        }\n",
              "      </script>\n",
              "    </div>\n",
              "  </div>\n",
              "  "
            ]
          },
          "metadata": {},
          "execution_count": 3
        }
      ],
      "source": [
        "data = df\n",
        "data"
      ],
      "id": "29f02b38"
    },
    {
      "cell_type": "markdown",
      "source": [
        "# Data Cleaning"
      ],
      "metadata": {
        "id": "NJQnDEePcyC0"
      },
      "id": "NJQnDEePcyC0"
    },
    {
      "cell_type": "code",
      "execution_count": 4,
      "metadata": {
        "colab": {
          "base_uri": "https://localhost:8080/"
        },
        "id": "6215920c",
        "outputId": "c1d35de7-5cf5-438d-a3bd-a7bcc10cdd8a"
      },
      "outputs": [
        {
          "output_type": "stream",
          "name": "stdout",
          "text": [
            "data information\n",
            "<class 'pandas.core.frame.DataFrame'>\n",
            "RangeIndex: 148 entries, 0 to 147\n",
            "Data columns (total 2 columns):\n",
            " #   Column        Non-Null Count  Dtype \n",
            "---  ------        --------------  ----- \n",
            " 0   comment_text  128 non-null    object\n",
            " 1   film_name     148 non-null    object\n",
            "dtypes: object(2)\n",
            "memory usage: 2.4+ KB\n",
            "None \n",
            "\n",
            "missing values stats\n",
            "comment_text    20\n",
            "film_name        0\n",
            "dtype: int64 \n",
            "\n"
          ]
        }
      ],
      "source": [
        "# print data information\n",
        "print('data information')\n",
        "print(data.info(), '\\n')\n",
        "\n",
        "# print missing values information\n",
        "print('missing values stats')\n",
        "print(data.isnull().sum(), '\\n')\n",
        "\n"
      ],
      "id": "6215920c"
    },
    {
      "cell_type": "code",
      "execution_count": 5,
      "metadata": {
        "colab": {
          "base_uri": "https://localhost:8080/"
        },
        "id": "586f4c52",
        "outputId": "82cafcfa-8559-402d-8ac9-29a1ec2b4feb"
      },
      "outputs": [
        {
          "output_type": "stream",
          "name": "stdout",
          "text": [
            "data information\n",
            "<class 'pandas.core.frame.DataFrame'>\n",
            "RangeIndex: 128 entries, 0 to 127\n",
            "Data columns (total 2 columns):\n",
            " #   Column        Non-Null Count  Dtype \n",
            "---  ------        --------------  ----- \n",
            " 0   comment_text  128 non-null    object\n",
            " 1   film_name     128 non-null    object\n",
            "dtypes: object(2)\n",
            "memory usage: 2.1+ KB\n",
            "None \n",
            "\n",
            "missing values stats\n",
            "comment_text    0\n",
            "film_name       0\n",
            "dtype: int64 \n",
            "\n",
            "some missing values\n",
            "Empty DataFrame\n",
            "Columns: [comment_text, film_name]\n",
            "Index: [] \n",
            "\n"
          ]
        }
      ],
      "source": [
        "# handle some conflicts with the dataset structure\n",
        "# you can find a reliable solution, for the sake of the simplicity\n",
        "# I just remove these bad combinations!\n",
        "\n",
        "\n",
        "data = data.dropna(subset=['film_name'])\n",
        "data = data.dropna(subset=['comment_text'])\n",
        "\n",
        "data = data.reset_index(drop=True)\n",
        "\n",
        "\n",
        "\n",
        "\n",
        "# print data information\n",
        "print('data information')\n",
        "print(data.info(), '\\n')\n",
        "\n",
        "# print missing values information\n",
        "print('missing values stats')\n",
        "print(data.isnull().sum(), '\\n')\n",
        "\n",
        "# print some missing values\n",
        "print('some missing values')\n",
        "print(data[data['film_name'].isnull()].iloc[:5], '\\n')"
      ],
      "id": "586f4c52"
    },
    {
      "cell_type": "code",
      "execution_count": 6,
      "metadata": {
        "colab": {
          "base_uri": "https://localhost:8080/",
          "height": 424
        },
        "id": "344e4a99",
        "outputId": "62eb946d-ccfb-4885-f86f-a7798234a30d"
      },
      "outputs": [
        {
          "output_type": "execute_result",
          "data": {
            "text/plain": [
              "                                      comment_text          film_name\n",
              "0    خیلی قشنگه . روزگار الان و خوب به تصویر کشیده           BlackCat\n",
              "1                                  عالی آقای رادان           BlackCat\n",
              "2                                         قشنگ بود           BlackCat\n",
              "3                                         عالییییی           BlackCat\n",
              "4                                من دیدم خیلی خفنه           BlackCat\n",
              "..                                             ...                ...\n",
              "123                               بسیار خوب و درست  Death_of_Salesman\n",
              "124                              مرگ فروشنده عالی👌  Death_of_Salesman\n",
              "125                                      جالب بود👌  Death_of_Salesman\n",
              "126        عالی بود احسنت به امید فیلم های جدیدتون  Death_of_Salesman\n",
              "127                                           عالی  Death_of_Salesman\n",
              "\n",
              "[128 rows x 2 columns]"
            ],
            "text/html": [
              "\n",
              "  <div id=\"df-871ba2c1-1a5f-4503-b0af-1a3fdb1fef41\">\n",
              "    <div class=\"colab-df-container\">\n",
              "      <div>\n",
              "<style scoped>\n",
              "    .dataframe tbody tr th:only-of-type {\n",
              "        vertical-align: middle;\n",
              "    }\n",
              "\n",
              "    .dataframe tbody tr th {\n",
              "        vertical-align: top;\n",
              "    }\n",
              "\n",
              "    .dataframe thead th {\n",
              "        text-align: right;\n",
              "    }\n",
              "</style>\n",
              "<table border=\"1\" class=\"dataframe\">\n",
              "  <thead>\n",
              "    <tr style=\"text-align: right;\">\n",
              "      <th></th>\n",
              "      <th>comment_text</th>\n",
              "      <th>film_name</th>\n",
              "    </tr>\n",
              "  </thead>\n",
              "  <tbody>\n",
              "    <tr>\n",
              "      <th>0</th>\n",
              "      <td>خیلی قشنگه . روزگار الان و خوب به تصویر کشیده</td>\n",
              "      <td>BlackCat</td>\n",
              "    </tr>\n",
              "    <tr>\n",
              "      <th>1</th>\n",
              "      <td>عالی آقای رادان</td>\n",
              "      <td>BlackCat</td>\n",
              "    </tr>\n",
              "    <tr>\n",
              "      <th>2</th>\n",
              "      <td>قشنگ بود</td>\n",
              "      <td>BlackCat</td>\n",
              "    </tr>\n",
              "    <tr>\n",
              "      <th>3</th>\n",
              "      <td>عالییییی</td>\n",
              "      <td>BlackCat</td>\n",
              "    </tr>\n",
              "    <tr>\n",
              "      <th>4</th>\n",
              "      <td>من دیدم خیلی خفنه</td>\n",
              "      <td>BlackCat</td>\n",
              "    </tr>\n",
              "    <tr>\n",
              "      <th>...</th>\n",
              "      <td>...</td>\n",
              "      <td>...</td>\n",
              "    </tr>\n",
              "    <tr>\n",
              "      <th>123</th>\n",
              "      <td>بسیار خوب و درست</td>\n",
              "      <td>Death_of_Salesman</td>\n",
              "    </tr>\n",
              "    <tr>\n",
              "      <th>124</th>\n",
              "      <td>مرگ فروشنده عالی👌</td>\n",
              "      <td>Death_of_Salesman</td>\n",
              "    </tr>\n",
              "    <tr>\n",
              "      <th>125</th>\n",
              "      <td>جالب بود👌</td>\n",
              "      <td>Death_of_Salesman</td>\n",
              "    </tr>\n",
              "    <tr>\n",
              "      <th>126</th>\n",
              "      <td>عالی بود احسنت به امید فیلم های جدیدتون</td>\n",
              "      <td>Death_of_Salesman</td>\n",
              "    </tr>\n",
              "    <tr>\n",
              "      <th>127</th>\n",
              "      <td>عالی</td>\n",
              "      <td>Death_of_Salesman</td>\n",
              "    </tr>\n",
              "  </tbody>\n",
              "</table>\n",
              "<p>128 rows × 2 columns</p>\n",
              "</div>\n",
              "      <button class=\"colab-df-convert\" onclick=\"convertToInteractive('df-871ba2c1-1a5f-4503-b0af-1a3fdb1fef41')\"\n",
              "              title=\"Convert this dataframe to an interactive table.\"\n",
              "              style=\"display:none;\">\n",
              "        \n",
              "  <svg xmlns=\"http://www.w3.org/2000/svg\" height=\"24px\"viewBox=\"0 0 24 24\"\n",
              "       width=\"24px\">\n",
              "    <path d=\"M0 0h24v24H0V0z\" fill=\"none\"/>\n",
              "    <path d=\"M18.56 5.44l.94 2.06.94-2.06 2.06-.94-2.06-.94-.94-2.06-.94 2.06-2.06.94zm-11 1L8.5 8.5l.94-2.06 2.06-.94-2.06-.94L8.5 2.5l-.94 2.06-2.06.94zm10 10l.94 2.06.94-2.06 2.06-.94-2.06-.94-.94-2.06-.94 2.06-2.06.94z\"/><path d=\"M17.41 7.96l-1.37-1.37c-.4-.4-.92-.59-1.43-.59-.52 0-1.04.2-1.43.59L10.3 9.45l-7.72 7.72c-.78.78-.78 2.05 0 2.83L4 21.41c.39.39.9.59 1.41.59.51 0 1.02-.2 1.41-.59l7.78-7.78 2.81-2.81c.8-.78.8-2.07 0-2.86zM5.41 20L4 18.59l7.72-7.72 1.47 1.35L5.41 20z\"/>\n",
              "  </svg>\n",
              "      </button>\n",
              "      \n",
              "  <style>\n",
              "    .colab-df-container {\n",
              "      display:flex;\n",
              "      flex-wrap:wrap;\n",
              "      gap: 12px;\n",
              "    }\n",
              "\n",
              "    .colab-df-convert {\n",
              "      background-color: #E8F0FE;\n",
              "      border: none;\n",
              "      border-radius: 50%;\n",
              "      cursor: pointer;\n",
              "      display: none;\n",
              "      fill: #1967D2;\n",
              "      height: 32px;\n",
              "      padding: 0 0 0 0;\n",
              "      width: 32px;\n",
              "    }\n",
              "\n",
              "    .colab-df-convert:hover {\n",
              "      background-color: #E2EBFA;\n",
              "      box-shadow: 0px 1px 2px rgba(60, 64, 67, 0.3), 0px 1px 3px 1px rgba(60, 64, 67, 0.15);\n",
              "      fill: #174EA6;\n",
              "    }\n",
              "\n",
              "    [theme=dark] .colab-df-convert {\n",
              "      background-color: #3B4455;\n",
              "      fill: #D2E3FC;\n",
              "    }\n",
              "\n",
              "    [theme=dark] .colab-df-convert:hover {\n",
              "      background-color: #434B5C;\n",
              "      box-shadow: 0px 1px 3px 1px rgba(0, 0, 0, 0.15);\n",
              "      filter: drop-shadow(0px 1px 2px rgba(0, 0, 0, 0.3));\n",
              "      fill: #FFFFFF;\n",
              "    }\n",
              "  </style>\n",
              "\n",
              "      <script>\n",
              "        const buttonEl =\n",
              "          document.querySelector('#df-871ba2c1-1a5f-4503-b0af-1a3fdb1fef41 button.colab-df-convert');\n",
              "        buttonEl.style.display =\n",
              "          google.colab.kernel.accessAllowed ? 'block' : 'none';\n",
              "\n",
              "        async function convertToInteractive(key) {\n",
              "          const element = document.querySelector('#df-871ba2c1-1a5f-4503-b0af-1a3fdb1fef41');\n",
              "          const dataTable =\n",
              "            await google.colab.kernel.invokeFunction('convertToInteractive',\n",
              "                                                     [key], {});\n",
              "          if (!dataTable) return;\n",
              "\n",
              "          const docLinkHtml = 'Like what you see? Visit the ' +\n",
              "            '<a target=\"_blank\" href=https://colab.research.google.com/notebooks/data_table.ipynb>data table notebook</a>'\n",
              "            + ' to learn more about interactive tables.';\n",
              "          element.innerHTML = '';\n",
              "          dataTable['output_type'] = 'display_data';\n",
              "          await google.colab.output.renderOutput(dataTable, element);\n",
              "          const docLink = document.createElement('div');\n",
              "          docLink.innerHTML = docLinkHtml;\n",
              "          element.appendChild(docLink);\n",
              "        }\n",
              "      </script>\n",
              "    </div>\n",
              "  </div>\n",
              "  "
            ]
          },
          "metadata": {},
          "execution_count": 6
        }
      ],
      "source": [
        "data"
      ],
      "id": "344e4a99"
    },
    {
      "cell_type": "markdown",
      "source": [
        "# Texet Cleaning (Text Normalize) "
      ],
      "metadata": {
        "id": "rpVQ4JIOdAoa"
      },
      "id": "rpVQ4JIOdAoa"
    },
    {
      "cell_type": "code",
      "execution_count": 7,
      "metadata": {
        "id": "3c5485d1"
      },
      "outputs": [],
      "source": [
        "def sentence_tokenize(text):\n",
        "    return nltk.sent_tokenize(text) "
      ],
      "id": "3c5485d1"
    },
    {
      "cell_type": "code",
      "execution_count": 8,
      "metadata": {
        "id": "DSxCDAilHeO6"
      },
      "outputs": [],
      "source": [
        "def word_tokenize(text):\n",
        "       \n",
        "        return nltk.word_tokenize(text) "
      ],
      "id": "DSxCDAilHeO6"
    },
    {
      "cell_type": "code",
      "execution_count": 9,
      "metadata": {
        "colab": {
          "base_uri": "https://localhost:8080/"
        },
        "id": "6F-orClaHyNe",
        "outputId": "0567c44e-89d0-4989-a98f-51af93d7996c"
      },
      "outputs": [
        {
          "output_type": "stream",
          "name": "stdout",
          "text": [
            "[nltk_data] Downloading package punkt to /root/nltk_data...\n",
            "[nltk_data]   Unzipping tokenizers/punkt.zip.\n"
          ]
        },
        {
          "output_type": "execute_result",
          "data": {
            "text/plain": [
              "True"
            ]
          },
          "metadata": {},
          "execution_count": 9
        }
      ],
      "source": [
        "import nltk\n",
        "nltk.download('punkt')"
      ],
      "id": "6F-orClaHyNe"
    },
    {
      "cell_type": "code",
      "execution_count": 10,
      "metadata": {
        "colab": {
          "base_uri": "https://localhost:8080/"
        },
        "id": "TWjyjS1eHeMw",
        "outputId": "fb467902-e14b-4da5-bfe1-3f5c7c1833a7"
      },
      "outputs": [
        {
          "output_type": "execute_result",
          "data": {
            "text/plain": [
              "0      [خیلی قشنگه ., روزگار الان و خوب به تصویر کشیده]\n",
              "1                                     [عالی آقای رادان]\n",
              "2                                            [قشنگ بود]\n",
              "3                                            [عالییییی]\n",
              "4                                   [من دیدم خیلی خفنه]\n",
              "                             ...                       \n",
              "123                                  [بسیار خوب و درست]\n",
              "124                                 [مرگ فروشنده عالی👌]\n",
              "125                                         [جالب بود👌]\n",
              "126           [عالی بود احسنت به امید فیلم های جدیدتون]\n",
              "127                                              [عالی]\n",
              "Name: comment_text, Length: 128, dtype: object"
            ]
          },
          "metadata": {},
          "execution_count": 10
        }
      ],
      "source": [
        "data['comment_text'].apply(sentence_tokenize) "
      ],
      "id": "TWjyjS1eHeMw"
    },
    {
      "cell_type": "code",
      "execution_count": 11,
      "metadata": {
        "id": "KPbAxnGKKJV7"
      },
      "outputs": [],
      "source": [
        "def remove_numbers(text):\n",
        "        \"\"\"\n",
        "        take string input and return a clean text without numbers.\n",
        "        Use regex to discard the numbers.\n",
        "        \"\"\"\n",
        "        output = ''.join(c for c in text if not c.isdigit())\n",
        "        return output "
      ],
      "id": "KPbAxnGKKJV7"
    },
    {
      "cell_type": "code",
      "execution_count": 12,
      "metadata": {
        "id": "CMZIbdEAKJTR"
      },
      "outputs": [],
      "source": [
        "def remove_punct(text):\n",
        "  \n",
        "        return ''.join(c for c in text if c not in punctuation)"
      ],
      "id": "CMZIbdEAKJTR"
    },
    {
      "cell_type": "code",
      "source": [
        "def remove_wierds(text):\n",
        "  wierd_pattern = re.compile(\"[\"\n",
        "        u\"\\U0001F600-\\U0001F64F\"  # emoticons\n",
        "        u\"\\U0001F300-\\U0001F5FF\"  # symbols & pictographs\n",
        "        u\"\\U0001F680-\\U0001F6FF\"  # transport & map symbols\n",
        "        u\"\\U0001F1E0-\\U0001F1FF\"  # flags (iOS)\n",
        "        u\"\\U00002702-\\U000027B0\"\n",
        "        u\"\\U000024C2-\\U0001F251\"\n",
        "        u\"\\U0001f926-\\U0001f937\"\n",
        "        u'\\U00010000-\\U0010ffff'\n",
        "        u\"\\u200d\"\n",
        "        u\"\\u2640-\\u2642\"\n",
        "        u\"\\u2600-\\u2B55\"\n",
        "        u\"\\u23cf\"\n",
        "        u\"\\u23e9\"\n",
        "        u\"\\u231a\"\n",
        "        u\"\\u3030\"\n",
        "        u\"\\ufe0f\"\n",
        "        u\"\\u2069\"\n",
        "        u\"\\u2066\"\n",
        "        u\"\\u200c\"\n",
        "        u\"\\u2068\"\n",
        "        u\"\\u2067\"\n",
        "        \"]+\", flags=re.UNICODE)\n",
        "  text = wierd_pattern.sub(r'', text)\n",
        "  return text  "
      ],
      "metadata": {
        "id": "-FQhnVZAdBJs"
      },
      "id": "-FQhnVZAdBJs",
      "execution_count": 13,
      "outputs": []
    },
    {
      "cell_type": "code",
      "source": [
        "clean_data = data['comment_text'].apply(remove_wierds)"
      ],
      "metadata": {
        "id": "UPyPr4b_ymzV"
      },
      "id": "UPyPr4b_ymzV",
      "execution_count": 14,
      "outputs": []
    },
    {
      "cell_type": "code",
      "source": [
        "data['clean_comment'] = clean_data"
      ],
      "metadata": {
        "id": "4kO2x0CCy4X4"
      },
      "id": "4kO2x0CCy4X4",
      "execution_count": 15,
      "outputs": []
    },
    {
      "cell_type": "code",
      "source": [
        "data.head()"
      ],
      "metadata": {
        "colab": {
          "base_uri": "https://localhost:8080/",
          "height": 206
        },
        "id": "eFa95gi_zAWA",
        "outputId": "0a972637-b74a-4b72-b4d6-aae64721ae5e"
      },
      "id": "eFa95gi_zAWA",
      "execution_count": 16,
      "outputs": [
        {
          "output_type": "execute_result",
          "data": {
            "text/plain": [
              "                                    comment_text film_name  \\\n",
              "0  خیلی قشنگه . روزگار الان و خوب به تصویر کشیده  BlackCat   \n",
              "1                                عالی آقای رادان  BlackCat   \n",
              "2                                       قشنگ بود  BlackCat   \n",
              "3                                       عالییییی  BlackCat   \n",
              "4                              من دیدم خیلی خفنه  BlackCat   \n",
              "\n",
              "                                   clean_comment  \n",
              "0  خیلی قشنگه . روزگار الان و خوب به تصویر کشیده  \n",
              "1                                عالی آقای رادان  \n",
              "2                                       قشنگ بود  \n",
              "3                                       عالییییی  \n",
              "4                              من دیدم خیلی خفنه  "
            ],
            "text/html": [
              "\n",
              "  <div id=\"df-96796a3f-d58b-4b9f-903a-19b43a46de9d\">\n",
              "    <div class=\"colab-df-container\">\n",
              "      <div>\n",
              "<style scoped>\n",
              "    .dataframe tbody tr th:only-of-type {\n",
              "        vertical-align: middle;\n",
              "    }\n",
              "\n",
              "    .dataframe tbody tr th {\n",
              "        vertical-align: top;\n",
              "    }\n",
              "\n",
              "    .dataframe thead th {\n",
              "        text-align: right;\n",
              "    }\n",
              "</style>\n",
              "<table border=\"1\" class=\"dataframe\">\n",
              "  <thead>\n",
              "    <tr style=\"text-align: right;\">\n",
              "      <th></th>\n",
              "      <th>comment_text</th>\n",
              "      <th>film_name</th>\n",
              "      <th>clean_comment</th>\n",
              "    </tr>\n",
              "  </thead>\n",
              "  <tbody>\n",
              "    <tr>\n",
              "      <th>0</th>\n",
              "      <td>خیلی قشنگه . روزگار الان و خوب به تصویر کشیده</td>\n",
              "      <td>BlackCat</td>\n",
              "      <td>خیلی قشنگه . روزگار الان و خوب به تصویر کشیده</td>\n",
              "    </tr>\n",
              "    <tr>\n",
              "      <th>1</th>\n",
              "      <td>عالی آقای رادان</td>\n",
              "      <td>BlackCat</td>\n",
              "      <td>عالی آقای رادان</td>\n",
              "    </tr>\n",
              "    <tr>\n",
              "      <th>2</th>\n",
              "      <td>قشنگ بود</td>\n",
              "      <td>BlackCat</td>\n",
              "      <td>قشنگ بود</td>\n",
              "    </tr>\n",
              "    <tr>\n",
              "      <th>3</th>\n",
              "      <td>عالییییی</td>\n",
              "      <td>BlackCat</td>\n",
              "      <td>عالییییی</td>\n",
              "    </tr>\n",
              "    <tr>\n",
              "      <th>4</th>\n",
              "      <td>من دیدم خیلی خفنه</td>\n",
              "      <td>BlackCat</td>\n",
              "      <td>من دیدم خیلی خفنه</td>\n",
              "    </tr>\n",
              "  </tbody>\n",
              "</table>\n",
              "</div>\n",
              "      <button class=\"colab-df-convert\" onclick=\"convertToInteractive('df-96796a3f-d58b-4b9f-903a-19b43a46de9d')\"\n",
              "              title=\"Convert this dataframe to an interactive table.\"\n",
              "              style=\"display:none;\">\n",
              "        \n",
              "  <svg xmlns=\"http://www.w3.org/2000/svg\" height=\"24px\"viewBox=\"0 0 24 24\"\n",
              "       width=\"24px\">\n",
              "    <path d=\"M0 0h24v24H0V0z\" fill=\"none\"/>\n",
              "    <path d=\"M18.56 5.44l.94 2.06.94-2.06 2.06-.94-2.06-.94-.94-2.06-.94 2.06-2.06.94zm-11 1L8.5 8.5l.94-2.06 2.06-.94-2.06-.94L8.5 2.5l-.94 2.06-2.06.94zm10 10l.94 2.06.94-2.06 2.06-.94-2.06-.94-.94-2.06-.94 2.06-2.06.94z\"/><path d=\"M17.41 7.96l-1.37-1.37c-.4-.4-.92-.59-1.43-.59-.52 0-1.04.2-1.43.59L10.3 9.45l-7.72 7.72c-.78.78-.78 2.05 0 2.83L4 21.41c.39.39.9.59 1.41.59.51 0 1.02-.2 1.41-.59l7.78-7.78 2.81-2.81c.8-.78.8-2.07 0-2.86zM5.41 20L4 18.59l7.72-7.72 1.47 1.35L5.41 20z\"/>\n",
              "  </svg>\n",
              "      </button>\n",
              "      \n",
              "  <style>\n",
              "    .colab-df-container {\n",
              "      display:flex;\n",
              "      flex-wrap:wrap;\n",
              "      gap: 12px;\n",
              "    }\n",
              "\n",
              "    .colab-df-convert {\n",
              "      background-color: #E8F0FE;\n",
              "      border: none;\n",
              "      border-radius: 50%;\n",
              "      cursor: pointer;\n",
              "      display: none;\n",
              "      fill: #1967D2;\n",
              "      height: 32px;\n",
              "      padding: 0 0 0 0;\n",
              "      width: 32px;\n",
              "    }\n",
              "\n",
              "    .colab-df-convert:hover {\n",
              "      background-color: #E2EBFA;\n",
              "      box-shadow: 0px 1px 2px rgba(60, 64, 67, 0.3), 0px 1px 3px 1px rgba(60, 64, 67, 0.15);\n",
              "      fill: #174EA6;\n",
              "    }\n",
              "\n",
              "    [theme=dark] .colab-df-convert {\n",
              "      background-color: #3B4455;\n",
              "      fill: #D2E3FC;\n",
              "    }\n",
              "\n",
              "    [theme=dark] .colab-df-convert:hover {\n",
              "      background-color: #434B5C;\n",
              "      box-shadow: 0px 1px 3px 1px rgba(0, 0, 0, 0.15);\n",
              "      filter: drop-shadow(0px 1px 2px rgba(0, 0, 0, 0.3));\n",
              "      fill: #FFFFFF;\n",
              "    }\n",
              "  </style>\n",
              "\n",
              "      <script>\n",
              "        const buttonEl =\n",
              "          document.querySelector('#df-96796a3f-d58b-4b9f-903a-19b43a46de9d button.colab-df-convert');\n",
              "        buttonEl.style.display =\n",
              "          google.colab.kernel.accessAllowed ? 'block' : 'none';\n",
              "\n",
              "        async function convertToInteractive(key) {\n",
              "          const element = document.querySelector('#df-96796a3f-d58b-4b9f-903a-19b43a46de9d');\n",
              "          const dataTable =\n",
              "            await google.colab.kernel.invokeFunction('convertToInteractive',\n",
              "                                                     [key], {});\n",
              "          if (!dataTable) return;\n",
              "\n",
              "          const docLinkHtml = 'Like what you see? Visit the ' +\n",
              "            '<a target=\"_blank\" href=https://colab.research.google.com/notebooks/data_table.ipynb>data table notebook</a>'\n",
              "            + ' to learn more about interactive tables.';\n",
              "          element.innerHTML = '';\n",
              "          dataTable['output_type'] = 'display_data';\n",
              "          await google.colab.output.renderOutput(dataTable, element);\n",
              "          const docLink = document.createElement('div');\n",
              "          docLink.innerHTML = docLinkHtml;\n",
              "          element.appendChild(docLink);\n",
              "        }\n",
              "      </script>\n",
              "    </div>\n",
              "  </div>\n",
              "  "
            ]
          },
          "metadata": {},
          "execution_count": 16
        }
      ]
    },
    {
      "cell_type": "code",
      "source": [
        "data.drop(columns=['comment_text'], inplace=True)"
      ],
      "metadata": {
        "id": "-m_ItDA4zDmJ"
      },
      "id": "-m_ItDA4zDmJ",
      "execution_count": 17,
      "outputs": []
    },
    {
      "cell_type": "code",
      "source": [
        "data.head(5)"
      ],
      "metadata": {
        "colab": {
          "base_uri": "https://localhost:8080/",
          "height": 206
        },
        "id": "TMd31vuWzLfB",
        "outputId": "918f10f9-4a65-45d0-c5e5-b57f9e6c6ca0"
      },
      "id": "TMd31vuWzLfB",
      "execution_count": 18,
      "outputs": [
        {
          "output_type": "execute_result",
          "data": {
            "text/plain": [
              "  film_name                                  clean_comment\n",
              "0  BlackCat  خیلی قشنگه . روزگار الان و خوب به تصویر کشیده\n",
              "1  BlackCat                                عالی آقای رادان\n",
              "2  BlackCat                                       قشنگ بود\n",
              "3  BlackCat                                       عالییییی\n",
              "4  BlackCat                              من دیدم خیلی خفنه"
            ],
            "text/html": [
              "\n",
              "  <div id=\"df-36da646b-436c-4810-8e0b-c2061736ffe7\">\n",
              "    <div class=\"colab-df-container\">\n",
              "      <div>\n",
              "<style scoped>\n",
              "    .dataframe tbody tr th:only-of-type {\n",
              "        vertical-align: middle;\n",
              "    }\n",
              "\n",
              "    .dataframe tbody tr th {\n",
              "        vertical-align: top;\n",
              "    }\n",
              "\n",
              "    .dataframe thead th {\n",
              "        text-align: right;\n",
              "    }\n",
              "</style>\n",
              "<table border=\"1\" class=\"dataframe\">\n",
              "  <thead>\n",
              "    <tr style=\"text-align: right;\">\n",
              "      <th></th>\n",
              "      <th>film_name</th>\n",
              "      <th>clean_comment</th>\n",
              "    </tr>\n",
              "  </thead>\n",
              "  <tbody>\n",
              "    <tr>\n",
              "      <th>0</th>\n",
              "      <td>BlackCat</td>\n",
              "      <td>خیلی قشنگه . روزگار الان و خوب به تصویر کشیده</td>\n",
              "    </tr>\n",
              "    <tr>\n",
              "      <th>1</th>\n",
              "      <td>BlackCat</td>\n",
              "      <td>عالی آقای رادان</td>\n",
              "    </tr>\n",
              "    <tr>\n",
              "      <th>2</th>\n",
              "      <td>BlackCat</td>\n",
              "      <td>قشنگ بود</td>\n",
              "    </tr>\n",
              "    <tr>\n",
              "      <th>3</th>\n",
              "      <td>BlackCat</td>\n",
              "      <td>عالییییی</td>\n",
              "    </tr>\n",
              "    <tr>\n",
              "      <th>4</th>\n",
              "      <td>BlackCat</td>\n",
              "      <td>من دیدم خیلی خفنه</td>\n",
              "    </tr>\n",
              "  </tbody>\n",
              "</table>\n",
              "</div>\n",
              "      <button class=\"colab-df-convert\" onclick=\"convertToInteractive('df-36da646b-436c-4810-8e0b-c2061736ffe7')\"\n",
              "              title=\"Convert this dataframe to an interactive table.\"\n",
              "              style=\"display:none;\">\n",
              "        \n",
              "  <svg xmlns=\"http://www.w3.org/2000/svg\" height=\"24px\"viewBox=\"0 0 24 24\"\n",
              "       width=\"24px\">\n",
              "    <path d=\"M0 0h24v24H0V0z\" fill=\"none\"/>\n",
              "    <path d=\"M18.56 5.44l.94 2.06.94-2.06 2.06-.94-2.06-.94-.94-2.06-.94 2.06-2.06.94zm-11 1L8.5 8.5l.94-2.06 2.06-.94-2.06-.94L8.5 2.5l-.94 2.06-2.06.94zm10 10l.94 2.06.94-2.06 2.06-.94-2.06-.94-.94-2.06-.94 2.06-2.06.94z\"/><path d=\"M17.41 7.96l-1.37-1.37c-.4-.4-.92-.59-1.43-.59-.52 0-1.04.2-1.43.59L10.3 9.45l-7.72 7.72c-.78.78-.78 2.05 0 2.83L4 21.41c.39.39.9.59 1.41.59.51 0 1.02-.2 1.41-.59l7.78-7.78 2.81-2.81c.8-.78.8-2.07 0-2.86zM5.41 20L4 18.59l7.72-7.72 1.47 1.35L5.41 20z\"/>\n",
              "  </svg>\n",
              "      </button>\n",
              "      \n",
              "  <style>\n",
              "    .colab-df-container {\n",
              "      display:flex;\n",
              "      flex-wrap:wrap;\n",
              "      gap: 12px;\n",
              "    }\n",
              "\n",
              "    .colab-df-convert {\n",
              "      background-color: #E8F0FE;\n",
              "      border: none;\n",
              "      border-radius: 50%;\n",
              "      cursor: pointer;\n",
              "      display: none;\n",
              "      fill: #1967D2;\n",
              "      height: 32px;\n",
              "      padding: 0 0 0 0;\n",
              "      width: 32px;\n",
              "    }\n",
              "\n",
              "    .colab-df-convert:hover {\n",
              "      background-color: #E2EBFA;\n",
              "      box-shadow: 0px 1px 2px rgba(60, 64, 67, 0.3), 0px 1px 3px 1px rgba(60, 64, 67, 0.15);\n",
              "      fill: #174EA6;\n",
              "    }\n",
              "\n",
              "    [theme=dark] .colab-df-convert {\n",
              "      background-color: #3B4455;\n",
              "      fill: #D2E3FC;\n",
              "    }\n",
              "\n",
              "    [theme=dark] .colab-df-convert:hover {\n",
              "      background-color: #434B5C;\n",
              "      box-shadow: 0px 1px 3px 1px rgba(0, 0, 0, 0.15);\n",
              "      filter: drop-shadow(0px 1px 2px rgba(0, 0, 0, 0.3));\n",
              "      fill: #FFFFFF;\n",
              "    }\n",
              "  </style>\n",
              "\n",
              "      <script>\n",
              "        const buttonEl =\n",
              "          document.querySelector('#df-36da646b-436c-4810-8e0b-c2061736ffe7 button.colab-df-convert');\n",
              "        buttonEl.style.display =\n",
              "          google.colab.kernel.accessAllowed ? 'block' : 'none';\n",
              "\n",
              "        async function convertToInteractive(key) {\n",
              "          const element = document.querySelector('#df-36da646b-436c-4810-8e0b-c2061736ffe7');\n",
              "          const dataTable =\n",
              "            await google.colab.kernel.invokeFunction('convertToInteractive',\n",
              "                                                     [key], {});\n",
              "          if (!dataTable) return;\n",
              "\n",
              "          const docLinkHtml = 'Like what you see? Visit the ' +\n",
              "            '<a target=\"_blank\" href=https://colab.research.google.com/notebooks/data_table.ipynb>data table notebook</a>'\n",
              "            + ' to learn more about interactive tables.';\n",
              "          element.innerHTML = '';\n",
              "          dataTable['output_type'] = 'display_data';\n",
              "          await google.colab.output.renderOutput(dataTable, element);\n",
              "          const docLink = document.createElement('div');\n",
              "          docLink.innerHTML = docLinkHtml;\n",
              "          element.appendChild(docLink);\n",
              "        }\n",
              "      </script>\n",
              "    </div>\n",
              "  </div>\n",
              "  "
            ]
          },
          "metadata": {},
          "execution_count": 18
        }
      ]
    },
    {
      "cell_type": "markdown",
      "source": [
        "# Building My Model"
      ],
      "metadata": {
        "id": "K6YtnYhOddXb"
      },
      "id": "K6YtnYhOddXb"
    },
    {
      "cell_type": "markdown",
      "source": [
        "### build phreser for vocabulary"
      ],
      "metadata": {
        "id": "nqhxzk9Odlgg"
      },
      "id": "nqhxzk9Odlgg"
    },
    {
      "cell_type": "code",
      "source": [
        "from gensim.models.phrases import Phrases, Phraser\n",
        "\n",
        "sent = [row.split() for row in data['clean_comment']]\n",
        "phrases = Phrases(sent, min_count=30)\n",
        "bigram = Phraser(phrases)"
      ],
      "metadata": {
        "id": "tv9Vfcxyv5Yo"
      },
      "id": "tv9Vfcxyv5Yo",
      "execution_count": 19,
      "outputs": []
    },
    {
      "cell_type": "code",
      "source": [
        "sentences = bigram[sent]"
      ],
      "metadata": {
        "id": "B5s74qAOv5S3"
      },
      "id": "B5s74qAOv5S3",
      "execution_count": 20,
      "outputs": []
    },
    {
      "cell_type": "markdown",
      "source": [
        "### word frequncy"
      ],
      "metadata": {
        "id": "29NwCzLBd3dh"
      },
      "id": "29NwCzLBd3dh"
    },
    {
      "cell_type": "code",
      "source": [
        "from collections import defaultdict \n",
        "word_freq = defaultdict(int)\n",
        "for sent in sentences:\n",
        "    for i in sent:\n",
        "        word_freq[i] += 1\n",
        "len(word_freq)"
      ],
      "metadata": {
        "colab": {
          "base_uri": "https://localhost:8080/"
        },
        "id": "iMhI8_-Av5QS",
        "outputId": "3050ba85-b0ee-459d-caf8-966ad888dfee"
      },
      "id": "iMhI8_-Av5QS",
      "execution_count": 21,
      "outputs": [
        {
          "output_type": "execute_result",
          "data": {
            "text/plain": [
              "390"
            ]
          },
          "metadata": {},
          "execution_count": 21
        }
      ]
    },
    {
      "cell_type": "code",
      "source": [
        "sorted_word_freq = sorted(word_freq, key=word_freq.get, reverse=True)[:20]"
      ],
      "metadata": {
        "id": "1pYau3-ev5No"
      },
      "id": "1pYau3-ev5No",
      "execution_count": 22,
      "outputs": []
    },
    {
      "cell_type": "markdown",
      "source": [
        "### Training Model"
      ],
      "metadata": {
        "id": "I8N10B62eHvo"
      },
      "id": "I8N10B62eHvo"
    },
    {
      "cell_type": "code",
      "source": [
        "import multiprocessing\n",
        "from gensim.models import Word2Vec"
      ],
      "metadata": {
        "id": "dh7l25dnv5LC"
      },
      "id": "dh7l25dnv5LC",
      "execution_count": 27,
      "outputs": []
    },
    {
      "cell_type": "code",
      "source": [
        "cores = multiprocessing.cpu_count()"
      ],
      "metadata": {
        "id": "kAxZQ2nmv5Ia"
      },
      "id": "kAxZQ2nmv5Ia",
      "execution_count": 25,
      "outputs": []
    },
    {
      "cell_type": "code",
      "source": [
        "w2v_model = Word2Vec(min_count=2,\n",
        "                     window=2,\n",
        "                     size=100,\n",
        "                     sample=6e-5, \n",
        "                     alpha=0.02, \n",
        "                     min_alpha=0.0007, \n",
        "                     negative=20,\n",
        "                     workers=cores-1)"
      ],
      "metadata": {
        "id": "22lBnZNWv5F1"
      },
      "id": "22lBnZNWv5F1",
      "execution_count": 28,
      "outputs": []
    },
    {
      "cell_type": "code",
      "source": [
        "from time import time\n",
        "t = time()\n",
        "\n",
        "w2v_model.build_vocab(sentences, progress_per=10000)\n",
        "\n",
        "print('Time to build vocab: {} mins'.format(round((time() - t) / 60, 5)))"
      ],
      "metadata": {
        "colab": {
          "base_uri": "https://localhost:8080/"
        },
        "id": "XhT5ed-gv5De",
        "outputId": "56ef96d6-72b1-4362-981a-ecdd04d4e4ad"
      },
      "id": "XhT5ed-gv5De",
      "execution_count": 29,
      "outputs": [
        {
          "output_type": "stream",
          "name": "stdout",
          "text": [
            "Time to build vocab: 0.00037 mins\n"
          ]
        }
      ]
    },
    {
      "cell_type": "code",
      "source": [
        "t = time()\n",
        "\n",
        "w2v_model.train(sentences, total_examples=w2v_model.corpus_count, epochs=30, report_delay=1)\n",
        "\n",
        "print('Time to train the model: {} mins'.format(round((time() - t) / 60, 5)))"
      ],
      "metadata": {
        "colab": {
          "base_uri": "https://localhost:8080/"
        },
        "id": "u1TA7_Sgv5BM",
        "outputId": "04cae38a-8b0c-493c-cf1f-71dd3fbcbfc9"
      },
      "id": "u1TA7_Sgv5BM",
      "execution_count": 30,
      "outputs": [
        {
          "output_type": "stream",
          "name": "stdout",
          "text": [
            "Time to train the model: 0.00171 mins\n"
          ]
        }
      ]
    },
    {
      "cell_type": "code",
      "source": [
        "w2v_model.init_sims(replace=True)"
      ],
      "metadata": {
        "id": "kf8zYuE1v49-"
      },
      "id": "kf8zYuE1v49-",
      "execution_count": 31,
      "outputs": []
    },
    {
      "cell_type": "markdown",
      "source": [
        "## Example Getting word similarity for weight words"
      ],
      "metadata": {
        "id": "FPB0S2uyeVW1"
      },
      "id": "FPB0S2uyeVW1"
    },
    {
      "cell_type": "code",
      "source": [
        "w2v_model.wv.most_similar(negative=[\"عالی\"])"
      ],
      "metadata": {
        "colab": {
          "base_uri": "https://localhost:8080/"
        },
        "id": "ee8SAB9av462",
        "outputId": "dd0f2dfe-209c-4577-82ed-49de3496d1fe"
      },
      "id": "ee8SAB9av462",
      "execution_count": 32,
      "outputs": [
        {
          "output_type": "execute_result",
          "data": {
            "text/plain": [
              "[('العاده', 0.30535346269607544),\n",
              " ('دیدن', 0.23930777609348297),\n",
              " ('عوامل', 0.2309877872467041),\n",
              " ('ایران', 0.178193137049675),\n",
              " ('همه', 0.17481639981269836),\n",
              " ('جالب', 0.1694687306880951),\n",
              " ('میکنم', 0.16051331162452698),\n",
              " ('بود.', 0.15472202003002167),\n",
              " ('تو', 0.14574342966079712),\n",
              " ('بعد', 0.13523930311203003)]"
            ]
          },
          "metadata": {},
          "execution_count": 32
        }
      ]
    },
    {
      "cell_type": "markdown",
      "source": [
        "## Set vector and PCA for must freq words"
      ],
      "metadata": {
        "id": "ovEfRV_meqfc"
      },
      "id": "ovEfRV_meqfc"
    },
    {
      "cell_type": "code",
      "source": [
        "import numpy as np\n",
        "import matplotlib.pyplot as plt\n",
        "%matplotlib inline\n",
        " \n",
        "import seaborn as sns\n",
        "sns.set_style(\"darkgrid\")\n",
        "\n",
        "from sklearn.decomposition import PCA\n",
        "from sklearn.manifold import TSNE"
      ],
      "metadata": {
        "id": "VTarQscov41f"
      },
      "id": "VTarQscov41f",
      "execution_count": 34,
      "outputs": []
    },
    {
      "cell_type": "code",
      "source": [
        "def tsnescatterplot(model, word, list_names):\n",
        "    arrays = np.empty((0, 100), dtype='f')\n",
        "    word_labels = [word]\n",
        "    color_list  = ['red']\n",
        "\n",
        "    # adds the vector of the query word\n",
        "    arrays = np.append(arrays, model.wv.__getitem__([word]), axis=0)\n",
        "    \n",
        "    # gets list of most similar words\n",
        "    close_words = model.wv.most_similar([word])\n",
        "    \n",
        "    # adds the vector for each of the closest words to the array\n",
        "    for wrd_score in close_words:\n",
        "        wrd_vector = model.wv.__getitem__([wrd_score[0]])\n",
        "        word_labels.append(wrd_score[0])\n",
        "        color_list.append('blue')\n",
        "        arrays = np.append(arrays, wrd_vector, axis=0)\n",
        "    \n",
        "    # adds the vector for each of the words from list_names to the array\n",
        "    for wrd in list_names:\n",
        "        wrd_vector = model.wv.__getitem__([wrd])\n",
        "        word_labels.append(wrd)\n",
        "        color_list.append('green')\n",
        "        arrays = np.append(arrays, wrd_vector, axis=0)\n",
        "        \n",
        "    # Reduces the dimensionality from 100 to 20 dimensions with PCA\n",
        "    reduc = PCA(n_components=20).fit_transform(arrays)\n",
        "    \n",
        "    # Finds t-SNE coordinates for 2 dimensions\n",
        "    np.set_printoptions(suppress=True)\n",
        "    \n",
        "    Y = TSNE(n_components=2, random_state=0, perplexity=15).fit_transform(reduc)\n",
        "    \n",
        "    # Sets everything up to plot\n",
        "    df = pd.DataFrame({'x': [x for x in Y[:, 0]],\n",
        "                       'y': [y for y in Y[:, 1]],\n",
        "                       'words': word_labels,\n",
        "                       'color': color_list})\n",
        "    \n",
        "    fig, _ = plt.subplots()\n",
        "    fig.set_size_inches(9, 9)\n",
        "    \n",
        "    # Basic plot\n",
        "    p1 = sns.regplot(data=df,\n",
        "                     x=\"x\",\n",
        "                     y=\"y\",\n",
        "                     fit_reg=False,\n",
        "                     marker=\"o\",\n",
        "                     scatter_kws={'s': 40,\n",
        "                                  'facecolors': df['color']\n",
        "                                 }\n",
        "                    )\n",
        "    \n",
        "    # Adds annotations one by one with a loop\n",
        "    for line in range(0, df.shape[0]):\n",
        "         p1.text(df[\"x\"][line],\n",
        "                 df['y'][line],\n",
        "                 '  ' + df[\"words\"][line].title(),\n",
        "                 horizontalalignment='left',\n",
        "                 verticalalignment='bottom', size='medium',\n",
        "                 color=df['color'][line],\n",
        "                 weight='normal'\n",
        "                ).set_size(15)\n",
        "\n",
        "    \n",
        "    plt.xlim(Y[:, 0].min()-50, Y[:, 0].max()+50)\n",
        "    plt.ylim(Y[:, 1].min()-50, Y[:, 1].max()+50)\n",
        "            \n",
        "    plt.title('t-SNE visualization for {}'.format(word.title()))"
      ],
      "metadata": {
        "id": "rhk0f4DBv4y1"
      },
      "id": "rhk0f4DBv4y1",
      "execution_count": 35,
      "outputs": []
    },
    {
      "cell_type": "code",
      "source": [
        "listofword = ['عالی', 'قشنگ', 'پیشنهاد', 'زیبا', 'بود', 'فوق','العاده', 'واقعا', 'جالب']\n",
        "tsnescatterplot(w2v_model, 'خوب', listofword)"
      ],
      "metadata": {
        "colab": {
          "base_uri": "https://localhost:8080/",
          "height": 640
        },
        "id": "56g6P_kKv4wa",
        "outputId": "08a98936-0dbf-4f7c-bbdb-c8340535be0e"
      },
      "id": "56g6P_kKv4wa",
      "execution_count": 36,
      "outputs": [
        {
          "output_type": "stream",
          "name": "stderr",
          "text": [
            "/usr/local/lib/python3.7/dist-packages/sklearn/manifold/_t_sne.py:783: FutureWarning: The default initialization in TSNE will change from 'random' to 'pca' in 1.2.\n",
            "  FutureWarning,\n",
            "/usr/local/lib/python3.7/dist-packages/sklearn/manifold/_t_sne.py:793: FutureWarning: The default learning rate in TSNE will change from 200.0 to 'auto' in 1.2.\n",
            "  FutureWarning,\n"
          ]
        },
        {
          "output_type": "display_data",
          "data": {
            "text/plain": [
              "<Figure size 648x648 with 1 Axes>"
            ],
            "image/png": "[encoded data removed]"
          },
          "metadata": {}
        }
      ]
    },
    {
      "cell_type": "code",
      "source": [
        "tsnescatterplot(w2v_model, 'عالی', [i[0] for i in w2v_model.wv.most_similar(negative=[\"عالی\"])])"
      ],
      "metadata": {
        "colab": {
          "base_uri": "https://localhost:8080/",
          "height": 640
        },
        "id": "F8VZQDm9v4t0",
        "outputId": "d8c8f194-1465-4994-8077-c8bf1f844d98"
      },
      "id": "F8VZQDm9v4t0",
      "execution_count": 37,
      "outputs": [
        {
          "output_type": "stream",
          "name": "stderr",
          "text": [
            "/usr/local/lib/python3.7/dist-packages/sklearn/manifold/_t_sne.py:783: FutureWarning: The default initialization in TSNE will change from 'random' to 'pca' in 1.2.\n",
            "  FutureWarning,\n",
            "/usr/local/lib/python3.7/dist-packages/sklearn/manifold/_t_sne.py:793: FutureWarning: The default learning rate in TSNE will change from 200.0 to 'auto' in 1.2.\n",
            "  FutureWarning,\n"
          ]
        },
        {
          "output_type": "display_data",
          "data": {
            "text/plain": [
              "<Figure size 648x648 with 1 Axes>"
            ],
            "image/png": "[encoded data removed]"
          },
          "metadata": {}
        }
      ]
    },
    {
      "cell_type": "markdown",
      "source": [
        "##Getting word similarity for weight words"
      ],
      "metadata": {
        "id": "lR6S4A-7fJyd"
      },
      "id": "lR6S4A-7fJyd"
    },
    {
      "cell_type": "code",
      "source": [
        "x = \"عالی\"\n",
        "w2v_model.wv.most_similar(positive=[x])"
      ],
      "metadata": {
        "colab": {
          "base_uri": "https://localhost:8080/"
        },
        "id": "V7RmawT1cDNL",
        "outputId": "ad602ad6-810d-411c-c4c6-d0b353c62b50"
      },
      "id": "V7RmawT1cDNL",
      "execution_count": 38,
      "outputs": [
        {
          "output_type": "execute_result",
          "data": {
            "text/plain": [
              "[('فیلمی', 0.25735166668891907),\n",
              " ('از', 0.200503408908844),\n",
              " ('،', 0.19855839014053345),\n",
              " ('های', 0.1807647943496704),\n",
              " ('بار', 0.1769590973854065),\n",
              " ('پارسا', 0.1753464639186859),\n",
              " ('جواهریان', 0.16088369488716125),\n",
              " ('عزتی', 0.14725281298160553),\n",
              " ('با', 0.1445910930633545),\n",
              " ('ببینید', 0.1445724368095398)]"
            ]
          },
          "metadata": {},
          "execution_count": 38
        }
      ]
    },
    {
      "cell_type": "code",
      "source": [
        "x = \"خوب\"\n",
        "w2v_model.wv.most_similar(positive=[x])"
      ],
      "metadata": {
        "colab": {
          "base_uri": "https://localhost:8080/"
        },
        "id": "vSiZSr3Kv4bH",
        "outputId": "d238f758-9f0f-4d4b-fad9-4e41bf1304ef"
      },
      "id": "vSiZSr3Kv4bH",
      "execution_count": 39,
      "outputs": [
        {
          "output_type": "execute_result",
          "data": {
            "text/plain": [
              "[('بود.', 0.23057061433792114),\n",
              " ('بزرگ', 0.17563724517822266),\n",
              " ('فیلمی', 0.16716060042381287),\n",
              " ('دیدن', 0.1634744107723236),\n",
              " ('تو', 0.14385637640953064),\n",
              " ('آفرینی', 0.14230720698833466),\n",
              " ('درد', 0.14091373980045319),\n",
              " ('که', 0.1406758427619934),\n",
              " ('بار', 0.13018135726451874),\n",
              " ('بامزه', 0.1285800337791443)]"
            ]
          },
          "metadata": {},
          "execution_count": 39
        }
      ]
    },
    {
      "cell_type": "code",
      "source": [
        "x = \"قشنگ\"\n",
        "w2v_model.wv.most_similar(positive=[x])"
      ],
      "metadata": {
        "colab": {
          "base_uri": "https://localhost:8080/"
        },
        "id": "v-Cm84kNv4W7",
        "outputId": "be866171-1ff2-4846-9bce-89f1cbbe2f17"
      },
      "id": "v-Cm84kNv4W7",
      "execution_count": 40,
      "outputs": [
        {
          "output_type": "execute_result",
          "data": {
            "text/plain": [
              "[('فرمان', 0.20163458585739136),\n",
              " ('لذت', 0.19065552949905396),\n",
              " ('فیلم', 0.1825539469718933),\n",
              " ('آفرینی', 0.1747557818889618),\n",
              " ('خوبی', 0.17182226479053497),\n",
              " ('ای', 0.1606597751379013),\n",
              " ('کارگردان', 0.1382228136062622),\n",
              " ('کارگردانی', 0.1373421549797058),\n",
              " ('یه', 0.13294094800949097),\n",
              " ('پیشنهاد', 0.13134098052978516)]"
            ]
          },
          "metadata": {},
          "execution_count": 40
        }
      ]
    },
    {
      "cell_type": "code",
      "source": [
        "x = \"پیشنهاد\"\n",
        "w2v_model.wv.most_similar(positive=[x])"
      ],
      "metadata": {
        "colab": {
          "base_uri": "https://localhost:8080/"
        },
        "id": "rB2gS4l2v4OW",
        "outputId": "7b9f0226-4672-4e5b-bed2-3d099a8070e8"
      },
      "id": "rB2gS4l2v4OW",
      "execution_count": 41,
      "outputs": [
        {
          "output_type": "execute_result",
          "data": {
            "text/plain": [
              "[('عالییییی', 0.20704875886440277),\n",
              " ('های', 0.199214905500412),\n",
              " ('کارگردانی', 0.193104550242424),\n",
              " ('داستان', 0.18775789439678192),\n",
              " ('بار', 0.18054604530334473),\n",
              " ('بی', 0.17335109412670135),\n",
              " ('بود', 0.17311590909957886),\n",
              " ('نقش', 0.16022425889968872),\n",
              " ('مرسی', 0.15579932928085327),\n",
              " ('احسنت', 0.15424613654613495)]"
            ]
          },
          "metadata": {},
          "execution_count": 41
        }
      ]
    },
    {
      "cell_type": "code",
      "source": [
        "x = \"عالی\"\n",
        "y = \"پیشنهاد\"\n",
        "z = \"قشنگ\"\n",
        "v = \"خوب\"\n",
        "word_predict_instance = w2v_model.wv.most_similar(positive=[x, y, z, v])"
      ],
      "metadata": {
        "id": "ojrFaAg6s5Cz"
      },
      "id": "ojrFaAg6s5Cz",
      "execution_count": 42,
      "outputs": []
    },
    {
      "cell_type": "code",
      "source": [
        "word_predict_instance"
      ],
      "metadata": {
        "colab": {
          "base_uri": "https://localhost:8080/"
        },
        "id": "NOUkHXH-tWZ3",
        "outputId": "c7f40ad3-7811-4cf2-e253-27b4a56e66d9"
      },
      "id": "NOUkHXH-tWZ3",
      "execution_count": 43,
      "outputs": [
        {
          "output_type": "execute_result",
          "data": {
            "text/plain": [
              "[('فیلمی', 0.27535003423690796),\n",
              " ('کارگردانی', 0.21758560836315155),\n",
              " ('بار', 0.21535061299800873),\n",
              " ('های', 0.21105468273162842),\n",
              " ('از', 0.1683465540409088),\n",
              " ('جواهریان', 0.16272494196891785),\n",
              " ('احسنت', 0.16228868067264557),\n",
              " ('که', 0.1590237319469452),\n",
              " ('آفرینی', 0.1547035574913025),\n",
              " ('پارسا', 0.15276700258255005)]"
            ]
          },
          "metadata": {},
          "execution_count": 43
        }
      ]
    },
    {
      "cell_type": "markdown",
      "source": [
        "## sentiment prediction"
      ],
      "metadata": {
        "id": "imUkZUkufXiW"
      },
      "id": "imUkZUkufXiW"
    },
    {
      "cell_type": "code",
      "source": [
        "type(word_predict_instance)"
      ],
      "metadata": {
        "colab": {
          "base_uri": "https://localhost:8080/"
        },
        "id": "t-8NLbNzbSfS",
        "outputId": "74a1d990-fbfc-40ac-e42f-9a01df4b895b"
      },
      "id": "t-8NLbNzbSfS",
      "execution_count": 44,
      "outputs": [
        {
          "output_type": "execute_result",
          "data": {
            "text/plain": [
              "list"
            ]
          },
          "metadata": {},
          "execution_count": 44
        }
      ]
    },
    {
      "cell_type": "code",
      "source": [
        "nude_word = [x[0] for x in word_predict_instance]"
      ],
      "metadata": {
        "id": "w6o9UDnlc0UI"
      },
      "id": "w6o9UDnlc0UI",
      "execution_count": 45,
      "outputs": []
    },
    {
      "cell_type": "code",
      "source": [
        "nude_word"
      ],
      "metadata": {
        "colab": {
          "base_uri": "https://localhost:8080/"
        },
        "id": "o8ko3d6Cc8lt",
        "outputId": "c6605992-561a-41f2-e423-3afb27af15dd"
      },
      "id": "o8ko3d6Cc8lt",
      "execution_count": 46,
      "outputs": [
        {
          "output_type": "execute_result",
          "data": {
            "text/plain": [
              "['فیلمی',\n",
              " 'کارگردانی',\n",
              " 'بار',\n",
              " 'های',\n",
              " 'از',\n",
              " 'جواهریان',\n",
              " 'احسنت',\n",
              " 'که',\n",
              " 'آفرینی',\n",
              " 'پارسا']"
            ]
          },
          "metadata": {},
          "execution_count": 46
        }
      ]
    },
    {
      "cell_type": "code",
      "source": [
        "comment_box = []\n",
        "for comment in data['clean_comment']:\n",
        "  comment_box.append(comment)"
      ],
      "metadata": {
        "id": "XUbZNoNLdRFV"
      },
      "id": "XUbZNoNLdRFV",
      "execution_count": 47,
      "outputs": []
    },
    {
      "cell_type": "code",
      "source": [
        "comment_box"
      ],
      "metadata": {
        "colab": {
          "base_uri": "https://localhost:8080/"
        },
        "id": "IhseAIlWdnUh",
        "outputId": "97716f53-9b53-46b8-cf38-6422adbc165c"
      },
      "id": "IhseAIlWdnUh",
      "execution_count": 48,
      "outputs": [
        {
          "output_type": "execute_result",
          "data": {
            "text/plain": [
              "['خیلی قشنگه . روزگار الان و خوب به تصویر کشیده',\n",
              " 'عالی آقای رادان',\n",
              " 'قشنگ بود',\n",
              " 'عالییییی',\n",
              " 'من دیدم خیلی خفنه',\n",
              " 'باحال بود من خوشم اومد',\n",
              " 'فیلمی تلخ، ولی واقع گرا',\n",
              " 'خیلی فیلم خوبی بود. پیشنهاد میشه',\n",
              " 'خوب بود',\n",
              " 'دلم برای رها و آرمان سوخت',\n",
              " 'خیلی عالی بود آخرش بد تموم شد',\n",
              " 'فیلم خوبی بود',\n",
              " 'عالییییی',\n",
              " 'عالی بود ',\n",
              " 'عالی بود ممنون از سازندش',\n",
              " 'ترلان پروانه عالی بازی کرد',\n",
              " 'خیلییییی قشنگ بود پیشنهاد میکنم حتما ببینید',\n",
              " 'عالی بود',\n",
              " 'فقط اون فاميلشون و جواب هاى سينا مهراد  عاليه اين فيلم ٤ بار تا حالا ديدم',\n",
              " 'خیلی عالی بود',\n",
              " 'عالییییییییییییییههههههههههههههههه',\n",
              " 'عالییییییییی',\n",
              " 'خیلی خووووب بود',\n",
              " 'حتما توصیه میکنم ببینید',\n",
              " 'بعد از مدتها یه فیلم قشنگ دیدم. همه عالی بودند',\n",
              " 'واقعا فیلم قشنگی بود فضاش خیلی طبیعی و قابل لمس بود',\n",
              " 'عالی بود',\n",
              " 'کمدی خوب',\n",
              " 'جالب نبود',\n",
              " 'عالی خیلی خنده داره',\n",
              " 'عالی',\n",
              " 'خیلی خوب بود به خصوص قسمتی که میگه هرچی خاک شماست بقای عمرحسن',\n",
              " 'خوب بود لذت بردم',\n",
              " 'فیلمی که پارسا پیروزفر و فاطمعه معتمد اریا توش بازی کنند عالیه بی شک .....',\n",
              " 'براساس واقعیت بود ولی چ فایده ک مجبوریم بسوزیم بسازیم',\n",
              " 'پارسا پیروز فر نیومد چند سال جلو ولی یوهو قوی اومد',\n",
              " 'یک فیلم عالی و بی نقص',\n",
              " 'خیلی قشنگ بود',\n",
              " 'خوب بود',\n",
              " 'عالی بود و اما پر از درد',\n",
              " 'بخاطرسپاس ازکارگردان وهمه عوامل مانند بازیگران ودر راس آنها فرمان آرای بزرگ خوشحالم که میتوانم این فیلم راببینم.مرسی فیلیمو.',\n",
              " 'بهترین فیلمی که در این چندسال دیدم... رضا درمیشیان بی نظیر بییییی نظیر.',\n",
              " 'عالی بود',\n",
              " 'حتمافیلم خوبیه وقتی پارسا پیروز فر نقش آفرینی میکنه',\n",
              " 'پارسا پیروزفر عالیه',\n",
              " '3بار دیدم ، کارگردانی ، فیلمبرداری ، موسیقی، تدوین، فیلمنامه، استاد بزرگ بهمن فرمان آرا ... همه و همه بی نظیررررر بود',\n",
              " 'قشنگ بود فیلمای اجتماعی خیلی خوبه',\n",
              " 'فیلمی که نگار جواهریان توش بازی میکنه عالیه',\n",
              " 'بی نظیر بود ',\n",
              " 'عالی بود فاطمه معتمد آریا بهترینه فیلم آموزنده ایی بود',\n",
              " 'فوق العاده زیبا و دردناک بود',\n",
              " 'بسیار عالی حرفه ای در سطح یه کشور بزرگ هم فیلمبرداری هم فیلمنامه هم انتخاب بازیگر وهمه ممنون از عوامل فیلم',\n",
              " 'عالی مخصوصا با بازی بی نظیر خانم جواهریان ',\n",
              " 'مهدویان داره تو سینمای ایران غوغا به پا میکنه',\n",
              " 'مگه میشه جواد عزتی تو فیلمی باشه عالی نباشه',\n",
              " 'وای عالی بود عالی',\n",
              " 'عالی بود، هم کارگردانی و جواد عزتی هم که حرف نداره. خسته نباشید به همه دست اندرکاران فیلم',\n",
              " 'واقعا عالی بود',\n",
              " 'عااالي',\n",
              " 'واقعا جالب و خوش ساخت بود،،خصوصا بازی دیدنی جواد عزتی',\n",
              " 'عالی بود صد درصد تماشا کنید',\n",
              " 'خیلی جالب بود حتماً ببینید ',\n",
              " 'بی نظیر ۱۰۰ هم براش کمه',\n",
              " 'داستان و نقش آفرینی جذاب عوامل، ارزش دیدن بالایی داره.',\n",
              " 'عالی بود',\n",
              " 'جواد عزتی عالی بود عالی ',\n",
              " 'عالی بود،ارزش دیدن داره،ئ جورایی واقعی بود انگار.',\n",
              " 'عاااااالی',\n",
              " 'فوق العاده بود ',\n",
              " 'عالی بود',\n",
              " 'بالاخره بعد سالهااااااااااا یه فیلم خوب پلیسی و معمایی دیدیم....عالی بود...البته از زیبایی کار کارگردان بود که تهش رو یه جورایی باز گزاشت....عاااالی بود...',\n",
              " 'بد نبود ولی بهتر میشد تموم کرد',\n",
              " 'عالییی',\n",
              " 'بازی جواد عزتی حرف نداره. دست مریزاد',\n",
              " 'مرسی کارگردانی و مرسی بازی های قوی',\n",
              " 'عالی بود خیلی تاثیرگذار و قابل تامل برای جامعه ایرانی هست احسنت به کارگردان و بازیگران توانای فیلم',\n",
              " 'خیلی خوب بود برای اولین بار فیلمی دیدم که بجای پنهان کردن مشکلی که وجود داره منطقی تفسیرش کرده بود',\n",
              " 'فیلم نامه خوب، بازیگران خوب . فیلمی دلنشین و متفاوت به دور از بازی های کلیشه ای',\n",
              " 'واقعا لذت بردم از دیدن فیلم فوق العاده بود',\n",
              " 'واقعا بهترین فیلمی هست که دیدم و بهترین بازیگرا و بهترین بازیها...واقعا مرسی',\n",
              " 'عالی بود',\n",
              " 'بسیار عالی و اموزنده در مورد ترنسهای بیگناه جامعه',\n",
              " 'خوب وتاثیر گذار',\n",
              " 'عالی بود',\n",
              " 'عالی بود با دیدی کاملا زیبا حتما ببینید',\n",
              " 'بسیار زیبا و تاثیرگذار بود.',\n",
              " 'واقعا فیلم زیبا و تاثیر گذاری بود . بازیها بسیار باور پذیر و زیبا .نکته مهم اینه که واقعا برای پدر مادرا مواجهه با این شرایط خیلی سخته . فرهنگ سازی تو این زمینه بسیار کار واجب و مهمیه .',\n",
              " 'عالی',\n",
              " 'سلام خیلی عالی بود',\n",
              " 'وای خدای من این یکی از مفهومی ترین فیلم هایی بود که تا امروز دیدم آخرای فیلم قلبم به درد اومده بود و به پهنای صورتم اشک میریختم عالی بود روح خانم فرشته طائرپور شاد و یادش گرامی خدایا خودت کمکشون کن تا از این برزخ در بیان و با آرامش زندگی کنن',\n",
              " 'بی نظیر بود تنها فیلمی که در ایران ساخته شده و به وضوح بخشی از داستان زندگی این افراد رو نشون میده',\n",
              " 'عالی',\n",
              " 'عالی بود دوسش داشتم',\n",
              " 'خیلی خوب بود ممنونم',\n",
              " 'عالی بود...فقط باید فرهنگسازی کرد.',\n",
              " 'واقعا قشنگ بود',\n",
              " 'خیلی قشنگ بود واقعیت امروزی جامعه ی ما امیدوارم بتونیم بیشتر درکشون کنیم',\n",
              " 'عالی بود',\n",
              " 'بامزه بود ',\n",
              " 'خیلی عالی بود.طنز به جا و بامزه',\n",
              " 'خیلی خوب بود',\n",
              " 'خیلی عالی بود پیشنهاد میشه حتما ببینید',\n",
              " 'عالی',\n",
              " 'عالیه توصیه میکنم حتما ببینید',\n",
              " 'عالی بود',\n",
              " 'عالییییی',\n",
              " 'عالیه ارزش وقت گذاشتن داره',\n",
              " 'وای عالی ',\n",
              " 'عالی',\n",
              " 'عالی',\n",
              " 'عالی بود',\n",
              " 'بازی بهرنگ علوی فوق العاده زیبا بود',\n",
              " 'بهرنگ علوی عالیه',\n",
              " 'خیلی داستان جدید و نویی داشت...عالی بود',\n",
              " 'قشنگ بود ارزش دیدن داره',\n",
              " 'نازنین بیاتی خیلی قشنگ بازی کرد',\n",
              " 'خوب بود فیلم مناسبی برای اوقات فراغته',\n",
              " 'عالی بود',\n",
              " 'خیلی عالی بود',\n",
              " 'خوب بود',\n",
              " 'دم سازندش گررررم',\n",
              " 'عالی',\n",
              " 'عالی بود',\n",
              " 'بسیار خوب و درست',\n",
              " 'مرگ فروشنده عالی',\n",
              " 'جالب بود',\n",
              " 'عالی بود احسنت به امید فیلم های جدیدتون',\n",
              " 'عالی']"
            ]
          },
          "metadata": {},
          "execution_count": 48
        }
      ]
    },
    {
      "cell_type": "code",
      "source": [
        "from hazm import word_tokenize\n",
        "\n",
        "\n",
        "word_token = word_tokenize(str(comment_box))\n",
        "\n",
        "\n"
      ],
      "metadata": {
        "id": "QEXjJME4rGdU"
      },
      "id": "QEXjJME4rGdU",
      "execution_count": 49,
      "outputs": []
    },
    {
      "cell_type": "code",
      "source": [
        "! pip install datasketch"
      ],
      "metadata": {
        "colab": {
          "base_uri": "https://localhost:8080/"
        },
        "id": "p1o3LL3WnQUC",
        "outputId": "837cacc2-625d-4e43-b483-cc9dc17072fc"
      },
      "id": "p1o3LL3WnQUC",
      "execution_count": 50,
      "outputs": [
        {
          "output_type": "stream",
          "name": "stdout",
          "text": [
            "Looking in indexes: https://pypi.org/simple, https://us-python.pkg.dev/colab-wheels/public/simple/\n",
            "Collecting datasketch\n",
            "  Downloading datasketch-1.5.8-py2.py3-none-any.whl (76 kB)\n",
            "\u001b[K     |████████████████████████████████| 76 kB 6.7 MB/s \n",
            "\u001b[?25hRequirement already satisfied: numpy>=1.11 in /usr/local/lib/python3.7/dist-packages (from datasketch) (1.21.6)\n",
            "Requirement already satisfied: scipy>=1.0.0 in /usr/local/lib/python3.7/dist-packages (from datasketch) (1.7.3)\n",
            "Installing collected packages: datasketch\n",
            "Successfully installed datasketch-1.5.8\n"
          ]
        }
      ]
    },
    {
      "cell_type": "markdown",
      "source": [
        "## Jacard similarity for get similarity point of must freq word with comments "
      ],
      "metadata": {
        "id": "bVPeSuwCfost"
      },
      "id": "bVPeSuwCfost"
    },
    {
      "cell_type": "code",
      "source": [
        "from datasketch import MinHash\n",
        "\n",
        "data1 = ['بازی', 'عالی','پیشنهاد','خوب', 'بود', 'عالیه','بد', 'نبود', 'فیلم']\n",
        "data2 = word_token\n",
        "\n",
        "m1, m2 = MinHash(), MinHash()\n",
        "for d in data1:\n",
        "    m1.update(d.encode('utf8'))\n",
        "for d in data2:\n",
        "    m2.update(d.encode('utf8'))\n",
        "print(\"Estimated Jaccard for data1 and data2 is\", m1.jaccard(m2))\n",
        "s1 = set(data1)\n",
        "s2 = set(data2)\n",
        "actual_jaccard = float(len(s1.intersection(s2)))/float(len(s1.union(s2)))\n",
        "print(\"Actual Jaccard for data1 and data2 is\", actual_jaccard)"
      ],
      "metadata": {
        "colab": {
          "base_uri": "https://localhost:8080/"
        },
        "id": "PQt2gqpjQcaA",
        "outputId": "a6c779bd-85bc-4870-d393-2b1163cf77ad"
      },
      "id": "PQt2gqpjQcaA",
      "execution_count": 51,
      "outputs": [
        {
          "output_type": "stream",
          "name": "stdout",
          "text": [
            "Estimated Jaccard for data1 and data2 is 0.0078125\n",
            "Actual Jaccard for data1 and data2 is 0.02122641509433962\n"
          ]
        }
      ]
    },
    {
      "cell_type": "markdown",
      "source": [
        "## Cosine Similarity for get similarity point of must freq word with comments"
      ],
      "metadata": {
        "id": "azzLJRsmgBHV"
      },
      "id": "azzLJRsmgBHV"
    },
    {
      "cell_type": "code",
      "source": [
        "from collections import Counter\n",
        "from math import sqrt\n",
        "\n",
        "def word2vec(word):\n",
        "    # count the characters in word\n",
        "    cw = Counter(word)\n",
        "    # precomputes a set of the different characters\n",
        "    sw = set(cw)\n",
        "    # precomputes the \"length\" of the word vector\n",
        "    lw = sqrt(sum(c*c for c in cw.values()))\n",
        "    return cw, sw, lw\n",
        "\n",
        "def cosdis(v1, v2):\n",
        "    # which characters are common to the two words?\n",
        "    common = v1[1].intersection(v2[1])\n",
        "    # by definition of cosine distance we have\n",
        "    return sum(v1[0][ch]*v2[0][ch] for ch in common)/v1[2]/v2[2]\n",
        "\n",
        "\n",
        "list_A = ['عالی']\n",
        "list_B = comment_box\n",
        "\n",
        "result1 = []\n",
        "\n",
        "for key in list_A:\n",
        "    for word in list_B:\n",
        "      res = cosdis(word2vec(word), word2vec(key))\n",
        "      result1.append(res)\n",
        "      print(\"The cosine similarity between : {} and : {} is: {}\".format(word, key, res*100))"
      ],
      "metadata": {
        "colab": {
          "base_uri": "https://localhost:8080/"
        },
        "id": "YXYX09Sf2opq",
        "outputId": "fe5f212f-7037-420c-9f46-73226c6a7e4c"
      },
      "id": "YXYX09Sf2opq",
      "execution_count": 52,
      "outputs": [
        {
          "output_type": "stream",
          "name": "stdout",
          "text": [
            "The cosine similarity between : خیلی قشنگه . روزگار الان و خوب به تصویر کشیده and : عالی is: 34.412360080584264\n",
            "The cosine similarity between : عالی آقای رادان and : عالی is: 71.84212081070996\n",
            "The cosine similarity between : قشنگ بود and : عالی is: 0.0\n",
            "The cosine similarity between : عالییییی and : عالی is: 75.59289460184544\n",
            "The cosine similarity between : من دیدم خیلی خفنه and : عالی is: 32.87979746107146\n",
            "The cosine similarity between : باحال بود من خوشم اومد and : عالی is: 26.72612419124244\n",
            "The cosine similarity between : فیلمی تلخ، ولی واقع گرا and : عالی is: 63.01260378126044\n",
            "The cosine similarity between : خیلی فیلم خوبی بود. پیشنهاد میشه and : عالی is: 45.456864504849484\n",
            "The cosine similarity between : خوب بود and : عالی is: 0.0\n",
            "The cosine similarity between : دلم برای رها و آرمان سوخت and : عالی is: 32.009219983224\n",
            "The cosine similarity between : خیلی عالی بود آخرش بد تموم شد and : عالی is: 38.41749099639162\n",
            "The cosine similarity between : فیلم خوبی بود and : عالی is: 32.73268353539886\n",
            "The cosine similarity between : عالییییی and : عالی is: 75.59289460184544\n",
            "The cosine similarity between : عالی بود  and : عالی is: 60.30226891555272\n",
            "The cosine similarity between : عالی بود ممنون از سازندش and : عالی is: 40.08918628686366\n",
            "The cosine similarity between : ترلان پروانه عالی بازی کرد and : عالی is: 57.15005715008572\n",
            "The cosine similarity between : خیلییییی قشنگ بود پیشنهاد میکنم حتما ببینید and : عالی is: 46.31058249214127\n",
            "The cosine similarity between : عالی بود and : عالی is: 70.71067811865474\n",
            "The cosine similarity between : فقط اون فاميلشون و جواب هاى سينا مهراد  عاليه اين فيلم ٤ بار تا حالا ديدم and : عالی is: 36.409999634640144\n",
            "The cosine similarity between : خیلی عالی بود and : عالی is: 72.98004491997617\n",
            "The cosine similarity between : عالییییییییییییییههههههههههههههههه and : عالی is: 38.477692068070375\n",
            "The cosine similarity between : عالییییییییی and : عالی is: 65.46536707079773\n",
            "The cosine similarity between : خیلی خووووب بود and : عالی is: 22.8747855498907\n",
            "The cosine similarity between : حتما توصیه میکنم ببینید and : عالی is: 34.340140987172255\n",
            "The cosine similarity between : بعد از مدتها یه فیلم قشنگ دیدم. همه عالی بودند and : عالی is: 39.08679799852858\n",
            "The cosine similarity between : واقعا فیلم قشنگی بود فضاش خیلی طبیعی و قابل لمس بود and : عالی is: 52.18624584427538\n",
            "The cosine similarity between : عالی بود and : عالی is: 70.71067811865474\n",
            "The cosine similarity between : کمدی خوب and : عالی is: 17.677669529663685\n",
            "The cosine similarity between : جالب نبود and : عالی is: 30.15113445777636\n",
            "The cosine similarity between : عالی خیلی خنده داره and : عالی is: 62.46950475544243\n",
            "The cosine similarity between : عالی and : عالی is: 100.0\n",
            "The cosine similarity between : خیلی خوب بود به خصوص قسمتی که میگه هرچی خاک شماست بقای عمرحسن and : عالی is: 31.80732125814321\n",
            "The cosine similarity between : خوب بود لذت بردم and : عالی is: 8.838834764831843\n",
            "The cosine similarity between : فیلمی که پارسا پیروزفر و فاطمعه معتمد اریا توش بازی کنند عالیه بی شک ..... and : عالی is: 45.81306810618916\n",
            "The cosine similarity between : براساس واقعیت بود ولی چ فایده ک مجبوریم بسوزیم بسازیم and : عالی is: 41.52697672499609\n",
            "The cosine similarity between : پارسا پیروز فر نیومد چند سال جلو ولی یوهو قوی اومد and : عالی is: 37.647348308289516\n",
            "The cosine similarity between : یک فیلم عالی و بی نقص and : عالی is: 53.93598899705937\n",
            "The cosine similarity between : خیلی قشنگ بود and : عالی is: 36.38034375544994\n",
            "The cosine similarity between : خوب بود and : عالی is: 0.0\n",
            "The cosine similarity between : عالی بود و اما پر از درد and : عالی is: 40.147753427348306\n",
            "The cosine similarity between : بخاطرسپاس ازکارگردان وهمه عوامل مانند بازیگران ودر راس آنها فرمان آرای بزرگ خوشحالم که میتوانم این فیلم راببینم.مرسی فیلیمو. and : عالی is: 45.04596001322997\n",
            "The cosine similarity between : بهترین فیلمی که در این چندسال دیدم... رضا درمیشیان بی نظیر بییییی نظیر. and : عالی is: 45.39545862254728\n",
            "The cosine similarity between : عالی بود and : عالی is: 70.71067811865474\n",
            "The cosine similarity between : حتمافیلم خوبیه وقتی پارسا پیروز فر نقش آفرینی میکنه and : عالی is: 38.98846627545847\n",
            "The cosine similarity between : پارسا پیروزفر عالیه and : عالی is: 57.53964555687505\n",
            "The cosine similarity between : 3بار دیدم ، کارگردانی ، فیلمبرداری ، موسیقی، تدوین، فیلمنامه، استاد بزرگ بهمن فرمان آرا ... همه و همه بی نظیررررر بود and : عالی is: 31.360753782198692\n",
            "The cosine similarity between : قشنگ بود فیلمای اجتماعی خیلی خوبه and : عالی is: 58.299883400349806\n",
            "The cosine similarity between : فیلمی که نگار جواهریان توش بازی میکنه عالیه and : عالی is: 54.82823149915702\n",
            "The cosine similarity between : بی نظیر بود  and : عالی is: 21.320071635561042\n",
            "The cosine similarity between : عالی بود فاطمه معتمد آریا بهترینه فیلم آموزنده ایی بود and : عالی is: 45.37426064865151\n",
            "The cosine similarity between : فوق العاده زیبا و دردناک بود and : عالی is: 39.131189606246316\n",
            "The cosine similarity between : بسیار عالی حرفه ای در سطح یه کشور بزرگ هم فیلمبرداری هم فیلمنامه هم انتخاب بازیگر وهمه ممنون از عوامل فیلم and : عالی is: 41.91368221424546\n",
            "The cosine similarity between : عالی مخصوصا با بازی بی نظیر خانم جواهریان  and : عالی is: 51.88745216627708\n",
            "The cosine similarity between : مهدویان داره تو سینمای ایران غوغا به پا میکنه and : عالی is: 41.90581774617469\n",
            "The cosine similarity between : مگه میشه جواد عزتی تو فیلمی باشه عالی نباشه and : عالی is: 50.60243137049899\n",
            "The cosine similarity between : وای عالی بود عالی and : عالی is: 78.08688094430303\n",
            "The cosine similarity between : عالی بود، هم کارگردانی و جواد عزتی هم که حرف نداره. خسته نباشید به همه دست اندرکاران فیلم and : عالی is: 35.4374653931171\n",
            "The cosine similarity between : واقعا عالی بود and : عالی is: 68.64064729836443\n",
            "The cosine similarity between : عااالي and : عالی is: 72.16878364870323\n",
            "The cosine similarity between : واقعا جالب و خوش ساخت بود،،خصوصا بازی دیدنی جواد عزتی and : عالی is: 44.721359549995796\n",
            "The cosine similarity between : عالی بود صد درصد تماشا کنید and : عالی is: 39.88620176087328\n",
            "The cosine similarity between : خیلی جالب بود حتماً ببینید  and : عالی is: 45.58423058385518\n",
            "The cosine similarity between : بی نظیر ۱۰۰ هم براش کمه and : عالی is: 20.22599587389726\n",
            "The cosine similarity between : داستان و نقش آفرینی جذاب عوامل، ارزش دیدن بالایی داره. and : عالی is: 51.63977794943222\n",
            "The cosine similarity between : عالی بود and : عالی is: 70.71067811865474\n",
            "The cosine similarity between : جواد عزتی عالی بود عالی  and : عالی is: 66.69729688499156\n",
            "The cosine similarity between : عالی بود،ارزش دیدن داره،ئ جورایی واقعی بود انگار. and : عالی is: 52.38227218271836\n",
            "The cosine similarity between : عاااااالی and : عالی is: 72.05766921228921\n",
            "The cosine similarity between : فوق العاده بود  and : عالی is: 38.490017945975055\n",
            "The cosine similarity between : عالی بود and : عالی is: 70.71067811865474\n",
            "The cosine similarity between : بالاخره بعد سالهااااااااااا یه فیلم خوب پلیسی و معمایی دیدیم....عالی بود...البته از زیبایی کار کارگردان بود که تهش رو یه جورایی باز گزاشت....عاااالی بود... and : عالی is: 59.41331052724881\n",
            "The cosine similarity between : بد نبود ولی بهتر میشد تموم کرد and : عالی is: 15.309310892394864\n",
            "The cosine similarity between : عالییی and : عالی is: 86.60254037844388\n",
            "The cosine similarity between : بازی جواد عزتی حرف نداره. دست مریزاد and : عالی is: 38.1385035698237\n",
            "The cosine similarity between : مرسی کارگردانی و مرسی بازی های قوی and : عالی is: 44.90132550669373\n",
            "The cosine similarity between : عالی بود خیلی تاثیرگذار و قابل تامل برای جامعه ایرانی هست احسنت به کارگردان و بازیگران توانای فیلم and : عالی is: 56.3300712149108\n",
            "The cosine similarity between : خیلی خوب بود برای اولین بار فیلمی دیدم که بجای پنهان کردن مشکلی که وجود داره منطقی تفسیرش کرده بود and : عالی is: 36.71238906694095\n",
            "The cosine similarity between : فیلم نامه خوب، بازیگران خوب . فیلمی دلنشین و متفاوت به دور از بازی های کلیشه ای and : عالی is: 44.489927853738756\n",
            "The cosine similarity between : واقعا لذت بردم از دیدن فیلم فوق العاده بود and : عالی is: 47.14045207910317\n",
            "The cosine similarity between : واقعا بهترین فیلمی هست که دیدم و بهترین بازیگرا و بهترین بازیها...واقعا مرسی and : عالی is: 46.726931351599774\n",
            "The cosine similarity between : عالی بود and : عالی is: 70.71067811865474\n",
            "The cosine similarity between : بسیار عالی و اموزنده در مورد ترنسهای بیگناه جامعه and : عالی is: 45.847465030808884\n",
            "The cosine similarity between : خوب وتاثیر گذار and : عالی is: 31.277162108561217\n",
            "The cosine similarity between : عالی بود and : عالی is: 70.71067811865474\n",
            "The cosine similarity between : عالی بود با دیدی کاملا زیبا حتما ببینید and : عالی is: 56.37345210021216\n",
            "The cosine similarity between : بسیار زیبا و تاثیرگذار بود. and : عالی is: 41.537358036784866\n",
            "The cosine similarity between : واقعا فیلم زیبا و تاثیر گذاری بود . بازیها بسیار باور پذیر و زیبا .نکته مهم اینه که واقعا برای پدر مادرا مواجهه با این شرایط خیلی سخته . فرهنگ سازی تو این زمینه بسیار کار واجب و مهمیه . and : عالی is: 42.26164350362994\n",
            "The cosine similarity between : عالی and : عالی is: 100.0\n",
            "The cosine similarity between : سلام خیلی عالی بود and : عالی is: 72.99963950884315\n",
            "The cosine similarity between : وای خدای من این یکی از مفهومی ترین فیلم هایی بود که تا امروز دیدم آخرای فیلم قلبم به درد اومده بود و به پهنای صورتم اشک میریختم عالی بود روح خانم فرشته طائرپور شاد و یادش گرامی خدایا خودت کمکشون کن تا از این برزخ در بیان و با آرامش زندگی کنن and : عالی is: 36.376535132858564\n",
            "The cosine similarity between : بی نظیر بود تنها فیلمی که در ایران ساخته شده و به وضوح بخشی از داستان زندگی این افراد رو نشون میده and : عالی is: 33.48247650912125\n",
            "The cosine similarity between : عالی and : عالی is: 100.0\n",
            "The cosine similarity between : عالی بود دوسش داشتم and : عالی is: 41.09974682633932\n",
            "The cosine similarity between : خیلی خوب بود ممنونم and : عالی is: 22.360679774997898\n",
            "The cosine similarity between : عالی بود...فقط باید فرهنگسازی کرد. and : عالی is: 44.172610429938615\n",
            "The cosine similarity between : واقعا قشنگ بود and : عالی is: 31.980107453341567\n",
            "The cosine similarity between : خیلی قشنگ بود واقعیت امروزی جامعه ی ما امیدوارم بتونیم بیشتر درکشون کنیم and : عالی is: 43.30127018922193\n",
            "The cosine similarity between : عالی بود and : عالی is: 70.71067811865474\n",
            "The cosine similarity between : بامزه بود  and : عالی is: 13.36306209562122\n",
            "The cosine similarity between : خیلی عالی بود.طنز به جا و بامزه and : عالی is: 48.24506406770077\n",
            "The cosine similarity between : خیلی خوب بود and : عالی is: 31.980107453341567\n",
            "The cosine similarity between : خیلی عالی بود پیشنهاد میشه حتما ببینید and : عالی is: 55.33167449931866\n",
            "The cosine similarity between : عالی and : عالی is: 100.0\n",
            "The cosine similarity between : عالیه توصیه میکنم حتما ببینید and : عالی is: 51.28225940683707\n",
            "The cosine similarity between : عالی بود and : عالی is: 70.71067811865474\n",
            "The cosine similarity between : عالییییی and : عالی is: 75.59289460184544\n",
            "The cosine similarity between : عالیه ارزش وقت گذاشتن داره and : عالی is: 45.95725150090289\n",
            "The cosine similarity between : وای عالی  and : عالی is: 77.45966692414834\n",
            "The cosine similarity between : عالی and : عالی is: 100.0\n",
            "The cosine similarity between : عالی and : عالی is: 100.0\n",
            "The cosine similarity between : عالی بود and : عالی is: 70.71067811865474\n",
            "The cosine similarity between : بازی بهرنگ علوی فوق العاده زیبا بود and : عالی is: 52.20368976638745\n",
            "The cosine similarity between : بهرنگ علوی عالیه and : عالی is: 68.64064729836443\n",
            "The cosine similarity between : خیلی داستان جدید و نویی داشت...عالی بود and : عالی is: 53.250074833737635\n",
            "The cosine similarity between : قشنگ بود ارزش دیدن داره and : عالی is: 20.22599587389726\n",
            "The cosine similarity between : نازنین بیاتی خیلی قشنگ بازی کرد and : عالی is: 49.26646390821466\n",
            "The cosine similarity between : خوب بود فیلم مناسبی برای اوقات فراغته and : عالی is: 41.251432366269505\n",
            "The cosine similarity between : عالی بود and : عالی is: 70.71067811865474\n",
            "The cosine similarity between : خیلی عالی بود and : عالی is: 72.98004491997617\n",
            "The cosine similarity between : خوب بود and : عالی is: 0.0\n",
            "The cosine similarity between : دم سازندش گررررم and : عالی is: 8.57492925712544\n",
            "The cosine similarity between : عالی and : عالی is: 100.0\n",
            "The cosine similarity between : عالی بود and : عالی is: 70.71067811865474\n",
            "The cosine similarity between : بسیار خوب و درست and : عالی is: 18.257418583505537\n",
            "The cosine similarity between : مرگ فروشنده عالی and : عالی is: 44.721359549995796\n",
            "The cosine similarity between : جالب بود and : عالی is: 31.622776601683793\n",
            "The cosine similarity between : عالی بود احسنت به امید فیلم های جدیدتون and : عالی is: 50.891335780798265\n",
            "The cosine similarity between : عالی and : عالی is: 100.0\n"
          ]
        }
      ]
    },
    {
      "cell_type": "code",
      "source": [
        "result1"
      ],
      "metadata": {
        "colab": {
          "base_uri": "https://localhost:8080/"
        },
        "id": "6U_b4qhTTy3h",
        "outputId": "0583b91a-34d9-4aa9-dbb3-cce0779edd1c"
      },
      "id": "6U_b4qhTTy3h",
      "execution_count": null,
      "outputs": [
        {
          "output_type": "execute_result",
          "data": {
            "text/plain": [
              "[0.34412360080584264,\n",
              " 0.7184212081070996,\n",
              " 0.0,\n",
              " 0.7559289460184544,\n",
              " 0.3287979746107146,\n",
              " 0.2672612419124244,\n",
              " 0.6301260378126043,\n",
              " 0.4545686450484948,\n",
              " 0.0,\n",
              " 0.32009219983223997,\n",
              " 0.3841749099639162,\n",
              " 0.3273268353539886,\n",
              " 0.7559289460184544,\n",
              " 0.6030226891555273,\n",
              " 0.4008918628686366,\n",
              " 0.5715005715008572,\n",
              " 0.4631058249214127,\n",
              " 0.7071067811865475,\n",
              " 0.36409999634640144,\n",
              " 0.7298004491997617,\n",
              " 0.38477692068070374,\n",
              " 0.6546536707079772,\n",
              " 0.228747855498907,\n",
              " 0.3434014098717226,\n",
              " 0.39086797998528583,\n",
              " 0.5218624584427538,\n",
              " 0.7071067811865475,\n",
              " 0.17677669529663687,\n",
              " 0.30151134457776363,\n",
              " 0.6246950475544243,\n",
              " 1.0,\n",
              " 0.3180732125814321,\n",
              " 0.08838834764831843,\n",
              " 0.45813068106189153,\n",
              " 0.4152697672499609,\n",
              " 0.37647348308289513,\n",
              " 0.5393598899705937,\n",
              " 0.36380343755449945,\n",
              " 0.0,\n",
              " 0.40147753427348304,\n",
              " 0.45045960013229974,\n",
              " 0.4539545862254728,\n",
              " 0.7071067811865475,\n",
              " 0.3898846627545847,\n",
              " 0.5753964555687505,\n",
              " 0.3136075378219869,\n",
              " 0.5829988340034981,\n",
              " 0.5482823149915702,\n",
              " 0.21320071635561041,\n",
              " 0.4537426064865151,\n",
              " 0.3913118960624632,\n",
              " 0.4191368221424546,\n",
              " 0.5188745216627708,\n",
              " 0.4190581774617469,\n",
              " 0.5060243137049899,\n",
              " 0.7808688094430304,\n",
              " 0.354374653931171,\n",
              " 0.6864064729836442,\n",
              " 0.7216878364870323,\n",
              " 0.4472135954999579,\n",
              " 0.3988620176087328,\n",
              " 0.4558423058385518,\n",
              " 0.20225995873897262,\n",
              " 0.5163977794943222,\n",
              " 0.7071067811865475,\n",
              " 0.6669729688499156,\n",
              " 0.5238227218271836,\n",
              " 0.7205766921228921,\n",
              " 0.3849001794597505,\n",
              " 0.7071067811865475,\n",
              " 0.5941331052724881,\n",
              " 0.15309310892394865,\n",
              " 0.8660254037844387,\n",
              " 0.38138503569823695,\n",
              " 0.4490132550669373,\n",
              " 0.563300712149108,\n",
              " 0.3671238906694095,\n",
              " 0.4448992785373876,\n",
              " 0.4714045207910317,\n",
              " 0.46726931351599776,\n",
              " 0.7071067811865475,\n",
              " 0.45847465030808887,\n",
              " 0.3127716210856122,\n",
              " 0.7071067811865475,\n",
              " 0.5637345210021216,\n",
              " 0.41537358036784866,\n",
              " 0.4226164350362994,\n",
              " 1.0,\n",
              " 0.7299963950884315,\n",
              " 0.3637653513285856,\n",
              " 0.3348247650912125,\n",
              " 1.0,\n",
              " 0.41099746826339323,\n",
              " 0.22360679774997896,\n",
              " 0.44172610429938614,\n",
              " 0.31980107453341566,\n",
              " 0.4330127018922193,\n",
              " 0.7071067811865475,\n",
              " 0.1336306209562122,\n",
              " 0.48245064067700766,\n",
              " 0.31980107453341566,\n",
              " 0.5533167449931866,\n",
              " 1.0,\n",
              " 0.5128225940683707,\n",
              " 0.7071067811865475,\n",
              " 0.7559289460184544,\n",
              " 0.4595725150090289,\n",
              " 0.7745966692414834,\n",
              " 1.0,\n",
              " 1.0,\n",
              " 0.7071067811865475,\n",
              " 0.5220368976638745,\n",
              " 0.6864064729836442,\n",
              " 0.5325007483373764,\n",
              " 0.20225995873897262,\n",
              " 0.4926646390821466,\n",
              " 0.4125143236626951,\n",
              " 0.7071067811865475,\n",
              " 0.7298004491997617,\n",
              " 0.0,\n",
              " 0.08574929257125441,\n",
              " 1.0,\n",
              " 0.7071067811865475,\n",
              " 0.18257418583505536,\n",
              " 0.4472135954999579,\n",
              " 0.31622776601683794,\n",
              " 0.5089133578079826,\n",
              " 1.0]"
            ]
          },
          "metadata": {},
          "execution_count": 202
        }
      ]
    },
    {
      "cell_type": "markdown",
      "source": [
        "# Now We See Cosine Similarity Have Better Result"
      ],
      "metadata": {
        "id": "oJgvhcSRgL3R"
      },
      "id": "oJgvhcSRgL3R"
    },
    {
      "cell_type": "markdown",
      "source": [
        "## Work Cosine Similarity For other weited words "
      ],
      "metadata": {
        "id": "D1ZdZeSlgawe"
      },
      "id": "D1ZdZeSlgawe"
    },
    {
      "cell_type": "code",
      "source": [
        "d_f = pd.DataFrame()"
      ],
      "metadata": {
        "id": "NV3jKRBwOPJM"
      },
      "id": "NV3jKRBwOPJM",
      "execution_count": 53,
      "outputs": []
    },
    {
      "cell_type": "code",
      "source": [
        "d_f['perfect_rate'] = result1"
      ],
      "metadata": {
        "id": "j9IldvwNPBCv"
      },
      "id": "j9IldvwNPBCv",
      "execution_count": 54,
      "outputs": []
    },
    {
      "cell_type": "code",
      "source": [
        "def word2vec(word):\n",
        "    # count the characters in word\n",
        "    cw = Counter(word)\n",
        "    # precomputes a set of the different characters\n",
        "    sw = set(cw)\n",
        "    # precomputes the \"length\" of the word vector\n",
        "    lw = sqrt(sum(c*c for c in cw.values()))\n",
        "    return cw, sw, lw\n",
        "\n",
        "def cosdis(v1, v2):\n",
        "    # which characters are common to the two words?\n",
        "    common = v1[1].intersection(v2[1])\n",
        "    # by definition of cosine distance we have\n",
        "    return sum(v1[0][ch]*v2[0][ch] for ch in common)/v1[2]/v2[2]\n",
        "\n",
        "\n",
        "list_A = ['خوب']\n",
        "list_B = comment_box\n",
        "\n",
        "result2 = []\n",
        "\n",
        "for key in list_A:\n",
        "    for word in list_B:\n",
        "      res = cosdis(word2vec(word), word2vec(key))\n",
        "      result2.append(res)\n",
        "      #print(\"The cosine similarity between : {} and : {} is: {}\".format(word, key, res*100))\n",
        "\n"
      ],
      "metadata": {
        "id": "EQGHE7wARgCc"
      },
      "id": "EQGHE7wARgCc",
      "execution_count": 55,
      "outputs": []
    },
    {
      "cell_type": "code",
      "source": [
        "d_f['good_rate'] = result2"
      ],
      "metadata": {
        "id": "m3zy2W0BS94Y"
      },
      "id": "m3zy2W0BS94Y",
      "execution_count": 56,
      "outputs": []
    },
    {
      "cell_type": "code",
      "source": [
        "def word2vec(word):\n",
        "    # count the characters in word\n",
        "    cw = Counter(word)\n",
        "    # precomputes a set of the different characters\n",
        "    sw = set(cw)\n",
        "    # precomputes the \"length\" of the word vector\n",
        "    lw = sqrt(sum(c*c for c in cw.values()))\n",
        "    return cw, sw, lw\n",
        "\n",
        "def cosdis(v1, v2):\n",
        "    # which characters are common to the two words?\n",
        "    common = v1[1].intersection(v2[1])\n",
        "    # by definition of cosine distance we have\n",
        "    return sum(v1[0][ch]*v2[0][ch] for ch in common)/v1[2]/v2[2]\n",
        "\n",
        "\n",
        "list_A = ['پیشنهاد']\n",
        "list_B = comment_box\n",
        "\n",
        "result4 = []\n",
        "\n",
        "for key in list_A:\n",
        "    for word in list_B:\n",
        "      res = cosdis(word2vec(word), word2vec(key))\n",
        "      result4.append(res)\n",
        "      #print(\"The cosine similarity between : {} and : {} is: {}\".format(word, key, res*100))\n",
        "\n"
      ],
      "metadata": {
        "id": "V26wHql3RnOz"
      },
      "id": "V26wHql3RnOz",
      "execution_count": 57,
      "outputs": []
    },
    {
      "cell_type": "code",
      "source": [
        "d_f['propose_rate'] = result4"
      ],
      "metadata": {
        "id": "xRLoxsTvTCVs"
      },
      "id": "xRLoxsTvTCVs",
      "execution_count": 58,
      "outputs": []
    },
    {
      "cell_type": "code",
      "source": [
        "def word2vec(word):\n",
        "    # count the characters in word\n",
        "    cw = Counter(word)\n",
        "    # precomputes a set of the different characters\n",
        "    sw = set(cw)\n",
        "    # precomputes the \"length\" of the word vector\n",
        "    lw = sqrt(sum(c*c for c in cw.values()))\n",
        "    return cw, sw, lw\n",
        "\n",
        "def cosdis(v1, v2):\n",
        "    # which characters are common to the two words?\n",
        "    common = v1[1].intersection(v2[1])\n",
        "    # by definition of cosine distance we have\n",
        "    return sum(v1[0][ch]*v2[0][ch] for ch in common)/v1[2]/v2[2]\n",
        "\n",
        "\n",
        "list_A = ['بد']\n",
        "list_B = comment_box\n",
        "\n",
        "result3 = []\n",
        "\n",
        "for key in list_A:\n",
        "    for word in list_B:\n",
        "      res = cosdis(word2vec(word), word2vec(key))\n",
        "      result3.append(res)\n",
        "      #print(\"The cosine similarity between : {} and : {} is: {}\".format(word, key, res*100))\n",
        "\n"
      ],
      "metadata": {
        "id": "O3LLuNoMRnLl"
      },
      "id": "O3LLuNoMRnLl",
      "execution_count": 59,
      "outputs": []
    },
    {
      "cell_type": "code",
      "source": [
        "d_f['bad_rate'] = result3"
      ],
      "metadata": {
        "id": "uCUe4BLbTGGx"
      },
      "id": "uCUe4BLbTGGx",
      "execution_count": 68,
      "outputs": []
    },
    {
      "cell_type": "code",
      "source": [
        "def word2vec(word):\n",
        "    # count the characters in word\n",
        "    cw = Counter(word)\n",
        "    # precomputes a set of the different characters\n",
        "    sw = set(cw)\n",
        "    # precomputes the \"length\" of the word vector\n",
        "    lw = sqrt(sum(c*c for c in cw.values()))\n",
        "    return cw, sw, lw\n",
        "\n",
        "def cosdis(v1, v2):\n",
        "    # which characters are common to the two words?\n",
        "    common = v1[1].intersection(v2[1])\n",
        "    # by definition of cosine distance we have\n",
        "    return sum(v1[0][ch]*v2[0][ch] for ch in common)/v1[2]/v2[2]\n",
        "\n",
        "\n",
        "list_A = ['نبود']\n",
        "list_B = comment_box\n",
        "\n",
        "result5 = []\n",
        "\n",
        "for key in list_A:\n",
        "    for word in list_B:\n",
        "      res = cosdis(word2vec(word), word2vec(key))\n",
        "      result5.append(res)\n",
        "      #print(\"The cosine similarity between : {} and : {} is: {}\".format(word, key, res*100))\n",
        "\n"
      ],
      "metadata": {
        "id": "9jew_kjLRnIr"
      },
      "id": "9jew_kjLRnIr",
      "execution_count": 60,
      "outputs": []
    },
    {
      "cell_type": "code",
      "source": [
        "d_f['not_rate'] = result5"
      ],
      "metadata": {
        "id": "l5JZtq-UTLRP"
      },
      "id": "l5JZtq-UTLRP",
      "execution_count": 61,
      "outputs": []
    },
    {
      "cell_type": "code",
      "source": [
        "def word2vec(word):\n",
        "    # count the characters in word\n",
        "    cw = Counter(word)\n",
        "    # precomputes a set of the different characters\n",
        "    sw = set(cw)\n",
        "    # precomputes the \"length\" of the word vector\n",
        "    lw = sqrt(sum(c*c for c in cw.values()))\n",
        "    return cw, sw, lw\n",
        "\n",
        "def cosdis(v1, v2):\n",
        "    # which characters are common to the two words?\n",
        "    common = v1[1].intersection(v2[1])\n",
        "    # by definition of cosine distance we have\n",
        "    return sum(v1[0][ch]*v2[0][ch] for ch in common)/v1[2]/v2[2]\n",
        "\n",
        "\n",
        "list_A = ['فیلم']\n",
        "list_B = comment_box\n",
        "\n",
        "result6 = []\n",
        "\n",
        "for key in list_A:\n",
        "    for word in list_B:\n",
        "      res = cosdis(word2vec(word), word2vec(key))\n",
        "      result6.append(res)\n",
        "     # print(\"The cosine similarity between : {} and : {} is: {}\".format(word, key, res*100))\n",
        "\n"
      ],
      "metadata": {
        "id": "yGPpPoiBRmda"
      },
      "id": "yGPpPoiBRmda",
      "execution_count": 64,
      "outputs": []
    },
    {
      "cell_type": "code",
      "source": [
        "d_f['film_rate'] = result6"
      ],
      "metadata": {
        "id": "-fsWAZ7dTPHP"
      },
      "id": "-fsWAZ7dTPHP",
      "execution_count": 65,
      "outputs": []
    },
    {
      "cell_type": "code",
      "source": [
        "def word2vec(word):\n",
        "    # count the characters in word\n",
        "    cw = Counter(word)\n",
        "    # precomputes a set of the different characters\n",
        "    sw = set(cw)\n",
        "    # precomputes the \"length\" of the word vector\n",
        "    lw = sqrt(sum(c*c for c in cw.values()))\n",
        "    return cw, sw, lw\n",
        "\n",
        "def cosdis(v1, v2):\n",
        "    # which characters are common to the two words?\n",
        "    common = v1[1].intersection(v2[1])\n",
        "    # by definition of cosine distance we have\n",
        "    return sum(v1[0][ch]*v2[0][ch] for ch in common)/v1[2]/v2[2]\n",
        "\n",
        "\n",
        "list_A = ['بازی']\n",
        "list_B = comment_box\n",
        "\n",
        "result7 = []\n",
        "\n",
        "for key in list_A:\n",
        "    for word in list_B:\n",
        "      res = cosdis(word2vec(word), word2vec(key))\n",
        "      result7.append(res)\n",
        "      #print(\"The cosine similarity between : {} and : {} is: {}\".format(word, key, res*100))\n",
        "\n",
        "d_f['roleplay_rate'] = result7"
      ],
      "metadata": {
        "id": "1zRxppcfRmaN"
      },
      "id": "1zRxppcfRmaN",
      "execution_count": 66,
      "outputs": []
    },
    {
      "cell_type": "markdown",
      "source": [
        "### I Get point of similarity for weited words and build dataframe with that"
      ],
      "metadata": {
        "id": "1bn9EfCMg-4d"
      },
      "id": "1bn9EfCMg-4d"
    },
    {
      "cell_type": "code",
      "source": [
        "d_f"
      ],
      "metadata": {
        "colab": {
          "base_uri": "https://localhost:8080/",
          "height": 424
        },
        "id": "Lg1mxGeORmXt",
        "outputId": "7f90c02b-2926-41d2-a67a-38c17196c9db"
      },
      "id": "Lg1mxGeORmXt",
      "execution_count": 70,
      "outputs": [
        {
          "output_type": "execute_result",
          "data": {
            "text/plain": [
              "     perfect_rate  good_rate  propose_rate  not_rate  film_rate  \\\n",
              "0        0.344124   0.353209      0.433555  0.344124   0.229416   \n",
              "1        0.718421   0.000000      0.543075  0.179605   0.269408   \n",
              "2        0.000000   0.408248      0.400892  0.707107   0.000000   \n",
              "3        0.755929   0.000000      0.428571  0.000000   0.566947   \n",
              "4        0.328798   0.189832      0.497096  0.328798   0.575396   \n",
              "..            ...        ...           ...       ...        ...   \n",
              "123      0.182574   0.527046      0.207020  0.456435   0.091287   \n",
              "124      0.447214   0.129099      0.507093  0.335410   0.447214   \n",
              "125      0.316228   0.547723      0.239046  0.632456   0.158114   \n",
              "126      0.508913   0.195881      0.544995  0.424094   0.424094   \n",
              "127      1.000000   0.000000      0.377964  0.000000   0.500000   \n",
              "\n",
              "     roleplay_rate  bad_rate  \n",
              "0         0.382360  0.162221  \n",
              "1         0.538816  0.127000  \n",
              "2         0.176777  0.500000  \n",
              "3         0.566947  0.000000  \n",
              "4         0.246598  0.232495  \n",
              "..             ...       ...  \n",
              "123       0.365148  0.387298  \n",
              "124       0.223607  0.158114  \n",
              "125       0.474342  0.670820  \n",
              "126       0.466504  0.359856  \n",
              "127       0.500000  0.000000  \n",
              "\n",
              "[128 rows x 7 columns]"
            ],
            "text/html": [
              "\n",
              "  <div id=\"df-bb1f4ac0-6c8c-493c-8e3d-316172676e17\">\n",
              "    <div class=\"colab-df-container\">\n",
              "      <div>\n",
              "<style scoped>\n",
              "    .dataframe tbody tr th:only-of-type {\n",
              "        vertical-align: middle;\n",
              "    }\n",
              "\n",
              "    .dataframe tbody tr th {\n",
              "        vertical-align: top;\n",
              "    }\n",
              "\n",
              "    .dataframe thead th {\n",
              "        text-align: right;\n",
              "    }\n",
              "</style>\n",
              "<table border=\"1\" class=\"dataframe\">\n",
              "  <thead>\n",
              "    <tr style=\"text-align: right;\">\n",
              "      <th></th>\n",
              "      <th>perfect_rate</th>\n",
              "      <th>good_rate</th>\n",
              "      <th>propose_rate</th>\n",
              "      <th>not_rate</th>\n",
              "      <th>film_rate</th>\n",
              "      <th>roleplay_rate</th>\n",
              "      <th>bad_rate</th>\n",
              "    </tr>\n",
              "  </thead>\n",
              "  <tbody>\n",
              "    <tr>\n",
              "      <th>0</th>\n",
              "      <td>0.344124</td>\n",
              "      <td>0.353209</td>\n",
              "      <td>0.433555</td>\n",
              "      <td>0.344124</td>\n",
              "      <td>0.229416</td>\n",
              "      <td>0.382360</td>\n",
              "      <td>0.162221</td>\n",
              "    </tr>\n",
              "    <tr>\n",
              "      <th>1</th>\n",
              "      <td>0.718421</td>\n",
              "      <td>0.000000</td>\n",
              "      <td>0.543075</td>\n",
              "      <td>0.179605</td>\n",
              "      <td>0.269408</td>\n",
              "      <td>0.538816</td>\n",
              "      <td>0.127000</td>\n",
              "    </tr>\n",
              "    <tr>\n",
              "      <th>2</th>\n",
              "      <td>0.000000</td>\n",
              "      <td>0.408248</td>\n",
              "      <td>0.400892</td>\n",
              "      <td>0.707107</td>\n",
              "      <td>0.000000</td>\n",
              "      <td>0.176777</td>\n",
              "      <td>0.500000</td>\n",
              "    </tr>\n",
              "    <tr>\n",
              "      <th>3</th>\n",
              "      <td>0.755929</td>\n",
              "      <td>0.000000</td>\n",
              "      <td>0.428571</td>\n",
              "      <td>0.000000</td>\n",
              "      <td>0.566947</td>\n",
              "      <td>0.566947</td>\n",
              "      <td>0.000000</td>\n",
              "    </tr>\n",
              "    <tr>\n",
              "      <th>4</th>\n",
              "      <td>0.328798</td>\n",
              "      <td>0.189832</td>\n",
              "      <td>0.497096</td>\n",
              "      <td>0.328798</td>\n",
              "      <td>0.575396</td>\n",
              "      <td>0.246598</td>\n",
              "      <td>0.232495</td>\n",
              "    </tr>\n",
              "    <tr>\n",
              "      <th>...</th>\n",
              "      <td>...</td>\n",
              "      <td>...</td>\n",
              "      <td>...</td>\n",
              "      <td>...</td>\n",
              "      <td>...</td>\n",
              "      <td>...</td>\n",
              "      <td>...</td>\n",
              "    </tr>\n",
              "    <tr>\n",
              "      <th>123</th>\n",
              "      <td>0.182574</td>\n",
              "      <td>0.527046</td>\n",
              "      <td>0.207020</td>\n",
              "      <td>0.456435</td>\n",
              "      <td>0.091287</td>\n",
              "      <td>0.365148</td>\n",
              "      <td>0.387298</td>\n",
              "    </tr>\n",
              "    <tr>\n",
              "      <th>124</th>\n",
              "      <td>0.447214</td>\n",
              "      <td>0.129099</td>\n",
              "      <td>0.507093</td>\n",
              "      <td>0.335410</td>\n",
              "      <td>0.447214</td>\n",
              "      <td>0.223607</td>\n",
              "      <td>0.158114</td>\n",
              "    </tr>\n",
              "    <tr>\n",
              "      <th>125</th>\n",
              "      <td>0.316228</td>\n",
              "      <td>0.547723</td>\n",
              "      <td>0.239046</td>\n",
              "      <td>0.632456</td>\n",
              "      <td>0.158114</td>\n",
              "      <td>0.474342</td>\n",
              "      <td>0.670820</td>\n",
              "    </tr>\n",
              "    <tr>\n",
              "      <th>126</th>\n",
              "      <td>0.508913</td>\n",
              "      <td>0.195881</td>\n",
              "      <td>0.544995</td>\n",
              "      <td>0.424094</td>\n",
              "      <td>0.424094</td>\n",
              "      <td>0.466504</td>\n",
              "      <td>0.359856</td>\n",
              "    </tr>\n",
              "    <tr>\n",
              "      <th>127</th>\n",
              "      <td>1.000000</td>\n",
              "      <td>0.000000</td>\n",
              "      <td>0.377964</td>\n",
              "      <td>0.000000</td>\n",
              "      <td>0.500000</td>\n",
              "      <td>0.500000</td>\n",
              "      <td>0.000000</td>\n",
              "    </tr>\n",
              "  </tbody>\n",
              "</table>\n",
              "<p>128 rows × 7 columns</p>\n",
              "</div>\n",
              "      <button class=\"colab-df-convert\" onclick=\"convertToInteractive('df-bb1f4ac0-6c8c-493c-8e3d-316172676e17')\"\n",
              "              title=\"Convert this dataframe to an interactive table.\"\n",
              "              style=\"display:none;\">\n",
              "        \n",
              "  <svg xmlns=\"http://www.w3.org/2000/svg\" height=\"24px\"viewBox=\"0 0 24 24\"\n",
              "       width=\"24px\">\n",
              "    <path d=\"M0 0h24v24H0V0z\" fill=\"none\"/>\n",
              "    <path d=\"M18.56 5.44l.94 2.06.94-2.06 2.06-.94-2.06-.94-.94-2.06-.94 2.06-2.06.94zm-11 1L8.5 8.5l.94-2.06 2.06-.94-2.06-.94L8.5 2.5l-.94 2.06-2.06.94zm10 10l.94 2.06.94-2.06 2.06-.94-2.06-.94-.94-2.06-.94 2.06-2.06.94z\"/><path d=\"M17.41 7.96l-1.37-1.37c-.4-.4-.92-.59-1.43-.59-.52 0-1.04.2-1.43.59L10.3 9.45l-7.72 7.72c-.78.78-.78 2.05 0 2.83L4 21.41c.39.39.9.59 1.41.59.51 0 1.02-.2 1.41-.59l7.78-7.78 2.81-2.81c.8-.78.8-2.07 0-2.86zM5.41 20L4 18.59l7.72-7.72 1.47 1.35L5.41 20z\"/>\n",
              "  </svg>\n",
              "      </button>\n",
              "      \n",
              "  <style>\n",
              "    .colab-df-container {\n",
              "      display:flex;\n",
              "      flex-wrap:wrap;\n",
              "      gap: 12px;\n",
              "    }\n",
              "\n",
              "    .colab-df-convert {\n",
              "      background-color: #E8F0FE;\n",
              "      border: none;\n",
              "      border-radius: 50%;\n",
              "      cursor: pointer;\n",
              "      display: none;\n",
              "      fill: #1967D2;\n",
              "      height: 32px;\n",
              "      padding: 0 0 0 0;\n",
              "      width: 32px;\n",
              "    }\n",
              "\n",
              "    .colab-df-convert:hover {\n",
              "      background-color: #E2EBFA;\n",
              "      box-shadow: 0px 1px 2px rgba(60, 64, 67, 0.3), 0px 1px 3px 1px rgba(60, 64, 67, 0.15);\n",
              "      fill: #174EA6;\n",
              "    }\n",
              "\n",
              "    [theme=dark] .colab-df-convert {\n",
              "      background-color: #3B4455;\n",
              "      fill: #D2E3FC;\n",
              "    }\n",
              "\n",
              "    [theme=dark] .colab-df-convert:hover {\n",
              "      background-color: #434B5C;\n",
              "      box-shadow: 0px 1px 3px 1px rgba(0, 0, 0, 0.15);\n",
              "      filter: drop-shadow(0px 1px 2px rgba(0, 0, 0, 0.3));\n",
              "      fill: #FFFFFF;\n",
              "    }\n",
              "  </style>\n",
              "\n",
              "      <script>\n",
              "        const buttonEl =\n",
              "          document.querySelector('#df-bb1f4ac0-6c8c-493c-8e3d-316172676e17 button.colab-df-convert');\n",
              "        buttonEl.style.display =\n",
              "          google.colab.kernel.accessAllowed ? 'block' : 'none';\n",
              "\n",
              "        async function convertToInteractive(key) {\n",
              "          const element = document.querySelector('#df-bb1f4ac0-6c8c-493c-8e3d-316172676e17');\n",
              "          const dataTable =\n",
              "            await google.colab.kernel.invokeFunction('convertToInteractive',\n",
              "                                                     [key], {});\n",
              "          if (!dataTable) return;\n",
              "\n",
              "          const docLinkHtml = 'Like what you see? Visit the ' +\n",
              "            '<a target=\"_blank\" href=https://colab.research.google.com/notebooks/data_table.ipynb>data table notebook</a>'\n",
              "            + ' to learn more about interactive tables.';\n",
              "          element.innerHTML = '';\n",
              "          dataTable['output_type'] = 'display_data';\n",
              "          await google.colab.output.renderOutput(dataTable, element);\n",
              "          const docLink = document.createElement('div');\n",
              "          docLink.innerHTML = docLinkHtml;\n",
              "          element.appendChild(docLink);\n",
              "        }\n",
              "      </script>\n",
              "    </div>\n",
              "  </div>\n",
              "  "
            ]
          },
          "metadata": {},
          "execution_count": 70
        }
      ]
    },
    {
      "cell_type": "code",
      "source": [
        "d_f['film_name'] = data['film_name']"
      ],
      "metadata": {
        "id": "n-UXXoNlRmVF"
      },
      "id": "n-UXXoNlRmVF",
      "execution_count": 71,
      "outputs": []
    },
    {
      "cell_type": "code",
      "source": [
        "d_f"
      ],
      "metadata": {
        "colab": {
          "base_uri": "https://localhost:8080/",
          "height": 424
        },
        "id": "7SPMTZYaRmQ3",
        "outputId": "d408588a-1112-4e72-d580-a098029a80d0"
      },
      "id": "7SPMTZYaRmQ3",
      "execution_count": 72,
      "outputs": [
        {
          "output_type": "execute_result",
          "data": {
            "text/plain": [
              "     perfect_rate  good_rate  propose_rate  not_rate  film_rate  \\\n",
              "0        0.344124   0.353209      0.433555  0.344124   0.229416   \n",
              "1        0.718421   0.000000      0.543075  0.179605   0.269408   \n",
              "2        0.000000   0.408248      0.400892  0.707107   0.000000   \n",
              "3        0.755929   0.000000      0.428571  0.000000   0.566947   \n",
              "4        0.328798   0.189832      0.497096  0.328798   0.575396   \n",
              "..            ...        ...           ...       ...        ...   \n",
              "123      0.182574   0.527046      0.207020  0.456435   0.091287   \n",
              "124      0.447214   0.129099      0.507093  0.335410   0.447214   \n",
              "125      0.316228   0.547723      0.239046  0.632456   0.158114   \n",
              "126      0.508913   0.195881      0.544995  0.424094   0.424094   \n",
              "127      1.000000   0.000000      0.377964  0.000000   0.500000   \n",
              "\n",
              "     roleplay_rate  bad_rate          film_name  \n",
              "0         0.382360  0.162221           BlackCat  \n",
              "1         0.538816  0.127000           BlackCat  \n",
              "2         0.176777  0.500000           BlackCat  \n",
              "3         0.566947  0.000000           BlackCat  \n",
              "4         0.246598  0.232495           BlackCat  \n",
              "..             ...       ...                ...  \n",
              "123       0.365148  0.387298  Death_of_Salesman  \n",
              "124       0.223607  0.158114  Death_of_Salesman  \n",
              "125       0.474342  0.670820  Death_of_Salesman  \n",
              "126       0.466504  0.359856  Death_of_Salesman  \n",
              "127       0.500000  0.000000  Death_of_Salesman  \n",
              "\n",
              "[128 rows x 8 columns]"
            ],
            "text/html": [
              "\n",
              "  <div id=\"df-6f1e4a4e-006f-4709-8ad9-8e5bdb292bed\">\n",
              "    <div class=\"colab-df-container\">\n",
              "      <div>\n",
              "<style scoped>\n",
              "    .dataframe tbody tr th:only-of-type {\n",
              "        vertical-align: middle;\n",
              "    }\n",
              "\n",
              "    .dataframe tbody tr th {\n",
              "        vertical-align: top;\n",
              "    }\n",
              "\n",
              "    .dataframe thead th {\n",
              "        text-align: right;\n",
              "    }\n",
              "</style>\n",
              "<table border=\"1\" class=\"dataframe\">\n",
              "  <thead>\n",
              "    <tr style=\"text-align: right;\">\n",
              "      <th></th>\n",
              "      <th>perfect_rate</th>\n",
              "      <th>good_rate</th>\n",
              "      <th>propose_rate</th>\n",
              "      <th>not_rate</th>\n",
              "      <th>film_rate</th>\n",
              "      <th>roleplay_rate</th>\n",
              "      <th>bad_rate</th>\n",
              "      <th>film_name</th>\n",
              "    </tr>\n",
              "  </thead>\n",
              "  <tbody>\n",
              "    <tr>\n",
              "      <th>0</th>\n",
              "      <td>0.344124</td>\n",
              "      <td>0.353209</td>\n",
              "      <td>0.433555</td>\n",
              "      <td>0.344124</td>\n",
              "      <td>0.229416</td>\n",
              "      <td>0.382360</td>\n",
              "      <td>0.162221</td>\n",
              "      <td>BlackCat</td>\n",
              "    </tr>\n",
              "    <tr>\n",
              "      <th>1</th>\n",
              "      <td>0.718421</td>\n",
              "      <td>0.000000</td>\n",
              "      <td>0.543075</td>\n",
              "      <td>0.179605</td>\n",
              "      <td>0.269408</td>\n",
              "      <td>0.538816</td>\n",
              "      <td>0.127000</td>\n",
              "      <td>BlackCat</td>\n",
              "    </tr>\n",
              "    <tr>\n",
              "      <th>2</th>\n",
              "      <td>0.000000</td>\n",
              "      <td>0.408248</td>\n",
              "      <td>0.400892</td>\n",
              "      <td>0.707107</td>\n",
              "      <td>0.000000</td>\n",
              "      <td>0.176777</td>\n",
              "      <td>0.500000</td>\n",
              "      <td>BlackCat</td>\n",
              "    </tr>\n",
              "    <tr>\n",
              "      <th>3</th>\n",
              "      <td>0.755929</td>\n",
              "      <td>0.000000</td>\n",
              "      <td>0.428571</td>\n",
              "      <td>0.000000</td>\n",
              "      <td>0.566947</td>\n",
              "      <td>0.566947</td>\n",
              "      <td>0.000000</td>\n",
              "      <td>BlackCat</td>\n",
              "    </tr>\n",
              "    <tr>\n",
              "      <th>4</th>\n",
              "      <td>0.328798</td>\n",
              "      <td>0.189832</td>\n",
              "      <td>0.497096</td>\n",
              "      <td>0.328798</td>\n",
              "      <td>0.575396</td>\n",
              "      <td>0.246598</td>\n",
              "      <td>0.232495</td>\n",
              "      <td>BlackCat</td>\n",
              "    </tr>\n",
              "    <tr>\n",
              "      <th>...</th>\n",
              "      <td>...</td>\n",
              "      <td>...</td>\n",
              "      <td>...</td>\n",
              "      <td>...</td>\n",
              "      <td>...</td>\n",
              "      <td>...</td>\n",
              "      <td>...</td>\n",
              "      <td>...</td>\n",
              "    </tr>\n",
              "    <tr>\n",
              "      <th>123</th>\n",
              "      <td>0.182574</td>\n",
              "      <td>0.527046</td>\n",
              "      <td>0.207020</td>\n",
              "      <td>0.456435</td>\n",
              "      <td>0.091287</td>\n",
              "      <td>0.365148</td>\n",
              "      <td>0.387298</td>\n",
              "      <td>Death_of_Salesman</td>\n",
              "    </tr>\n",
              "    <tr>\n",
              "      <th>124</th>\n",
              "      <td>0.447214</td>\n",
              "      <td>0.129099</td>\n",
              "      <td>0.507093</td>\n",
              "      <td>0.335410</td>\n",
              "      <td>0.447214</td>\n",
              "      <td>0.223607</td>\n",
              "      <td>0.158114</td>\n",
              "      <td>Death_of_Salesman</td>\n",
              "    </tr>\n",
              "    <tr>\n",
              "      <th>125</th>\n",
              "      <td>0.316228</td>\n",
              "      <td>0.547723</td>\n",
              "      <td>0.239046</td>\n",
              "      <td>0.632456</td>\n",
              "      <td>0.158114</td>\n",
              "      <td>0.474342</td>\n",
              "      <td>0.670820</td>\n",
              "      <td>Death_of_Salesman</td>\n",
              "    </tr>\n",
              "    <tr>\n",
              "      <th>126</th>\n",
              "      <td>0.508913</td>\n",
              "      <td>0.195881</td>\n",
              "      <td>0.544995</td>\n",
              "      <td>0.424094</td>\n",
              "      <td>0.424094</td>\n",
              "      <td>0.466504</td>\n",
              "      <td>0.359856</td>\n",
              "      <td>Death_of_Salesman</td>\n",
              "    </tr>\n",
              "    <tr>\n",
              "      <th>127</th>\n",
              "      <td>1.000000</td>\n",
              "      <td>0.000000</td>\n",
              "      <td>0.377964</td>\n",
              "      <td>0.000000</td>\n",
              "      <td>0.500000</td>\n",
              "      <td>0.500000</td>\n",
              "      <td>0.000000</td>\n",
              "      <td>Death_of_Salesman</td>\n",
              "    </tr>\n",
              "  </tbody>\n",
              "</table>\n",
              "<p>128 rows × 8 columns</p>\n",
              "</div>\n",
              "      <button class=\"colab-df-convert\" onclick=\"convertToInteractive('df-6f1e4a4e-006f-4709-8ad9-8e5bdb292bed')\"\n",
              "              title=\"Convert this dataframe to an interactive table.\"\n",
              "              style=\"display:none;\">\n",
              "        \n",
              "  <svg xmlns=\"http://www.w3.org/2000/svg\" height=\"24px\"viewBox=\"0 0 24 24\"\n",
              "       width=\"24px\">\n",
              "    <path d=\"M0 0h24v24H0V0z\" fill=\"none\"/>\n",
              "    <path d=\"M18.56 5.44l.94 2.06.94-2.06 2.06-.94-2.06-.94-.94-2.06-.94 2.06-2.06.94zm-11 1L8.5 8.5l.94-2.06 2.06-.94-2.06-.94L8.5 2.5l-.94 2.06-2.06.94zm10 10l.94 2.06.94-2.06 2.06-.94-2.06-.94-.94-2.06-.94 2.06-2.06.94z\"/><path d=\"M17.41 7.96l-1.37-1.37c-.4-.4-.92-.59-1.43-.59-.52 0-1.04.2-1.43.59L10.3 9.45l-7.72 7.72c-.78.78-.78 2.05 0 2.83L4 21.41c.39.39.9.59 1.41.59.51 0 1.02-.2 1.41-.59l7.78-7.78 2.81-2.81c.8-.78.8-2.07 0-2.86zM5.41 20L4 18.59l7.72-7.72 1.47 1.35L5.41 20z\"/>\n",
              "  </svg>\n",
              "      </button>\n",
              "      \n",
              "  <style>\n",
              "    .colab-df-container {\n",
              "      display:flex;\n",
              "      flex-wrap:wrap;\n",
              "      gap: 12px;\n",
              "    }\n",
              "\n",
              "    .colab-df-convert {\n",
              "      background-color: #E8F0FE;\n",
              "      border: none;\n",
              "      border-radius: 50%;\n",
              "      cursor: pointer;\n",
              "      display: none;\n",
              "      fill: #1967D2;\n",
              "      height: 32px;\n",
              "      padding: 0 0 0 0;\n",
              "      width: 32px;\n",
              "    }\n",
              "\n",
              "    .colab-df-convert:hover {\n",
              "      background-color: #E2EBFA;\n",
              "      box-shadow: 0px 1px 2px rgba(60, 64, 67, 0.3), 0px 1px 3px 1px rgba(60, 64, 67, 0.15);\n",
              "      fill: #174EA6;\n",
              "    }\n",
              "\n",
              "    [theme=dark] .colab-df-convert {\n",
              "      background-color: #3B4455;\n",
              "      fill: #D2E3FC;\n",
              "    }\n",
              "\n",
              "    [theme=dark] .colab-df-convert:hover {\n",
              "      background-color: #434B5C;\n",
              "      box-shadow: 0px 1px 3px 1px rgba(0, 0, 0, 0.15);\n",
              "      filter: drop-shadow(0px 1px 2px rgba(0, 0, 0, 0.3));\n",
              "      fill: #FFFFFF;\n",
              "    }\n",
              "  </style>\n",
              "\n",
              "      <script>\n",
              "        const buttonEl =\n",
              "          document.querySelector('#df-6f1e4a4e-006f-4709-8ad9-8e5bdb292bed button.colab-df-convert');\n",
              "        buttonEl.style.display =\n",
              "          google.colab.kernel.accessAllowed ? 'block' : 'none';\n",
              "\n",
              "        async function convertToInteractive(key) {\n",
              "          const element = document.querySelector('#df-6f1e4a4e-006f-4709-8ad9-8e5bdb292bed');\n",
              "          const dataTable =\n",
              "            await google.colab.kernel.invokeFunction('convertToInteractive',\n",
              "                                                     [key], {});\n",
              "          if (!dataTable) return;\n",
              "\n",
              "          const docLinkHtml = 'Like what you see? Visit the ' +\n",
              "            '<a target=\"_blank\" href=https://colab.research.google.com/notebooks/data_table.ipynb>data table notebook</a>'\n",
              "            + ' to learn more about interactive tables.';\n",
              "          element.innerHTML = '';\n",
              "          dataTable['output_type'] = 'display_data';\n",
              "          await google.colab.output.renderOutput(dataTable, element);\n",
              "          const docLink = document.createElement('div');\n",
              "          docLink.innerHTML = docLinkHtml;\n",
              "          element.appendChild(docLink);\n",
              "        }\n",
              "      </script>\n",
              "    </div>\n",
              "  </div>\n",
              "  "
            ]
          },
          "metadata": {},
          "execution_count": 72
        }
      ]
    },
    {
      "cell_type": "code",
      "source": [
        "d_f['comment'] = data['clean_comment']"
      ],
      "metadata": {
        "id": "9Wo26F9WRmOV"
      },
      "id": "9Wo26F9WRmOV",
      "execution_count": 73,
      "outputs": []
    },
    {
      "cell_type": "code",
      "source": [
        "df = d_f"
      ],
      "metadata": {
        "id": "e8tjFdBQRmMF"
      },
      "id": "e8tjFdBQRmMF",
      "execution_count": 74,
      "outputs": []
    },
    {
      "cell_type": "code",
      "source": [
        "df.head()"
      ],
      "metadata": {
        "colab": {
          "base_uri": "https://localhost:8080/",
          "height": 206
        },
        "id": "sHUD4jiTRmJv",
        "outputId": "3c69a68a-d628-484a-8d90-f9ed50093abf"
      },
      "id": "sHUD4jiTRmJv",
      "execution_count": 75,
      "outputs": [
        {
          "output_type": "execute_result",
          "data": {
            "text/plain": [
              "   perfect_rate  good_rate  propose_rate  not_rate  film_rate  roleplay_rate  \\\n",
              "0      0.344124   0.353209      0.433555  0.344124   0.229416       0.382360   \n",
              "1      0.718421   0.000000      0.543075  0.179605   0.269408       0.538816   \n",
              "2      0.000000   0.408248      0.400892  0.707107   0.000000       0.176777   \n",
              "3      0.755929   0.000000      0.428571  0.000000   0.566947       0.566947   \n",
              "4      0.328798   0.189832      0.497096  0.328798   0.575396       0.246598   \n",
              "\n",
              "   bad_rate film_name                                        comment  \n",
              "0  0.162221  BlackCat  خیلی قشنگه . روزگار الان و خوب به تصویر کشیده  \n",
              "1  0.127000  BlackCat                                عالی آقای رادان  \n",
              "2  0.500000  BlackCat                                       قشنگ بود  \n",
              "3  0.000000  BlackCat                                       عالییییی  \n",
              "4  0.232495  BlackCat                              من دیدم خیلی خفنه  "
            ],
            "text/html": [
              "\n",
              "  <div id=\"df-14df51da-57ac-4015-9bf9-b204395da547\">\n",
              "    <div class=\"colab-df-container\">\n",
              "      <div>\n",
              "<style scoped>\n",
              "    .dataframe tbody tr th:only-of-type {\n",
              "        vertical-align: middle;\n",
              "    }\n",
              "\n",
              "    .dataframe tbody tr th {\n",
              "        vertical-align: top;\n",
              "    }\n",
              "\n",
              "    .dataframe thead th {\n",
              "        text-align: right;\n",
              "    }\n",
              "</style>\n",
              "<table border=\"1\" class=\"dataframe\">\n",
              "  <thead>\n",
              "    <tr style=\"text-align: right;\">\n",
              "      <th></th>\n",
              "      <th>perfect_rate</th>\n",
              "      <th>good_rate</th>\n",
              "      <th>propose_rate</th>\n",
              "      <th>not_rate</th>\n",
              "      <th>film_rate</th>\n",
              "      <th>roleplay_rate</th>\n",
              "      <th>bad_rate</th>\n",
              "      <th>film_name</th>\n",
              "      <th>comment</th>\n",
              "    </tr>\n",
              "  </thead>\n",
              "  <tbody>\n",
              "    <tr>\n",
              "      <th>0</th>\n",
              "      <td>0.344124</td>\n",
              "      <td>0.353209</td>\n",
              "      <td>0.433555</td>\n",
              "      <td>0.344124</td>\n",
              "      <td>0.229416</td>\n",
              "      <td>0.382360</td>\n",
              "      <td>0.162221</td>\n",
              "      <td>BlackCat</td>\n",
              "      <td>خیلی قشنگه . روزگار الان و خوب به تصویر کشیده</td>\n",
              "    </tr>\n",
              "    <tr>\n",
              "      <th>1</th>\n",
              "      <td>0.718421</td>\n",
              "      <td>0.000000</td>\n",
              "      <td>0.543075</td>\n",
              "      <td>0.179605</td>\n",
              "      <td>0.269408</td>\n",
              "      <td>0.538816</td>\n",
              "      <td>0.127000</td>\n",
              "      <td>BlackCat</td>\n",
              "      <td>عالی آقای رادان</td>\n",
              "    </tr>\n",
              "    <tr>\n",
              "      <th>2</th>\n",
              "      <td>0.000000</td>\n",
              "      <td>0.408248</td>\n",
              "      <td>0.400892</td>\n",
              "      <td>0.707107</td>\n",
              "      <td>0.000000</td>\n",
              "      <td>0.176777</td>\n",
              "      <td>0.500000</td>\n",
              "      <td>BlackCat</td>\n",
              "      <td>قشنگ بود</td>\n",
              "    </tr>\n",
              "    <tr>\n",
              "      <th>3</th>\n",
              "      <td>0.755929</td>\n",
              "      <td>0.000000</td>\n",
              "      <td>0.428571</td>\n",
              "      <td>0.000000</td>\n",
              "      <td>0.566947</td>\n",
              "      <td>0.566947</td>\n",
              "      <td>0.000000</td>\n",
              "      <td>BlackCat</td>\n",
              "      <td>عالییییی</td>\n",
              "    </tr>\n",
              "    <tr>\n",
              "      <th>4</th>\n",
              "      <td>0.328798</td>\n",
              "      <td>0.189832</td>\n",
              "      <td>0.497096</td>\n",
              "      <td>0.328798</td>\n",
              "      <td>0.575396</td>\n",
              "      <td>0.246598</td>\n",
              "      <td>0.232495</td>\n",
              "      <td>BlackCat</td>\n",
              "      <td>من دیدم خیلی خفنه</td>\n",
              "    </tr>\n",
              "  </tbody>\n",
              "</table>\n",
              "</div>\n",
              "      <button class=\"colab-df-convert\" onclick=\"convertToInteractive('df-14df51da-57ac-4015-9bf9-b204395da547')\"\n",
              "              title=\"Convert this dataframe to an interactive table.\"\n",
              "              style=\"display:none;\">\n",
              "        \n",
              "  <svg xmlns=\"http://www.w3.org/2000/svg\" height=\"24px\"viewBox=\"0 0 24 24\"\n",
              "       width=\"24px\">\n",
              "    <path d=\"M0 0h24v24H0V0z\" fill=\"none\"/>\n",
              "    <path d=\"M18.56 5.44l.94 2.06.94-2.06 2.06-.94-2.06-.94-.94-2.06-.94 2.06-2.06.94zm-11 1L8.5 8.5l.94-2.06 2.06-.94-2.06-.94L8.5 2.5l-.94 2.06-2.06.94zm10 10l.94 2.06.94-2.06 2.06-.94-2.06-.94-.94-2.06-.94 2.06-2.06.94z\"/><path d=\"M17.41 7.96l-1.37-1.37c-.4-.4-.92-.59-1.43-.59-.52 0-1.04.2-1.43.59L10.3 9.45l-7.72 7.72c-.78.78-.78 2.05 0 2.83L4 21.41c.39.39.9.59 1.41.59.51 0 1.02-.2 1.41-.59l7.78-7.78 2.81-2.81c.8-.78.8-2.07 0-2.86zM5.41 20L4 18.59l7.72-7.72 1.47 1.35L5.41 20z\"/>\n",
              "  </svg>\n",
              "      </button>\n",
              "      \n",
              "  <style>\n",
              "    .colab-df-container {\n",
              "      display:flex;\n",
              "      flex-wrap:wrap;\n",
              "      gap: 12px;\n",
              "    }\n",
              "\n",
              "    .colab-df-convert {\n",
              "      background-color: #E8F0FE;\n",
              "      border: none;\n",
              "      border-radius: 50%;\n",
              "      cursor: pointer;\n",
              "      display: none;\n",
              "      fill: #1967D2;\n",
              "      height: 32px;\n",
              "      padding: 0 0 0 0;\n",
              "      width: 32px;\n",
              "    }\n",
              "\n",
              "    .colab-df-convert:hover {\n",
              "      background-color: #E2EBFA;\n",
              "      box-shadow: 0px 1px 2px rgba(60, 64, 67, 0.3), 0px 1px 3px 1px rgba(60, 64, 67, 0.15);\n",
              "      fill: #174EA6;\n",
              "    }\n",
              "\n",
              "    [theme=dark] .colab-df-convert {\n",
              "      background-color: #3B4455;\n",
              "      fill: #D2E3FC;\n",
              "    }\n",
              "\n",
              "    [theme=dark] .colab-df-convert:hover {\n",
              "      background-color: #434B5C;\n",
              "      box-shadow: 0px 1px 3px 1px rgba(0, 0, 0, 0.15);\n",
              "      filter: drop-shadow(0px 1px 2px rgba(0, 0, 0, 0.3));\n",
              "      fill: #FFFFFF;\n",
              "    }\n",
              "  </style>\n",
              "\n",
              "      <script>\n",
              "        const buttonEl =\n",
              "          document.querySelector('#df-14df51da-57ac-4015-9bf9-b204395da547 button.colab-df-convert');\n",
              "        buttonEl.style.display =\n",
              "          google.colab.kernel.accessAllowed ? 'block' : 'none';\n",
              "\n",
              "        async function convertToInteractive(key) {\n",
              "          const element = document.querySelector('#df-14df51da-57ac-4015-9bf9-b204395da547');\n",
              "          const dataTable =\n",
              "            await google.colab.kernel.invokeFunction('convertToInteractive',\n",
              "                                                     [key], {});\n",
              "          if (!dataTable) return;\n",
              "\n",
              "          const docLinkHtml = 'Like what you see? Visit the ' +\n",
              "            '<a target=\"_blank\" href=https://colab.research.google.com/notebooks/data_table.ipynb>data table notebook</a>'\n",
              "            + ' to learn more about interactive tables.';\n",
              "          element.innerHTML = '';\n",
              "          dataTable['output_type'] = 'display_data';\n",
              "          await google.colab.output.renderOutput(dataTable, element);\n",
              "          const docLink = document.createElement('div');\n",
              "          docLink.innerHTML = docLinkHtml;\n",
              "          element.appendChild(docLink);\n",
              "        }\n",
              "      </script>\n",
              "    </div>\n",
              "  </div>\n",
              "  "
            ]
          },
          "metadata": {},
          "execution_count": 75
        }
      ]
    },
    {
      "cell_type": "code",
      "source": [
        "df = df[['comment', 'film_name', 'roleplay_rate', 'film_rate', 'not_rate', 'bad_rate', 'propose_rate', 'good_rate', 'perfect_rate']]"
      ],
      "metadata": {
        "id": "0qdPdqReRmHg"
      },
      "id": "0qdPdqReRmHg",
      "execution_count": 76,
      "outputs": []
    },
    {
      "cell_type": "markdown",
      "source": [
        "### Now We have New DataFrame with comments, film_name label and points of similariy must weighted words for each comments"
      ],
      "metadata": {
        "id": "ovB3NAnGhWmk"
      },
      "id": "ovB3NAnGhWmk"
    },
    {
      "cell_type": "code",
      "source": [
        "df.head(10)"
      ],
      "metadata": {
        "colab": {
          "base_uri": "https://localhost:8080/",
          "height": 363
        },
        "id": "dM6ZMIkNRmE7",
        "outputId": "619f1748-1fd4-4c55-a75c-ad1e545b203f"
      },
      "id": "dM6ZMIkNRmE7",
      "execution_count": 78,
      "outputs": [
        {
          "output_type": "execute_result",
          "data": {
            "text/plain": [
              "                                         comment film_name  roleplay_rate  \\\n",
              "0  خیلی قشنگه . روزگار الان و خوب به تصویر کشیده  BlackCat       0.382360   \n",
              "1                                عالی آقای رادان  BlackCat       0.538816   \n",
              "2                                       قشنگ بود  BlackCat       0.176777   \n",
              "3                                       عالییییی  BlackCat       0.566947   \n",
              "4                              من دیدم خیلی خفنه  BlackCat       0.246598   \n",
              "5                         باحال بود من خوشم اومد  BlackCat       0.334077   \n",
              "6                        فیلمی تلخ، ولی واقع گرا  BlackCat       0.350070   \n",
              "7               خیلی فیلم خوبی بود. پیشنهاد میشه  BlackCat       0.454569   \n",
              "8                                        خوب بود  BlackCat       0.301511   \n",
              "9                      دلم برای رها و آرمان سوخت  BlackCat       0.320092   \n",
              "\n",
              "   film_rate  not_rate  bad_rate  propose_rate  good_rate  perfect_rate  \n",
              "0   0.229416  0.344124  0.162221      0.433555   0.353209      0.344124  \n",
              "1   0.269408  0.179605  0.127000      0.543075   0.000000      0.718421  \n",
              "2   0.000000  0.707107  0.500000      0.400892   0.408248      0.000000  \n",
              "3   0.566947  0.000000  0.000000      0.428571   0.000000      0.755929  \n",
              "4   0.575396  0.328798  0.232495      0.497096   0.189832      0.328798  \n",
              "5   0.267261  0.534522  0.377964      0.353553   0.462910      0.267261  \n",
              "6   0.560112  0.140028  0.000000      0.264628   0.242536      0.630126  \n",
              "7   0.555584  0.353553  0.285714      0.572703   0.349927      0.454569  \n",
              "8   0.000000  0.753778  0.639602      0.113961   0.870388      0.000000  \n",
              "9   0.256074  0.320092  0.181071      0.338754   0.295689      0.320092  "
            ],
            "text/html": [
              "\n",
              "  <div id=\"df-1bf0f5a7-199c-4c1c-b780-df3214921789\">\n",
              "    <div class=\"colab-df-container\">\n",
              "      <div>\n",
              "<style scoped>\n",
              "    .dataframe tbody tr th:only-of-type {\n",
              "        vertical-align: middle;\n",
              "    }\n",
              "\n",
              "    .dataframe tbody tr th {\n",
              "        vertical-align: top;\n",
              "    }\n",
              "\n",
              "    .dataframe thead th {\n",
              "        text-align: right;\n",
              "    }\n",
              "</style>\n",
              "<table border=\"1\" class=\"dataframe\">\n",
              "  <thead>\n",
              "    <tr style=\"text-align: right;\">\n",
              "      <th></th>\n",
              "      <th>comment</th>\n",
              "      <th>film_name</th>\n",
              "      <th>roleplay_rate</th>\n",
              "      <th>film_rate</th>\n",
              "      <th>not_rate</th>\n",
              "      <th>bad_rate</th>\n",
              "      <th>propose_rate</th>\n",
              "      <th>good_rate</th>\n",
              "      <th>perfect_rate</th>\n",
              "    </tr>\n",
              "  </thead>\n",
              "  <tbody>\n",
              "    <tr>\n",
              "      <th>0</th>\n",
              "      <td>خیلی قشنگه . روزگار الان و خوب به تصویر کشیده</td>\n",
              "      <td>BlackCat</td>\n",
              "      <td>0.382360</td>\n",
              "      <td>0.229416</td>\n",
              "      <td>0.344124</td>\n",
              "      <td>0.162221</td>\n",
              "      <td>0.433555</td>\n",
              "      <td>0.353209</td>\n",
              "      <td>0.344124</td>\n",
              "    </tr>\n",
              "    <tr>\n",
              "      <th>1</th>\n",
              "      <td>عالی آقای رادان</td>\n",
              "      <td>BlackCat</td>\n",
              "      <td>0.538816</td>\n",
              "      <td>0.269408</td>\n",
              "      <td>0.179605</td>\n",
              "      <td>0.127000</td>\n",
              "      <td>0.543075</td>\n",
              "      <td>0.000000</td>\n",
              "      <td>0.718421</td>\n",
              "    </tr>\n",
              "    <tr>\n",
              "      <th>2</th>\n",
              "      <td>قشنگ بود</td>\n",
              "      <td>BlackCat</td>\n",
              "      <td>0.176777</td>\n",
              "      <td>0.000000</td>\n",
              "      <td>0.707107</td>\n",
              "      <td>0.500000</td>\n",
              "      <td>0.400892</td>\n",
              "      <td>0.408248</td>\n",
              "      <td>0.000000</td>\n",
              "    </tr>\n",
              "    <tr>\n",
              "      <th>3</th>\n",
              "      <td>عالییییی</td>\n",
              "      <td>BlackCat</td>\n",
              "      <td>0.566947</td>\n",
              "      <td>0.566947</td>\n",
              "      <td>0.000000</td>\n",
              "      <td>0.000000</td>\n",
              "      <td>0.428571</td>\n",
              "      <td>0.000000</td>\n",
              "      <td>0.755929</td>\n",
              "    </tr>\n",
              "    <tr>\n",
              "      <th>4</th>\n",
              "      <td>من دیدم خیلی خفنه</td>\n",
              "      <td>BlackCat</td>\n",
              "      <td>0.246598</td>\n",
              "      <td>0.575396</td>\n",
              "      <td>0.328798</td>\n",
              "      <td>0.232495</td>\n",
              "      <td>0.497096</td>\n",
              "      <td>0.189832</td>\n",
              "      <td>0.328798</td>\n",
              "    </tr>\n",
              "    <tr>\n",
              "      <th>5</th>\n",
              "      <td>باحال بود من خوشم اومد</td>\n",
              "      <td>BlackCat</td>\n",
              "      <td>0.334077</td>\n",
              "      <td>0.267261</td>\n",
              "      <td>0.534522</td>\n",
              "      <td>0.377964</td>\n",
              "      <td>0.353553</td>\n",
              "      <td>0.462910</td>\n",
              "      <td>0.267261</td>\n",
              "    </tr>\n",
              "    <tr>\n",
              "      <th>6</th>\n",
              "      <td>فیلمی تلخ، ولی واقع گرا</td>\n",
              "      <td>BlackCat</td>\n",
              "      <td>0.350070</td>\n",
              "      <td>0.560112</td>\n",
              "      <td>0.140028</td>\n",
              "      <td>0.000000</td>\n",
              "      <td>0.264628</td>\n",
              "      <td>0.242536</td>\n",
              "      <td>0.630126</td>\n",
              "    </tr>\n",
              "    <tr>\n",
              "      <th>7</th>\n",
              "      <td>خیلی فیلم خوبی بود. پیشنهاد میشه</td>\n",
              "      <td>BlackCat</td>\n",
              "      <td>0.454569</td>\n",
              "      <td>0.555584</td>\n",
              "      <td>0.353553</td>\n",
              "      <td>0.285714</td>\n",
              "      <td>0.572703</td>\n",
              "      <td>0.349927</td>\n",
              "      <td>0.454569</td>\n",
              "    </tr>\n",
              "    <tr>\n",
              "      <th>8</th>\n",
              "      <td>خوب بود</td>\n",
              "      <td>BlackCat</td>\n",
              "      <td>0.301511</td>\n",
              "      <td>0.000000</td>\n",
              "      <td>0.753778</td>\n",
              "      <td>0.639602</td>\n",
              "      <td>0.113961</td>\n",
              "      <td>0.870388</td>\n",
              "      <td>0.000000</td>\n",
              "    </tr>\n",
              "    <tr>\n",
              "      <th>9</th>\n",
              "      <td>دلم برای رها و آرمان سوخت</td>\n",
              "      <td>BlackCat</td>\n",
              "      <td>0.320092</td>\n",
              "      <td>0.256074</td>\n",
              "      <td>0.320092</td>\n",
              "      <td>0.181071</td>\n",
              "      <td>0.338754</td>\n",
              "      <td>0.295689</td>\n",
              "      <td>0.320092</td>\n",
              "    </tr>\n",
              "  </tbody>\n",
              "</table>\n",
              "</div>\n",
              "      <button class=\"colab-df-convert\" onclick=\"convertToInteractive('df-1bf0f5a7-199c-4c1c-b780-df3214921789')\"\n",
              "              title=\"Convert this dataframe to an interactive table.\"\n",
              "              style=\"display:none;\">\n",
              "        \n",
              "  <svg xmlns=\"http://www.w3.org/2000/svg\" height=\"24px\"viewBox=\"0 0 24 24\"\n",
              "       width=\"24px\">\n",
              "    <path d=\"M0 0h24v24H0V0z\" fill=\"none\"/>\n",
              "    <path d=\"M18.56 5.44l.94 2.06.94-2.06 2.06-.94-2.06-.94-.94-2.06-.94 2.06-2.06.94zm-11 1L8.5 8.5l.94-2.06 2.06-.94-2.06-.94L8.5 2.5l-.94 2.06-2.06.94zm10 10l.94 2.06.94-2.06 2.06-.94-2.06-.94-.94-2.06-.94 2.06-2.06.94z\"/><path d=\"M17.41 7.96l-1.37-1.37c-.4-.4-.92-.59-1.43-.59-.52 0-1.04.2-1.43.59L10.3 9.45l-7.72 7.72c-.78.78-.78 2.05 0 2.83L4 21.41c.39.39.9.59 1.41.59.51 0 1.02-.2 1.41-.59l7.78-7.78 2.81-2.81c.8-.78.8-2.07 0-2.86zM5.41 20L4 18.59l7.72-7.72 1.47 1.35L5.41 20z\"/>\n",
              "  </svg>\n",
              "      </button>\n",
              "      \n",
              "  <style>\n",
              "    .colab-df-container {\n",
              "      display:flex;\n",
              "      flex-wrap:wrap;\n",
              "      gap: 12px;\n",
              "    }\n",
              "\n",
              "    .colab-df-convert {\n",
              "      background-color: #E8F0FE;\n",
              "      border: none;\n",
              "      border-radius: 50%;\n",
              "      cursor: pointer;\n",
              "      display: none;\n",
              "      fill: #1967D2;\n",
              "      height: 32px;\n",
              "      padding: 0 0 0 0;\n",
              "      width: 32px;\n",
              "    }\n",
              "\n",
              "    .colab-df-convert:hover {\n",
              "      background-color: #E2EBFA;\n",
              "      box-shadow: 0px 1px 2px rgba(60, 64, 67, 0.3), 0px 1px 3px 1px rgba(60, 64, 67, 0.15);\n",
              "      fill: #174EA6;\n",
              "    }\n",
              "\n",
              "    [theme=dark] .colab-df-convert {\n",
              "      background-color: #3B4455;\n",
              "      fill: #D2E3FC;\n",
              "    }\n",
              "\n",
              "    [theme=dark] .colab-df-convert:hover {\n",
              "      background-color: #434B5C;\n",
              "      box-shadow: 0px 1px 3px 1px rgba(0, 0, 0, 0.15);\n",
              "      filter: drop-shadow(0px 1px 2px rgba(0, 0, 0, 0.3));\n",
              "      fill: #FFFFFF;\n",
              "    }\n",
              "  </style>\n",
              "\n",
              "      <script>\n",
              "        const buttonEl =\n",
              "          document.querySelector('#df-1bf0f5a7-199c-4c1c-b780-df3214921789 button.colab-df-convert');\n",
              "        buttonEl.style.display =\n",
              "          google.colab.kernel.accessAllowed ? 'block' : 'none';\n",
              "\n",
              "        async function convertToInteractive(key) {\n",
              "          const element = document.querySelector('#df-1bf0f5a7-199c-4c1c-b780-df3214921789');\n",
              "          const dataTable =\n",
              "            await google.colab.kernel.invokeFunction('convertToInteractive',\n",
              "                                                     [key], {});\n",
              "          if (!dataTable) return;\n",
              "\n",
              "          const docLinkHtml = 'Like what you see? Visit the ' +\n",
              "            '<a target=\"_blank\" href=https://colab.research.google.com/notebooks/data_table.ipynb>data table notebook</a>'\n",
              "            + ' to learn more about interactive tables.';\n",
              "          element.innerHTML = '';\n",
              "          dataTable['output_type'] = 'display_data';\n",
              "          await google.colab.output.renderOutput(dataTable, element);\n",
              "          const docLink = document.createElement('div');\n",
              "          docLink.innerHTML = docLinkHtml;\n",
              "          element.appendChild(docLink);\n",
              "        }\n",
              "      </script>\n",
              "    </div>\n",
              "  </div>\n",
              "  "
            ]
          },
          "metadata": {},
          "execution_count": 78
        }
      ]
    },
    {
      "cell_type": "markdown",
      "source": [
        "## adding new columns Nmae that sentiment for set sentiment for each coment"
      ],
      "metadata": {
        "id": "oJYZCAAihy8X"
      },
      "id": "oJYZCAAihy8X"
    },
    {
      "cell_type": "code",
      "source": [
        "df['sentiment'] = 1.0"
      ],
      "metadata": {
        "colab": {
          "base_uri": "https://localhost:8080/"
        },
        "id": "ig39aTb-RmCV",
        "outputId": "ce9d62fe-8a99-4b2a-8afa-d1bd32477c34"
      },
      "id": "ig39aTb-RmCV",
      "execution_count": 79,
      "outputs": [
        {
          "output_type": "stream",
          "name": "stderr",
          "text": [
            "/usr/local/lib/python3.7/dist-packages/ipykernel_launcher.py:1: SettingWithCopyWarning: \n",
            "A value is trying to be set on a copy of a slice from a DataFrame.\n",
            "Try using .loc[row_indexer,col_indexer] = value instead\n",
            "\n",
            "See the caveats in the documentation: https://pandas.pydata.org/pandas-docs/stable/user_guide/indexing.html#returning-a-view-versus-a-copy\n",
            "  \"\"\"Entry point for launching an IPython kernel.\n"
          ]
        }
      ]
    },
    {
      "cell_type": "code",
      "source": [
        "df.head()"
      ],
      "metadata": {
        "colab": {
          "base_uri": "https://localhost:8080/",
          "height": 206
        },
        "id": "7L8NZz4yRmAK",
        "outputId": "902a9089-46f6-4279-b16b-9196e4bcb38f"
      },
      "id": "7L8NZz4yRmAK",
      "execution_count": 80,
      "outputs": [
        {
          "output_type": "execute_result",
          "data": {
            "text/plain": [
              "                                         comment film_name  roleplay_rate  \\\n",
              "0  خیلی قشنگه . روزگار الان و خوب به تصویر کشیده  BlackCat       0.382360   \n",
              "1                                عالی آقای رادان  BlackCat       0.538816   \n",
              "2                                       قشنگ بود  BlackCat       0.176777   \n",
              "3                                       عالییییی  BlackCat       0.566947   \n",
              "4                              من دیدم خیلی خفنه  BlackCat       0.246598   \n",
              "\n",
              "   film_rate  not_rate  bad_rate  propose_rate  good_rate  perfect_rate  \\\n",
              "0   0.229416  0.344124  0.162221      0.433555   0.353209      0.344124   \n",
              "1   0.269408  0.179605  0.127000      0.543075   0.000000      0.718421   \n",
              "2   0.000000  0.707107  0.500000      0.400892   0.408248      0.000000   \n",
              "3   0.566947  0.000000  0.000000      0.428571   0.000000      0.755929   \n",
              "4   0.575396  0.328798  0.232495      0.497096   0.189832      0.328798   \n",
              "\n",
              "   sentiment  \n",
              "0        1.0  \n",
              "1        1.0  \n",
              "2        1.0  \n",
              "3        1.0  \n",
              "4        1.0  "
            ],
            "text/html": [
              "\n",
              "  <div id=\"df-209d677d-ce4a-44fe-a1f9-8a63497953e5\">\n",
              "    <div class=\"colab-df-container\">\n",
              "      <div>\n",
              "<style scoped>\n",
              "    .dataframe tbody tr th:only-of-type {\n",
              "        vertical-align: middle;\n",
              "    }\n",
              "\n",
              "    .dataframe tbody tr th {\n",
              "        vertical-align: top;\n",
              "    }\n",
              "\n",
              "    .dataframe thead th {\n",
              "        text-align: right;\n",
              "    }\n",
              "</style>\n",
              "<table border=\"1\" class=\"dataframe\">\n",
              "  <thead>\n",
              "    <tr style=\"text-align: right;\">\n",
              "      <th></th>\n",
              "      <th>comment</th>\n",
              "      <th>film_name</th>\n",
              "      <th>roleplay_rate</th>\n",
              "      <th>film_rate</th>\n",
              "      <th>not_rate</th>\n",
              "      <th>bad_rate</th>\n",
              "      <th>propose_rate</th>\n",
              "      <th>good_rate</th>\n",
              "      <th>perfect_rate</th>\n",
              "      <th>sentiment</th>\n",
              "    </tr>\n",
              "  </thead>\n",
              "  <tbody>\n",
              "    <tr>\n",
              "      <th>0</th>\n",
              "      <td>خیلی قشنگه . روزگار الان و خوب به تصویر کشیده</td>\n",
              "      <td>BlackCat</td>\n",
              "      <td>0.382360</td>\n",
              "      <td>0.229416</td>\n",
              "      <td>0.344124</td>\n",
              "      <td>0.162221</td>\n",
              "      <td>0.433555</td>\n",
              "      <td>0.353209</td>\n",
              "      <td>0.344124</td>\n",
              "      <td>1.0</td>\n",
              "    </tr>\n",
              "    <tr>\n",
              "      <th>1</th>\n",
              "      <td>عالی آقای رادان</td>\n",
              "      <td>BlackCat</td>\n",
              "      <td>0.538816</td>\n",
              "      <td>0.269408</td>\n",
              "      <td>0.179605</td>\n",
              "      <td>0.127000</td>\n",
              "      <td>0.543075</td>\n",
              "      <td>0.000000</td>\n",
              "      <td>0.718421</td>\n",
              "      <td>1.0</td>\n",
              "    </tr>\n",
              "    <tr>\n",
              "      <th>2</th>\n",
              "      <td>قشنگ بود</td>\n",
              "      <td>BlackCat</td>\n",
              "      <td>0.176777</td>\n",
              "      <td>0.000000</td>\n",
              "      <td>0.707107</td>\n",
              "      <td>0.500000</td>\n",
              "      <td>0.400892</td>\n",
              "      <td>0.408248</td>\n",
              "      <td>0.000000</td>\n",
              "      <td>1.0</td>\n",
              "    </tr>\n",
              "    <tr>\n",
              "      <th>3</th>\n",
              "      <td>عالییییی</td>\n",
              "      <td>BlackCat</td>\n",
              "      <td>0.566947</td>\n",
              "      <td>0.566947</td>\n",
              "      <td>0.000000</td>\n",
              "      <td>0.000000</td>\n",
              "      <td>0.428571</td>\n",
              "      <td>0.000000</td>\n",
              "      <td>0.755929</td>\n",
              "      <td>1.0</td>\n",
              "    </tr>\n",
              "    <tr>\n",
              "      <th>4</th>\n",
              "      <td>من دیدم خیلی خفنه</td>\n",
              "      <td>BlackCat</td>\n",
              "      <td>0.246598</td>\n",
              "      <td>0.575396</td>\n",
              "      <td>0.328798</td>\n",
              "      <td>0.232495</td>\n",
              "      <td>0.497096</td>\n",
              "      <td>0.189832</td>\n",
              "      <td>0.328798</td>\n",
              "      <td>1.0</td>\n",
              "    </tr>\n",
              "  </tbody>\n",
              "</table>\n",
              "</div>\n",
              "      <button class=\"colab-df-convert\" onclick=\"convertToInteractive('df-209d677d-ce4a-44fe-a1f9-8a63497953e5')\"\n",
              "              title=\"Convert this dataframe to an interactive table.\"\n",
              "              style=\"display:none;\">\n",
              "        \n",
              "  <svg xmlns=\"http://www.w3.org/2000/svg\" height=\"24px\"viewBox=\"0 0 24 24\"\n",
              "       width=\"24px\">\n",
              "    <path d=\"M0 0h24v24H0V0z\" fill=\"none\"/>\n",
              "    <path d=\"M18.56 5.44l.94 2.06.94-2.06 2.06-.94-2.06-.94-.94-2.06-.94 2.06-2.06.94zm-11 1L8.5 8.5l.94-2.06 2.06-.94-2.06-.94L8.5 2.5l-.94 2.06-2.06.94zm10 10l.94 2.06.94-2.06 2.06-.94-2.06-.94-.94-2.06-.94 2.06-2.06.94z\"/><path d=\"M17.41 7.96l-1.37-1.37c-.4-.4-.92-.59-1.43-.59-.52 0-1.04.2-1.43.59L10.3 9.45l-7.72 7.72c-.78.78-.78 2.05 0 2.83L4 21.41c.39.39.9.59 1.41.59.51 0 1.02-.2 1.41-.59l7.78-7.78 2.81-2.81c.8-.78.8-2.07 0-2.86zM5.41 20L4 18.59l7.72-7.72 1.47 1.35L5.41 20z\"/>\n",
              "  </svg>\n",
              "      </button>\n",
              "      \n",
              "  <style>\n",
              "    .colab-df-container {\n",
              "      display:flex;\n",
              "      flex-wrap:wrap;\n",
              "      gap: 12px;\n",
              "    }\n",
              "\n",
              "    .colab-df-convert {\n",
              "      background-color: #E8F0FE;\n",
              "      border: none;\n",
              "      border-radius: 50%;\n",
              "      cursor: pointer;\n",
              "      display: none;\n",
              "      fill: #1967D2;\n",
              "      height: 32px;\n",
              "      padding: 0 0 0 0;\n",
              "      width: 32px;\n",
              "    }\n",
              "\n",
              "    .colab-df-convert:hover {\n",
              "      background-color: #E2EBFA;\n",
              "      box-shadow: 0px 1px 2px rgba(60, 64, 67, 0.3), 0px 1px 3px 1px rgba(60, 64, 67, 0.15);\n",
              "      fill: #174EA6;\n",
              "    }\n",
              "\n",
              "    [theme=dark] .colab-df-convert {\n",
              "      background-color: #3B4455;\n",
              "      fill: #D2E3FC;\n",
              "    }\n",
              "\n",
              "    [theme=dark] .colab-df-convert:hover {\n",
              "      background-color: #434B5C;\n",
              "      box-shadow: 0px 1px 3px 1px rgba(0, 0, 0, 0.15);\n",
              "      filter: drop-shadow(0px 1px 2px rgba(0, 0, 0, 0.3));\n",
              "      fill: #FFFFFF;\n",
              "    }\n",
              "  </style>\n",
              "\n",
              "      <script>\n",
              "        const buttonEl =\n",
              "          document.querySelector('#df-209d677d-ce4a-44fe-a1f9-8a63497953e5 button.colab-df-convert');\n",
              "        buttonEl.style.display =\n",
              "          google.colab.kernel.accessAllowed ? 'block' : 'none';\n",
              "\n",
              "        async function convertToInteractive(key) {\n",
              "          const element = document.querySelector('#df-209d677d-ce4a-44fe-a1f9-8a63497953e5');\n",
              "          const dataTable =\n",
              "            await google.colab.kernel.invokeFunction('convertToInteractive',\n",
              "                                                     [key], {});\n",
              "          if (!dataTable) return;\n",
              "\n",
              "          const docLinkHtml = 'Like what you see? Visit the ' +\n",
              "            '<a target=\"_blank\" href=https://colab.research.google.com/notebooks/data_table.ipynb>data table notebook</a>'\n",
              "            + ' to learn more about interactive tables.';\n",
              "          element.innerHTML = '';\n",
              "          dataTable['output_type'] = 'display_data';\n",
              "          await google.colab.output.renderOutput(dataTable, element);\n",
              "          const docLink = document.createElement('div');\n",
              "          docLink.innerHTML = docLinkHtml;\n",
              "          element.appendChild(docLink);\n",
              "        }\n",
              "      </script>\n",
              "    </div>\n",
              "  </div>\n",
              "  "
            ]
          },
          "metadata": {},
          "execution_count": 80
        }
      ]
    },
    {
      "cell_type": "markdown",
      "source": [
        "## Now for Set Sentiment labels Calcuting Mean Of rate point "
      ],
      "metadata": {
        "id": "xhuTnHxJiIS2"
      },
      "id": "xhuTnHxJiIS2"
    },
    {
      "cell_type": "code",
      "source": [
        "def rate_mean():\n",
        "  x = (df['roleplay_rate'] + df['film_rate'] + df['not_rate'] + \n",
        "       df['bad_rate'] + df['propose_rate'] + df['good_rate'] +\n",
        "       df['perfect_rate'] )\n",
        "  rs = x / 7\n",
        "  return rs"
      ],
      "metadata": {
        "id": "f5Av4jqvrG3f"
      },
      "id": "f5Av4jqvrG3f",
      "execution_count": 82,
      "outputs": []
    },
    {
      "cell_type": "code",
      "source": [
        "df['rate_mean'] = rate_mean()"
      ],
      "metadata": {
        "colab": {
          "base_uri": "https://localhost:8080/"
        },
        "id": "bmxASohOrG1B",
        "outputId": "80394f42-551e-4f49-a2a0-8ac617f17413"
      },
      "id": "bmxASohOrG1B",
      "execution_count": 83,
      "outputs": [
        {
          "output_type": "stream",
          "name": "stderr",
          "text": [
            "/usr/local/lib/python3.7/dist-packages/ipykernel_launcher.py:1: SettingWithCopyWarning: \n",
            "A value is trying to be set on a copy of a slice from a DataFrame.\n",
            "Try using .loc[row_indexer,col_indexer] = value instead\n",
            "\n",
            "See the caveats in the documentation: https://pandas.pydata.org/pandas-docs/stable/user_guide/indexing.html#returning-a-view-versus-a-copy\n",
            "  \"\"\"Entry point for launching an IPython kernel.\n"
          ]
        }
      ]
    },
    {
      "cell_type": "code",
      "source": [
        "df.head()"
      ],
      "metadata": {
        "colab": {
          "base_uri": "https://localhost:8080/",
          "height": 206
        },
        "id": "GCIsxo1CrGx6",
        "outputId": "5105ff69-2bfc-4182-91d0-4c3d5b46c8ef"
      },
      "id": "GCIsxo1CrGx6",
      "execution_count": 84,
      "outputs": [
        {
          "output_type": "execute_result",
          "data": {
            "text/plain": [
              "                                         comment film_name  roleplay_rate  \\\n",
              "0  خیلی قشنگه . روزگار الان و خوب به تصویر کشیده  BlackCat       0.382360   \n",
              "1                                عالی آقای رادان  BlackCat       0.538816   \n",
              "2                                       قشنگ بود  BlackCat       0.176777   \n",
              "3                                       عالییییی  BlackCat       0.566947   \n",
              "4                              من دیدم خیلی خفنه  BlackCat       0.246598   \n",
              "\n",
              "   film_rate  not_rate  bad_rate  propose_rate  good_rate  perfect_rate  \\\n",
              "0   0.229416  0.344124  0.162221      0.433555   0.353209      0.344124   \n",
              "1   0.269408  0.179605  0.127000      0.543075   0.000000      0.718421   \n",
              "2   0.000000  0.707107  0.500000      0.400892   0.408248      0.000000   \n",
              "3   0.566947  0.000000  0.000000      0.428571   0.000000      0.755929   \n",
              "4   0.575396  0.328798  0.232495      0.497096   0.189832      0.328798   \n",
              "\n",
              "   sentiment  rate_mean  \n",
              "0        1.0   0.321287  \n",
              "1        1.0   0.339475  \n",
              "2        1.0   0.313289  \n",
              "3        1.0   0.331199  \n",
              "4        1.0   0.342716  "
            ],
            "text/html": [
              "\n",
              "  <div id=\"df-9a2c251f-a117-4a15-b29f-f13b6684a375\">\n",
              "    <div class=\"colab-df-container\">\n",
              "      <div>\n",
              "<style scoped>\n",
              "    .dataframe tbody tr th:only-of-type {\n",
              "        vertical-align: middle;\n",
              "    }\n",
              "\n",
              "    .dataframe tbody tr th {\n",
              "        vertical-align: top;\n",
              "    }\n",
              "\n",
              "    .dataframe thead th {\n",
              "        text-align: right;\n",
              "    }\n",
              "</style>\n",
              "<table border=\"1\" class=\"dataframe\">\n",
              "  <thead>\n",
              "    <tr style=\"text-align: right;\">\n",
              "      <th></th>\n",
              "      <th>comment</th>\n",
              "      <th>film_name</th>\n",
              "      <th>roleplay_rate</th>\n",
              "      <th>film_rate</th>\n",
              "      <th>not_rate</th>\n",
              "      <th>bad_rate</th>\n",
              "      <th>propose_rate</th>\n",
              "      <th>good_rate</th>\n",
              "      <th>perfect_rate</th>\n",
              "      <th>sentiment</th>\n",
              "      <th>rate_mean</th>\n",
              "    </tr>\n",
              "  </thead>\n",
              "  <tbody>\n",
              "    <tr>\n",
              "      <th>0</th>\n",
              "      <td>خیلی قشنگه . روزگار الان و خوب به تصویر کشیده</td>\n",
              "      <td>BlackCat</td>\n",
              "      <td>0.382360</td>\n",
              "      <td>0.229416</td>\n",
              "      <td>0.344124</td>\n",
              "      <td>0.162221</td>\n",
              "      <td>0.433555</td>\n",
              "      <td>0.353209</td>\n",
              "      <td>0.344124</td>\n",
              "      <td>1.0</td>\n",
              "      <td>0.321287</td>\n",
              "    </tr>\n",
              "    <tr>\n",
              "      <th>1</th>\n",
              "      <td>عالی آقای رادان</td>\n",
              "      <td>BlackCat</td>\n",
              "      <td>0.538816</td>\n",
              "      <td>0.269408</td>\n",
              "      <td>0.179605</td>\n",
              "      <td>0.127000</td>\n",
              "      <td>0.543075</td>\n",
              "      <td>0.000000</td>\n",
              "      <td>0.718421</td>\n",
              "      <td>1.0</td>\n",
              "      <td>0.339475</td>\n",
              "    </tr>\n",
              "    <tr>\n",
              "      <th>2</th>\n",
              "      <td>قشنگ بود</td>\n",
              "      <td>BlackCat</td>\n",
              "      <td>0.176777</td>\n",
              "      <td>0.000000</td>\n",
              "      <td>0.707107</td>\n",
              "      <td>0.500000</td>\n",
              "      <td>0.400892</td>\n",
              "      <td>0.408248</td>\n",
              "      <td>0.000000</td>\n",
              "      <td>1.0</td>\n",
              "      <td>0.313289</td>\n",
              "    </tr>\n",
              "    <tr>\n",
              "      <th>3</th>\n",
              "      <td>عالییییی</td>\n",
              "      <td>BlackCat</td>\n",
              "      <td>0.566947</td>\n",
              "      <td>0.566947</td>\n",
              "      <td>0.000000</td>\n",
              "      <td>0.000000</td>\n",
              "      <td>0.428571</td>\n",
              "      <td>0.000000</td>\n",
              "      <td>0.755929</td>\n",
              "      <td>1.0</td>\n",
              "      <td>0.331199</td>\n",
              "    </tr>\n",
              "    <tr>\n",
              "      <th>4</th>\n",
              "      <td>من دیدم خیلی خفنه</td>\n",
              "      <td>BlackCat</td>\n",
              "      <td>0.246598</td>\n",
              "      <td>0.575396</td>\n",
              "      <td>0.328798</td>\n",
              "      <td>0.232495</td>\n",
              "      <td>0.497096</td>\n",
              "      <td>0.189832</td>\n",
              "      <td>0.328798</td>\n",
              "      <td>1.0</td>\n",
              "      <td>0.342716</td>\n",
              "    </tr>\n",
              "  </tbody>\n",
              "</table>\n",
              "</div>\n",
              "      <button class=\"colab-df-convert\" onclick=\"convertToInteractive('df-9a2c251f-a117-4a15-b29f-f13b6684a375')\"\n",
              "              title=\"Convert this dataframe to an interactive table.\"\n",
              "              style=\"display:none;\">\n",
              "        \n",
              "  <svg xmlns=\"http://www.w3.org/2000/svg\" height=\"24px\"viewBox=\"0 0 24 24\"\n",
              "       width=\"24px\">\n",
              "    <path d=\"M0 0h24v24H0V0z\" fill=\"none\"/>\n",
              "    <path d=\"M18.56 5.44l.94 2.06.94-2.06 2.06-.94-2.06-.94-.94-2.06-.94 2.06-2.06.94zm-11 1L8.5 8.5l.94-2.06 2.06-.94-2.06-.94L8.5 2.5l-.94 2.06-2.06.94zm10 10l.94 2.06.94-2.06 2.06-.94-2.06-.94-.94-2.06-.94 2.06-2.06.94z\"/><path d=\"M17.41 7.96l-1.37-1.37c-.4-.4-.92-.59-1.43-.59-.52 0-1.04.2-1.43.59L10.3 9.45l-7.72 7.72c-.78.78-.78 2.05 0 2.83L4 21.41c.39.39.9.59 1.41.59.51 0 1.02-.2 1.41-.59l7.78-7.78 2.81-2.81c.8-.78.8-2.07 0-2.86zM5.41 20L4 18.59l7.72-7.72 1.47 1.35L5.41 20z\"/>\n",
              "  </svg>\n",
              "      </button>\n",
              "      \n",
              "  <style>\n",
              "    .colab-df-container {\n",
              "      display:flex;\n",
              "      flex-wrap:wrap;\n",
              "      gap: 12px;\n",
              "    }\n",
              "\n",
              "    .colab-df-convert {\n",
              "      background-color: #E8F0FE;\n",
              "      border: none;\n",
              "      border-radius: 50%;\n",
              "      cursor: pointer;\n",
              "      display: none;\n",
              "      fill: #1967D2;\n",
              "      height: 32px;\n",
              "      padding: 0 0 0 0;\n",
              "      width: 32px;\n",
              "    }\n",
              "\n",
              "    .colab-df-convert:hover {\n",
              "      background-color: #E2EBFA;\n",
              "      box-shadow: 0px 1px 2px rgba(60, 64, 67, 0.3), 0px 1px 3px 1px rgba(60, 64, 67, 0.15);\n",
              "      fill: #174EA6;\n",
              "    }\n",
              "\n",
              "    [theme=dark] .colab-df-convert {\n",
              "      background-color: #3B4455;\n",
              "      fill: #D2E3FC;\n",
              "    }\n",
              "\n",
              "    [theme=dark] .colab-df-convert:hover {\n",
              "      background-color: #434B5C;\n",
              "      box-shadow: 0px 1px 3px 1px rgba(0, 0, 0, 0.15);\n",
              "      filter: drop-shadow(0px 1px 2px rgba(0, 0, 0, 0.3));\n",
              "      fill: #FFFFFF;\n",
              "    }\n",
              "  </style>\n",
              "\n",
              "      <script>\n",
              "        const buttonEl =\n",
              "          document.querySelector('#df-9a2c251f-a117-4a15-b29f-f13b6684a375 button.colab-df-convert');\n",
              "        buttonEl.style.display =\n",
              "          google.colab.kernel.accessAllowed ? 'block' : 'none';\n",
              "\n",
              "        async function convertToInteractive(key) {\n",
              "          const element = document.querySelector('#df-9a2c251f-a117-4a15-b29f-f13b6684a375');\n",
              "          const dataTable =\n",
              "            await google.colab.kernel.invokeFunction('convertToInteractive',\n",
              "                                                     [key], {});\n",
              "          if (!dataTable) return;\n",
              "\n",
              "          const docLinkHtml = 'Like what you see? Visit the ' +\n",
              "            '<a target=\"_blank\" href=https://colab.research.google.com/notebooks/data_table.ipynb>data table notebook</a>'\n",
              "            + ' to learn more about interactive tables.';\n",
              "          element.innerHTML = '';\n",
              "          dataTable['output_type'] = 'display_data';\n",
              "          await google.colab.output.renderOutput(dataTable, element);\n",
              "          const docLink = document.createElement('div');\n",
              "          docLink.innerHTML = docLinkHtml;\n",
              "          element.appendChild(docLink);\n",
              "        }\n",
              "      </script>\n",
              "    </div>\n",
              "  </div>\n",
              "  "
            ]
          },
          "metadata": {},
          "execution_count": 84
        }
      ]
    },
    {
      "cell_type": "markdown",
      "source": [
        "## Set Label"
      ],
      "metadata": {
        "id": "teFqirQRoJVX"
      },
      "id": "teFqirQRoJVX"
    },
    {
      "cell_type": "code",
      "source": [
        "A = []\n",
        "for i in df['rate_mean']:\n",
        "  if i > 0.30:\n",
        "    A.append('positive')\n",
        "  else:\n",
        "    A.append(\"negative\")  \n",
        "  \n",
        "df['sentiment'] = A"
      ],
      "metadata": {
        "colab": {
          "base_uri": "https://localhost:8080/"
        },
        "id": "hZOmr3j6rGu9",
        "outputId": "92f20cad-ebfc-4c3b-bf01-6509b6e4380d"
      },
      "id": "hZOmr3j6rGu9",
      "execution_count": 85,
      "outputs": [
        {
          "output_type": "stream",
          "name": "stderr",
          "text": [
            "/usr/local/lib/python3.7/dist-packages/ipykernel_launcher.py:8: SettingWithCopyWarning: \n",
            "A value is trying to be set on a copy of a slice from a DataFrame.\n",
            "Try using .loc[row_indexer,col_indexer] = value instead\n",
            "\n",
            "See the caveats in the documentation: https://pandas.pydata.org/pandas-docs/stable/user_guide/indexing.html#returning-a-view-versus-a-copy\n",
            "  \n"
          ]
        }
      ]
    },
    {
      "cell_type": "code",
      "source": [
        "df"
      ],
      "metadata": {
        "colab": {
          "base_uri": "https://localhost:8080/",
          "height": 424
        },
        "id": "Ze3b3Xf3uJCf",
        "outputId": "53e7b72c-cac8-46a8-c2b7-6fc64c0835c6"
      },
      "id": "Ze3b3Xf3uJCf",
      "execution_count": 86,
      "outputs": [
        {
          "output_type": "execute_result",
          "data": {
            "text/plain": [
              "                                           comment          film_name  \\\n",
              "0    خیلی قشنگه . روزگار الان و خوب به تصویر کشیده           BlackCat   \n",
              "1                                  عالی آقای رادان           BlackCat   \n",
              "2                                         قشنگ بود           BlackCat   \n",
              "3                                         عالییییی           BlackCat   \n",
              "4                                من دیدم خیلی خفنه           BlackCat   \n",
              "..                                             ...                ...   \n",
              "123                               بسیار خوب و درست  Death_of_Salesman   \n",
              "124                               مرگ فروشنده عالی  Death_of_Salesman   \n",
              "125                                       جالب بود  Death_of_Salesman   \n",
              "126        عالی بود احسنت به امید فیلم های جدیدتون  Death_of_Salesman   \n",
              "127                                           عالی  Death_of_Salesman   \n",
              "\n",
              "     roleplay_rate  film_rate  not_rate  bad_rate  propose_rate  good_rate  \\\n",
              "0         0.382360   0.229416  0.344124  0.162221      0.433555   0.353209   \n",
              "1         0.538816   0.269408  0.179605  0.127000      0.543075   0.000000   \n",
              "2         0.176777   0.000000  0.707107  0.500000      0.400892   0.408248   \n",
              "3         0.566947   0.566947  0.000000  0.000000      0.428571   0.000000   \n",
              "4         0.246598   0.575396  0.328798  0.232495      0.497096   0.189832   \n",
              "..             ...        ...       ...       ...           ...        ...   \n",
              "123       0.365148   0.091287  0.456435  0.387298      0.207020   0.527046   \n",
              "124       0.223607   0.447214  0.335410  0.158114      0.507093   0.129099   \n",
              "125       0.474342   0.158114  0.632456  0.670820      0.239046   0.547723   \n",
              "126       0.466504   0.424094  0.424094  0.359856      0.544995   0.195881   \n",
              "127       0.500000   0.500000  0.000000  0.000000      0.377964   0.000000   \n",
              "\n",
              "     perfect_rate sentiment  rate_mean  \n",
              "0        0.344124  positive   0.321287  \n",
              "1        0.718421  positive   0.339475  \n",
              "2        0.000000  positive   0.313289  \n",
              "3        0.755929  positive   0.331199  \n",
              "4        0.328798  positive   0.342716  \n",
              "..            ...       ...        ...  \n",
              "123      0.182574  positive   0.316687  \n",
              "124      0.447214  positive   0.321107  \n",
              "125      0.316228  positive   0.434104  \n",
              "126      0.508913  positive   0.417763  \n",
              "127      1.000000  positive   0.339709  \n",
              "\n",
              "[128 rows x 11 columns]"
            ],
            "text/html": [
              "\n",
              "  <div id=\"df-405c9d09-e39d-4204-b83e-978044965dd5\">\n",
              "    <div class=\"colab-df-container\">\n",
              "      <div>\n",
              "<style scoped>\n",
              "    .dataframe tbody tr th:only-of-type {\n",
              "        vertical-align: middle;\n",
              "    }\n",
              "\n",
              "    .dataframe tbody tr th {\n",
              "        vertical-align: top;\n",
              "    }\n",
              "\n",
              "    .dataframe thead th {\n",
              "        text-align: right;\n",
              "    }\n",
              "</style>\n",
              "<table border=\"1\" class=\"dataframe\">\n",
              "  <thead>\n",
              "    <tr style=\"text-align: right;\">\n",
              "      <th></th>\n",
              "      <th>comment</th>\n",
              "      <th>film_name</th>\n",
              "      <th>roleplay_rate</th>\n",
              "      <th>film_rate</th>\n",
              "      <th>not_rate</th>\n",
              "      <th>bad_rate</th>\n",
              "      <th>propose_rate</th>\n",
              "      <th>good_rate</th>\n",
              "      <th>perfect_rate</th>\n",
              "      <th>sentiment</th>\n",
              "      <th>rate_mean</th>\n",
              "    </tr>\n",
              "  </thead>\n",
              "  <tbody>\n",
              "    <tr>\n",
              "      <th>0</th>\n",
              "      <td>خیلی قشنگه . روزگار الان و خوب به تصویر کشیده</td>\n",
              "      <td>BlackCat</td>\n",
              "      <td>0.382360</td>\n",
              "      <td>0.229416</td>\n",
              "      <td>0.344124</td>\n",
              "      <td>0.162221</td>\n",
              "      <td>0.433555</td>\n",
              "      <td>0.353209</td>\n",
              "      <td>0.344124</td>\n",
              "      <td>positive</td>\n",
              "      <td>0.321287</td>\n",
              "    </tr>\n",
              "    <tr>\n",
              "      <th>1</th>\n",
              "      <td>عالی آقای رادان</td>\n",
              "      <td>BlackCat</td>\n",
              "      <td>0.538816</td>\n",
              "      <td>0.269408</td>\n",
              "      <td>0.179605</td>\n",
              "      <td>0.127000</td>\n",
              "      <td>0.543075</td>\n",
              "      <td>0.000000</td>\n",
              "      <td>0.718421</td>\n",
              "      <td>positive</td>\n",
              "      <td>0.339475</td>\n",
              "    </tr>\n",
              "    <tr>\n",
              "      <th>2</th>\n",
              "      <td>قشنگ بود</td>\n",
              "      <td>BlackCat</td>\n",
              "      <td>0.176777</td>\n",
              "      <td>0.000000</td>\n",
              "      <td>0.707107</td>\n",
              "      <td>0.500000</td>\n",
              "      <td>0.400892</td>\n",
              "      <td>0.408248</td>\n",
              "      <td>0.000000</td>\n",
              "      <td>positive</td>\n",
              "      <td>0.313289</td>\n",
              "    </tr>\n",
              "    <tr>\n",
              "      <th>3</th>\n",
              "      <td>عالییییی</td>\n",
              "      <td>BlackCat</td>\n",
              "      <td>0.566947</td>\n",
              "      <td>0.566947</td>\n",
              "      <td>0.000000</td>\n",
              "      <td>0.000000</td>\n",
              "      <td>0.428571</td>\n",
              "      <td>0.000000</td>\n",
              "      <td>0.755929</td>\n",
              "      <td>positive</td>\n",
              "      <td>0.331199</td>\n",
              "    </tr>\n",
              "    <tr>\n",
              "      <th>4</th>\n",
              "      <td>من دیدم خیلی خفنه</td>\n",
              "      <td>BlackCat</td>\n",
              "      <td>0.246598</td>\n",
              "      <td>0.575396</td>\n",
              "      <td>0.328798</td>\n",
              "      <td>0.232495</td>\n",
              "      <td>0.497096</td>\n",
              "      <td>0.189832</td>\n",
              "      <td>0.328798</td>\n",
              "      <td>positive</td>\n",
              "      <td>0.342716</td>\n",
              "    </tr>\n",
              "    <tr>\n",
              "      <th>...</th>\n",
              "      <td>...</td>\n",
              "      <td>...</td>\n",
              "      <td>...</td>\n",
              "      <td>...</td>\n",
              "      <td>...</td>\n",
              "      <td>...</td>\n",
              "      <td>...</td>\n",
              "      <td>...</td>\n",
              "      <td>...</td>\n",
              "      <td>...</td>\n",
              "      <td>...</td>\n",
              "    </tr>\n",
              "    <tr>\n",
              "      <th>123</th>\n",
              "      <td>بسیار خوب و درست</td>\n",
              "      <td>Death_of_Salesman</td>\n",
              "      <td>0.365148</td>\n",
              "      <td>0.091287</td>\n",
              "      <td>0.456435</td>\n",
              "      <td>0.387298</td>\n",
              "      <td>0.207020</td>\n",
              "      <td>0.527046</td>\n",
              "      <td>0.182574</td>\n",
              "      <td>positive</td>\n",
              "      <td>0.316687</td>\n",
              "    </tr>\n",
              "    <tr>\n",
              "      <th>124</th>\n",
              "      <td>مرگ فروشنده عالی</td>\n",
              "      <td>Death_of_Salesman</td>\n",
              "      <td>0.223607</td>\n",
              "      <td>0.447214</td>\n",
              "      <td>0.335410</td>\n",
              "      <td>0.158114</td>\n",
              "      <td>0.507093</td>\n",
              "      <td>0.129099</td>\n",
              "      <td>0.447214</td>\n",
              "      <td>positive</td>\n",
              "      <td>0.321107</td>\n",
              "    </tr>\n",
              "    <tr>\n",
              "      <th>125</th>\n",
              "      <td>جالب بود</td>\n",
              "      <td>Death_of_Salesman</td>\n",
              "      <td>0.474342</td>\n",
              "      <td>0.158114</td>\n",
              "      <td>0.632456</td>\n",
              "      <td>0.670820</td>\n",
              "      <td>0.239046</td>\n",
              "      <td>0.547723</td>\n",
              "      <td>0.316228</td>\n",
              "      <td>positive</td>\n",
              "      <td>0.434104</td>\n",
              "    </tr>\n",
              "    <tr>\n",
              "      <th>126</th>\n",
              "      <td>عالی بود احسنت به امید فیلم های جدیدتون</td>\n",
              "      <td>Death_of_Salesman</td>\n",
              "      <td>0.466504</td>\n",
              "      <td>0.424094</td>\n",
              "      <td>0.424094</td>\n",
              "      <td>0.359856</td>\n",
              "      <td>0.544995</td>\n",
              "      <td>0.195881</td>\n",
              "      <td>0.508913</td>\n",
              "      <td>positive</td>\n",
              "      <td>0.417763</td>\n",
              "    </tr>\n",
              "    <tr>\n",
              "      <th>127</th>\n",
              "      <td>عالی</td>\n",
              "      <td>Death_of_Salesman</td>\n",
              "      <td>0.500000</td>\n",
              "      <td>0.500000</td>\n",
              "      <td>0.000000</td>\n",
              "      <td>0.000000</td>\n",
              "      <td>0.377964</td>\n",
              "      <td>0.000000</td>\n",
              "      <td>1.000000</td>\n",
              "      <td>positive</td>\n",
              "      <td>0.339709</td>\n",
              "    </tr>\n",
              "  </tbody>\n",
              "</table>\n",
              "<p>128 rows × 11 columns</p>\n",
              "</div>\n",
              "      <button class=\"colab-df-convert\" onclick=\"convertToInteractive('df-405c9d09-e39d-4204-b83e-978044965dd5')\"\n",
              "              title=\"Convert this dataframe to an interactive table.\"\n",
              "              style=\"display:none;\">\n",
              "        \n",
              "  <svg xmlns=\"http://www.w3.org/2000/svg\" height=\"24px\"viewBox=\"0 0 24 24\"\n",
              "       width=\"24px\">\n",
              "    <path d=\"M0 0h24v24H0V0z\" fill=\"none\"/>\n",
              "    <path d=\"M18.56 5.44l.94 2.06.94-2.06 2.06-.94-2.06-.94-.94-2.06-.94 2.06-2.06.94zm-11 1L8.5 8.5l.94-2.06 2.06-.94-2.06-.94L8.5 2.5l-.94 2.06-2.06.94zm10 10l.94 2.06.94-2.06 2.06-.94-2.06-.94-.94-2.06-.94 2.06-2.06.94z\"/><path d=\"M17.41 7.96l-1.37-1.37c-.4-.4-.92-.59-1.43-.59-.52 0-1.04.2-1.43.59L10.3 9.45l-7.72 7.72c-.78.78-.78 2.05 0 2.83L4 21.41c.39.39.9.59 1.41.59.51 0 1.02-.2 1.41-.59l7.78-7.78 2.81-2.81c.8-.78.8-2.07 0-2.86zM5.41 20L4 18.59l7.72-7.72 1.47 1.35L5.41 20z\"/>\n",
              "  </svg>\n",
              "      </button>\n",
              "      \n",
              "  <style>\n",
              "    .colab-df-container {\n",
              "      display:flex;\n",
              "      flex-wrap:wrap;\n",
              "      gap: 12px;\n",
              "    }\n",
              "\n",
              "    .colab-df-convert {\n",
              "      background-color: #E8F0FE;\n",
              "      border: none;\n",
              "      border-radius: 50%;\n",
              "      cursor: pointer;\n",
              "      display: none;\n",
              "      fill: #1967D2;\n",
              "      height: 32px;\n",
              "      padding: 0 0 0 0;\n",
              "      width: 32px;\n",
              "    }\n",
              "\n",
              "    .colab-df-convert:hover {\n",
              "      background-color: #E2EBFA;\n",
              "      box-shadow: 0px 1px 2px rgba(60, 64, 67, 0.3), 0px 1px 3px 1px rgba(60, 64, 67, 0.15);\n",
              "      fill: #174EA6;\n",
              "    }\n",
              "\n",
              "    [theme=dark] .colab-df-convert {\n",
              "      background-color: #3B4455;\n",
              "      fill: #D2E3FC;\n",
              "    }\n",
              "\n",
              "    [theme=dark] .colab-df-convert:hover {\n",
              "      background-color: #434B5C;\n",
              "      box-shadow: 0px 1px 3px 1px rgba(0, 0, 0, 0.15);\n",
              "      filter: drop-shadow(0px 1px 2px rgba(0, 0, 0, 0.3));\n",
              "      fill: #FFFFFF;\n",
              "    }\n",
              "  </style>\n",
              "\n",
              "      <script>\n",
              "        const buttonEl =\n",
              "          document.querySelector('#df-405c9d09-e39d-4204-b83e-978044965dd5 button.colab-df-convert');\n",
              "        buttonEl.style.display =\n",
              "          google.colab.kernel.accessAllowed ? 'block' : 'none';\n",
              "\n",
              "        async function convertToInteractive(key) {\n",
              "          const element = document.querySelector('#df-405c9d09-e39d-4204-b83e-978044965dd5');\n",
              "          const dataTable =\n",
              "            await google.colab.kernel.invokeFunction('convertToInteractive',\n",
              "                                                     [key], {});\n",
              "          if (!dataTable) return;\n",
              "\n",
              "          const docLinkHtml = 'Like what you see? Visit the ' +\n",
              "            '<a target=\"_blank\" href=https://colab.research.google.com/notebooks/data_table.ipynb>data table notebook</a>'\n",
              "            + ' to learn more about interactive tables.';\n",
              "          element.innerHTML = '';\n",
              "          dataTable['output_type'] = 'display_data';\n",
              "          await google.colab.output.renderOutput(dataTable, element);\n",
              "          const docLink = document.createElement('div');\n",
              "          docLink.innerHTML = docLinkHtml;\n",
              "          element.appendChild(docLink);\n",
              "        }\n",
              "      </script>\n",
              "    </div>\n",
              "  </div>\n",
              "  "
            ]
          },
          "metadata": {},
          "execution_count": 86
        }
      ]
    },
    {
      "cell_type": "code",
      "source": [
        "df['sentiment'].unique()"
      ],
      "metadata": {
        "colab": {
          "base_uri": "https://localhost:8080/"
        },
        "id": "J8lU1EnEuMS3",
        "outputId": "acb8c480-caaa-4e8e-b9d8-7df63229b3d5"
      },
      "id": "J8lU1EnEuMS3",
      "execution_count": 87,
      "outputs": [
        {
          "output_type": "execute_result",
          "data": {
            "text/plain": [
              "array(['positive', 'negative'], dtype=object)"
            ]
          },
          "metadata": {},
          "execution_count": 87
        }
      ]
    },
    {
      "cell_type": "code",
      "source": [
        "import matplotlib.pyplot as plt\n",
        "\n",
        "plt.hist(df['sentiment'])\n",
        "plt.show()"
      ],
      "metadata": {
        "colab": {
          "base_uri": "https://localhost:8080/",
          "height": 265
        },
        "id": "-69M3auAyjv2",
        "outputId": "a4d1f283-8393-4949-853d-a268d560c07f"
      },
      "id": "-69M3auAyjv2",
      "execution_count": 88,
      "outputs": [
        {
          "output_type": "display_data",
          "data": {
            "text/plain": [
              "<Figure size 432x288 with 1 Axes>"
            ],
            "image/png": "[encoded data removed]"
          },
          "metadata": {}
        }
      ]
    },
    {
      "cell_type": "markdown",
      "source": [
        "#Conclusion"
      ],
      "metadata": {
        "id": "3gQZBzbv4sf7"
      },
      "id": "3gQZBzbv4sf7"
    },
    {
      "cell_type": "code",
      "source": [
        "df.drop(columns=['roleplay_rate','comment','perfect_rate', 'good_rate', 'film_rate', 'not_rate', 'bad_rate', 'propose_rate', 'rate_mean'], axis=1, inplace=True)"
      ],
      "metadata": {
        "colab": {
          "base_uri": "https://localhost:8080/"
        },
        "id": "hk56SgXSoRDh",
        "outputId": "c43d61e4-57a8-4d37-f56e-8e2ff2f3da96"
      },
      "id": "hk56SgXSoRDh",
      "execution_count": 96,
      "outputs": [
        {
          "output_type": "stream",
          "name": "stderr",
          "text": [
            "/usr/local/lib/python3.7/dist-packages/pandas/core/frame.py:4913: SettingWithCopyWarning: \n",
            "A value is trying to be set on a copy of a slice from a DataFrame\n",
            "\n",
            "See the caveats in the documentation: https://pandas.pydata.org/pandas-docs/stable/user_guide/indexing.html#returning-a-view-versus-a-copy\n",
            "  errors=errors,\n"
          ]
        }
      ]
    },
    {
      "cell_type": "code",
      "source": [
        "df.head(10)"
      ],
      "metadata": {
        "colab": {
          "base_uri": "https://localhost:8080/",
          "height": 363
        },
        "id": "GR5l5tB9sCQy",
        "outputId": "ed975d0c-4d08-411e-a76b-c225f887ab70"
      },
      "id": "GR5l5tB9sCQy",
      "execution_count": 97,
      "outputs": [
        {
          "output_type": "execute_result",
          "data": {
            "text/plain": [
              "  film_name sentiment\n",
              "0  BlackCat  positive\n",
              "1  BlackCat  positive\n",
              "2  BlackCat  positive\n",
              "3  BlackCat  positive\n",
              "4  BlackCat  positive\n",
              "5  BlackCat  positive\n",
              "6  BlackCat  positive\n",
              "7  BlackCat  positive\n",
              "8  BlackCat  positive\n",
              "9  BlackCat  negative"
            ],
            "text/html": [
              "\n",
              "  <div id=\"df-9fe75dc6-64c1-41dd-b73a-523e4276ccdb\">\n",
              "    <div class=\"colab-df-container\">\n",
              "      <div>\n",
              "<style scoped>\n",
              "    .dataframe tbody tr th:only-of-type {\n",
              "        vertical-align: middle;\n",
              "    }\n",
              "\n",
              "    .dataframe tbody tr th {\n",
              "        vertical-align: top;\n",
              "    }\n",
              "\n",
              "    .dataframe thead th {\n",
              "        text-align: right;\n",
              "    }\n",
              "</style>\n",
              "<table border=\"1\" class=\"dataframe\">\n",
              "  <thead>\n",
              "    <tr style=\"text-align: right;\">\n",
              "      <th></th>\n",
              "      <th>film_name</th>\n",
              "      <th>sentiment</th>\n",
              "    </tr>\n",
              "  </thead>\n",
              "  <tbody>\n",
              "    <tr>\n",
              "      <th>0</th>\n",
              "      <td>BlackCat</td>\n",
              "      <td>positive</td>\n",
              "    </tr>\n",
              "    <tr>\n",
              "      <th>1</th>\n",
              "      <td>BlackCat</td>\n",
              "      <td>positive</td>\n",
              "    </tr>\n",
              "    <tr>\n",
              "      <th>2</th>\n",
              "      <td>BlackCat</td>\n",
              "      <td>positive</td>\n",
              "    </tr>\n",
              "    <tr>\n",
              "      <th>3</th>\n",
              "      <td>BlackCat</td>\n",
              "      <td>positive</td>\n",
              "    </tr>\n",
              "    <tr>\n",
              "      <th>4</th>\n",
              "      <td>BlackCat</td>\n",
              "      <td>positive</td>\n",
              "    </tr>\n",
              "    <tr>\n",
              "      <th>5</th>\n",
              "      <td>BlackCat</td>\n",
              "      <td>positive</td>\n",
              "    </tr>\n",
              "    <tr>\n",
              "      <th>6</th>\n",
              "      <td>BlackCat</td>\n",
              "      <td>positive</td>\n",
              "    </tr>\n",
              "    <tr>\n",
              "      <th>7</th>\n",
              "      <td>BlackCat</td>\n",
              "      <td>positive</td>\n",
              "    </tr>\n",
              "    <tr>\n",
              "      <th>8</th>\n",
              "      <td>BlackCat</td>\n",
              "      <td>positive</td>\n",
              "    </tr>\n",
              "    <tr>\n",
              "      <th>9</th>\n",
              "      <td>BlackCat</td>\n",
              "      <td>negative</td>\n",
              "    </tr>\n",
              "  </tbody>\n",
              "</table>\n",
              "</div>\n",
              "      <button class=\"colab-df-convert\" onclick=\"convertToInteractive('df-9fe75dc6-64c1-41dd-b73a-523e4276ccdb')\"\n",
              "              title=\"Convert this dataframe to an interactive table.\"\n",
              "              style=\"display:none;\">\n",
              "        \n",
              "  <svg xmlns=\"http://www.w3.org/2000/svg\" height=\"24px\"viewBox=\"0 0 24 24\"\n",
              "       width=\"24px\">\n",
              "    <path d=\"M0 0h24v24H0V0z\" fill=\"none\"/>\n",
              "    <path d=\"M18.56 5.44l.94 2.06.94-2.06 2.06-.94-2.06-.94-.94-2.06-.94 2.06-2.06.94zm-11 1L8.5 8.5l.94-2.06 2.06-.94-2.06-.94L8.5 2.5l-.94 2.06-2.06.94zm10 10l.94 2.06.94-2.06 2.06-.94-2.06-.94-.94-2.06-.94 2.06-2.06.94z\"/><path d=\"M17.41 7.96l-1.37-1.37c-.4-.4-.92-.59-1.43-.59-.52 0-1.04.2-1.43.59L10.3 9.45l-7.72 7.72c-.78.78-.78 2.05 0 2.83L4 21.41c.39.39.9.59 1.41.59.51 0 1.02-.2 1.41-.59l7.78-7.78 2.81-2.81c.8-.78.8-2.07 0-2.86zM5.41 20L4 18.59l7.72-7.72 1.47 1.35L5.41 20z\"/>\n",
              "  </svg>\n",
              "      </button>\n",
              "      \n",
              "  <style>\n",
              "    .colab-df-container {\n",
              "      display:flex;\n",
              "      flex-wrap:wrap;\n",
              "      gap: 12px;\n",
              "    }\n",
              "\n",
              "    .colab-df-convert {\n",
              "      background-color: #E8F0FE;\n",
              "      border: none;\n",
              "      border-radius: 50%;\n",
              "      cursor: pointer;\n",
              "      display: none;\n",
              "      fill: #1967D2;\n",
              "      height: 32px;\n",
              "      padding: 0 0 0 0;\n",
              "      width: 32px;\n",
              "    }\n",
              "\n",
              "    .colab-df-convert:hover {\n",
              "      background-color: #E2EBFA;\n",
              "      box-shadow: 0px 1px 2px rgba(60, 64, 67, 0.3), 0px 1px 3px 1px rgba(60, 64, 67, 0.15);\n",
              "      fill: #174EA6;\n",
              "    }\n",
              "\n",
              "    [theme=dark] .colab-df-convert {\n",
              "      background-color: #3B4455;\n",
              "      fill: #D2E3FC;\n",
              "    }\n",
              "\n",
              "    [theme=dark] .colab-df-convert:hover {\n",
              "      background-color: #434B5C;\n",
              "      box-shadow: 0px 1px 3px 1px rgba(0, 0, 0, 0.15);\n",
              "      filter: drop-shadow(0px 1px 2px rgba(0, 0, 0, 0.3));\n",
              "      fill: #FFFFFF;\n",
              "    }\n",
              "  </style>\n",
              "\n",
              "      <script>\n",
              "        const buttonEl =\n",
              "          document.querySelector('#df-9fe75dc6-64c1-41dd-b73a-523e4276ccdb button.colab-df-convert');\n",
              "        buttonEl.style.display =\n",
              "          google.colab.kernel.accessAllowed ? 'block' : 'none';\n",
              "\n",
              "        async function convertToInteractive(key) {\n",
              "          const element = document.querySelector('#df-9fe75dc6-64c1-41dd-b73a-523e4276ccdb');\n",
              "          const dataTable =\n",
              "            await google.colab.kernel.invokeFunction('convertToInteractive',\n",
              "                                                     [key], {});\n",
              "          if (!dataTable) return;\n",
              "\n",
              "          const docLinkHtml = 'Like what you see? Visit the ' +\n",
              "            '<a target=\"_blank\" href=https://colab.research.google.com/notebooks/data_table.ipynb>data table notebook</a>'\n",
              "            + ' to learn more about interactive tables.';\n",
              "          element.innerHTML = '';\n",
              "          dataTable['output_type'] = 'display_data';\n",
              "          await google.colab.output.renderOutput(dataTable, element);\n",
              "          const docLink = document.createElement('div');\n",
              "          docLink.innerHTML = docLinkHtml;\n",
              "          element.appendChild(docLink);\n",
              "        }\n",
              "      </script>\n",
              "    </div>\n",
              "  </div>\n",
              "  "
            ]
          },
          "metadata": {},
          "execution_count": 97
        }
      ]
    },
    {
      "cell_type": "code",
      "source": [
        "df.groupby(by=[\"sentiment\"]).count()"
      ],
      "metadata": {
        "colab": {
          "base_uri": "https://localhost:8080/",
          "height": 143
        },
        "id": "nxhZl7bA45Ol",
        "outputId": "589794fa-8ef3-4324-edea-69c72d6232d3"
      },
      "id": "nxhZl7bA45Ol",
      "execution_count": 168,
      "outputs": [
        {
          "output_type": "execute_result",
          "data": {
            "text/plain": [
              "           film_name\n",
              "sentiment           \n",
              "negative          10\n",
              "positive         118"
            ],
            "text/html": [
              "\n",
              "  <div id=\"df-0a8d18ec-1c48-4626-a0f5-2faf492995d9\">\n",
              "    <div class=\"colab-df-container\">\n",
              "      <div>\n",
              "<style scoped>\n",
              "    .dataframe tbody tr th:only-of-type {\n",
              "        vertical-align: middle;\n",
              "    }\n",
              "\n",
              "    .dataframe tbody tr th {\n",
              "        vertical-align: top;\n",
              "    }\n",
              "\n",
              "    .dataframe thead th {\n",
              "        text-align: right;\n",
              "    }\n",
              "</style>\n",
              "<table border=\"1\" class=\"dataframe\">\n",
              "  <thead>\n",
              "    <tr style=\"text-align: right;\">\n",
              "      <th></th>\n",
              "      <th>film_name</th>\n",
              "    </tr>\n",
              "    <tr>\n",
              "      <th>sentiment</th>\n",
              "      <th></th>\n",
              "    </tr>\n",
              "  </thead>\n",
              "  <tbody>\n",
              "    <tr>\n",
              "      <th>negative</th>\n",
              "      <td>10</td>\n",
              "    </tr>\n",
              "    <tr>\n",
              "      <th>positive</th>\n",
              "      <td>118</td>\n",
              "    </tr>\n",
              "  </tbody>\n",
              "</table>\n",
              "</div>\n",
              "      <button class=\"colab-df-convert\" onclick=\"convertToInteractive('df-0a8d18ec-1c48-4626-a0f5-2faf492995d9')\"\n",
              "              title=\"Convert this dataframe to an interactive table.\"\n",
              "              style=\"display:none;\">\n",
              "        \n",
              "  <svg xmlns=\"http://www.w3.org/2000/svg\" height=\"24px\"viewBox=\"0 0 24 24\"\n",
              "       width=\"24px\">\n",
              "    <path d=\"M0 0h24v24H0V0z\" fill=\"none\"/>\n",
              "    <path d=\"M18.56 5.44l.94 2.06.94-2.06 2.06-.94-2.06-.94-.94-2.06-.94 2.06-2.06.94zm-11 1L8.5 8.5l.94-2.06 2.06-.94-2.06-.94L8.5 2.5l-.94 2.06-2.06.94zm10 10l.94 2.06.94-2.06 2.06-.94-2.06-.94-.94-2.06-.94 2.06-2.06.94z\"/><path d=\"M17.41 7.96l-1.37-1.37c-.4-.4-.92-.59-1.43-.59-.52 0-1.04.2-1.43.59L10.3 9.45l-7.72 7.72c-.78.78-.78 2.05 0 2.83L4 21.41c.39.39.9.59 1.41.59.51 0 1.02-.2 1.41-.59l7.78-7.78 2.81-2.81c.8-.78.8-2.07 0-2.86zM5.41 20L4 18.59l7.72-7.72 1.47 1.35L5.41 20z\"/>\n",
              "  </svg>\n",
              "      </button>\n",
              "      \n",
              "  <style>\n",
              "    .colab-df-container {\n",
              "      display:flex;\n",
              "      flex-wrap:wrap;\n",
              "      gap: 12px;\n",
              "    }\n",
              "\n",
              "    .colab-df-convert {\n",
              "      background-color: #E8F0FE;\n",
              "      border: none;\n",
              "      border-radius: 50%;\n",
              "      cursor: pointer;\n",
              "      display: none;\n",
              "      fill: #1967D2;\n",
              "      height: 32px;\n",
              "      padding: 0 0 0 0;\n",
              "      width: 32px;\n",
              "    }\n",
              "\n",
              "    .colab-df-convert:hover {\n",
              "      background-color: #E2EBFA;\n",
              "      box-shadow: 0px 1px 2px rgba(60, 64, 67, 0.3), 0px 1px 3px 1px rgba(60, 64, 67, 0.15);\n",
              "      fill: #174EA6;\n",
              "    }\n",
              "\n",
              "    [theme=dark] .colab-df-convert {\n",
              "      background-color: #3B4455;\n",
              "      fill: #D2E3FC;\n",
              "    }\n",
              "\n",
              "    [theme=dark] .colab-df-convert:hover {\n",
              "      background-color: #434B5C;\n",
              "      box-shadow: 0px 1px 3px 1px rgba(0, 0, 0, 0.15);\n",
              "      filter: drop-shadow(0px 1px 2px rgba(0, 0, 0, 0.3));\n",
              "      fill: #FFFFFF;\n",
              "    }\n",
              "  </style>\n",
              "\n",
              "      <script>\n",
              "        const buttonEl =\n",
              "          document.querySelector('#df-0a8d18ec-1c48-4626-a0f5-2faf492995d9 button.colab-df-convert');\n",
              "        buttonEl.style.display =\n",
              "          google.colab.kernel.accessAllowed ? 'block' : 'none';\n",
              "\n",
              "        async function convertToInteractive(key) {\n",
              "          const element = document.querySelector('#df-0a8d18ec-1c48-4626-a0f5-2faf492995d9');\n",
              "          const dataTable =\n",
              "            await google.colab.kernel.invokeFunction('convertToInteractive',\n",
              "                                                     [key], {});\n",
              "          if (!dataTable) return;\n",
              "\n",
              "          const docLinkHtml = 'Like what you see? Visit the ' +\n",
              "            '<a target=\"_blank\" href=https://colab.research.google.com/notebooks/data_table.ipynb>data table notebook</a>'\n",
              "            + ' to learn more about interactive tables.';\n",
              "          element.innerHTML = '';\n",
              "          dataTable['output_type'] = 'display_data';\n",
              "          await google.colab.output.renderOutput(dataTable, element);\n",
              "          const docLink = document.createElement('div');\n",
              "          docLink.innerHTML = docLinkHtml;\n",
              "          element.appendChild(docLink);\n",
              "        }\n",
              "      </script>\n",
              "    </div>\n",
              "  </div>\n",
              "  "
            ]
          },
          "metadata": {},
          "execution_count": 168
        }
      ]
    },
    {
      "cell_type": "code",
      "source": [
        "\n",
        "df.groupby(by=[\"film_name\"]).count()\n"
      ],
      "metadata": {
        "colab": {
          "base_uri": "https://localhost:8080/",
          "height": 300
        },
        "id": "DaEdMSGlsTOo",
        "outputId": "1e8e7679-a027-4280-d275-79e677dd98e4"
      },
      "id": "DaEdMSGlsTOo",
      "execution_count": 167,
      "outputs": [
        {
          "output_type": "execute_result",
          "data": {
            "text/plain": [
              "                   sentiment\n",
              "film_name                   \n",
              "BlackCat                  18\n",
              "Death_of_Salesman         10\n",
              "Departed                  15\n",
              "Facing_Mirrors            23\n",
              "LoserMan                  22\n",
              "NoChoice                  20\n",
              "The_Late_Father           20"
            ],
            "text/html": [
              "\n",
              "  <div id=\"df-6dab9b5d-d84c-4f0b-9d35-c17ca8c62063\">\n",
              "    <div class=\"colab-df-container\">\n",
              "      <div>\n",
              "<style scoped>\n",
              "    .dataframe tbody tr th:only-of-type {\n",
              "        vertical-align: middle;\n",
              "    }\n",
              "\n",
              "    .dataframe tbody tr th {\n",
              "        vertical-align: top;\n",
              "    }\n",
              "\n",
              "    .dataframe thead th {\n",
              "        text-align: right;\n",
              "    }\n",
              "</style>\n",
              "<table border=\"1\" class=\"dataframe\">\n",
              "  <thead>\n",
              "    <tr style=\"text-align: right;\">\n",
              "      <th></th>\n",
              "      <th>sentiment</th>\n",
              "    </tr>\n",
              "    <tr>\n",
              "      <th>film_name</th>\n",
              "      <th></th>\n",
              "    </tr>\n",
              "  </thead>\n",
              "  <tbody>\n",
              "    <tr>\n",
              "      <th>BlackCat</th>\n",
              "      <td>18</td>\n",
              "    </tr>\n",
              "    <tr>\n",
              "      <th>Death_of_Salesman</th>\n",
              "      <td>10</td>\n",
              "    </tr>\n",
              "    <tr>\n",
              "      <th>Departed</th>\n",
              "      <td>15</td>\n",
              "    </tr>\n",
              "    <tr>\n",
              "      <th>Facing_Mirrors</th>\n",
              "      <td>23</td>\n",
              "    </tr>\n",
              "    <tr>\n",
              "      <th>LoserMan</th>\n",
              "      <td>22</td>\n",
              "    </tr>\n",
              "    <tr>\n",
              "      <th>NoChoice</th>\n",
              "      <td>20</td>\n",
              "    </tr>\n",
              "    <tr>\n",
              "      <th>The_Late_Father</th>\n",
              "      <td>20</td>\n",
              "    </tr>\n",
              "  </tbody>\n",
              "</table>\n",
              "</div>\n",
              "      <button class=\"colab-df-convert\" onclick=\"convertToInteractive('df-6dab9b5d-d84c-4f0b-9d35-c17ca8c62063')\"\n",
              "              title=\"Convert this dataframe to an interactive table.\"\n",
              "              style=\"display:none;\">\n",
              "        \n",
              "  <svg xmlns=\"http://www.w3.org/2000/svg\" height=\"24px\"viewBox=\"0 0 24 24\"\n",
              "       width=\"24px\">\n",
              "    <path d=\"M0 0h24v24H0V0z\" fill=\"none\"/>\n",
              "    <path d=\"M18.56 5.44l.94 2.06.94-2.06 2.06-.94-2.06-.94-.94-2.06-.94 2.06-2.06.94zm-11 1L8.5 8.5l.94-2.06 2.06-.94-2.06-.94L8.5 2.5l-.94 2.06-2.06.94zm10 10l.94 2.06.94-2.06 2.06-.94-2.06-.94-.94-2.06-.94 2.06-2.06.94z\"/><path d=\"M17.41 7.96l-1.37-1.37c-.4-.4-.92-.59-1.43-.59-.52 0-1.04.2-1.43.59L10.3 9.45l-7.72 7.72c-.78.78-.78 2.05 0 2.83L4 21.41c.39.39.9.59 1.41.59.51 0 1.02-.2 1.41-.59l7.78-7.78 2.81-2.81c.8-.78.8-2.07 0-2.86zM5.41 20L4 18.59l7.72-7.72 1.47 1.35L5.41 20z\"/>\n",
              "  </svg>\n",
              "      </button>\n",
              "      \n",
              "  <style>\n",
              "    .colab-df-container {\n",
              "      display:flex;\n",
              "      flex-wrap:wrap;\n",
              "      gap: 12px;\n",
              "    }\n",
              "\n",
              "    .colab-df-convert {\n",
              "      background-color: #E8F0FE;\n",
              "      border: none;\n",
              "      border-radius: 50%;\n",
              "      cursor: pointer;\n",
              "      display: none;\n",
              "      fill: #1967D2;\n",
              "      height: 32px;\n",
              "      padding: 0 0 0 0;\n",
              "      width: 32px;\n",
              "    }\n",
              "\n",
              "    .colab-df-convert:hover {\n",
              "      background-color: #E2EBFA;\n",
              "      box-shadow: 0px 1px 2px rgba(60, 64, 67, 0.3), 0px 1px 3px 1px rgba(60, 64, 67, 0.15);\n",
              "      fill: #174EA6;\n",
              "    }\n",
              "\n",
              "    [theme=dark] .colab-df-convert {\n",
              "      background-color: #3B4455;\n",
              "      fill: #D2E3FC;\n",
              "    }\n",
              "\n",
              "    [theme=dark] .colab-df-convert:hover {\n",
              "      background-color: #434B5C;\n",
              "      box-shadow: 0px 1px 3px 1px rgba(0, 0, 0, 0.15);\n",
              "      filter: drop-shadow(0px 1px 2px rgba(0, 0, 0, 0.3));\n",
              "      fill: #FFFFFF;\n",
              "    }\n",
              "  </style>\n",
              "\n",
              "      <script>\n",
              "        const buttonEl =\n",
              "          document.querySelector('#df-6dab9b5d-d84c-4f0b-9d35-c17ca8c62063 button.colab-df-convert');\n",
              "        buttonEl.style.display =\n",
              "          google.colab.kernel.accessAllowed ? 'block' : 'none';\n",
              "\n",
              "        async function convertToInteractive(key) {\n",
              "          const element = document.querySelector('#df-6dab9b5d-d84c-4f0b-9d35-c17ca8c62063');\n",
              "          const dataTable =\n",
              "            await google.colab.kernel.invokeFunction('convertToInteractive',\n",
              "                                                     [key], {});\n",
              "          if (!dataTable) return;\n",
              "\n",
              "          const docLinkHtml = 'Like what you see? Visit the ' +\n",
              "            '<a target=\"_blank\" href=https://colab.research.google.com/notebooks/data_table.ipynb>data table notebook</a>'\n",
              "            + ' to learn more about interactive tables.';\n",
              "          element.innerHTML = '';\n",
              "          dataTable['output_type'] = 'display_data';\n",
              "          await google.colab.output.renderOutput(dataTable, element);\n",
              "          const docLink = document.createElement('div');\n",
              "          docLink.innerHTML = docLinkHtml;\n",
              "          element.appendChild(docLink);\n",
              "        }\n",
              "      </script>\n",
              "    </div>\n",
              "  </div>\n",
              "  "
            ]
          },
          "metadata": {},
          "execution_count": 167
        }
      ]
    },
    {
      "cell_type": "code",
      "source": [
        "print(df.groupby(by=[\"sentiment\"]).count())\n",
        "print(f'percent of data label for each film: {10 / 128 *100}')"
      ],
      "metadata": {
        "colab": {
          "base_uri": "https://localhost:8080/"
        },
        "id": "vdhtwx4zyLb-",
        "outputId": "95d9a2e2-625c-4dac-e8fc-e36d1e1bdf11"
      },
      "id": "vdhtwx4zyLb-",
      "execution_count": 169,
      "outputs": [
        {
          "output_type": "stream",
          "name": "stdout",
          "text": [
            "           film_name\n",
            "sentiment           \n",
            "negative          10\n",
            "positive         118\n",
            "percent of data label for each film: 7.8125\n"
          ]
        }
      ]
    },
    {
      "cell_type": "code",
      "source": [
        "def percent_of_negative_lebel_for_each_film(x):\n",
        "  perc = 10 /128 \n",
        "  neg_perc = perc * x\n",
        "  return neg_perc"
      ],
      "metadata": {
        "id": "pHERAOHvyv6t"
      },
      "id": "pHERAOHvyv6t",
      "execution_count": 172,
      "outputs": []
    },
    {
      "cell_type": "code",
      "source": [
        "print(f' Score of Ngative Sentiment for \"BalckCats\" film: {format(percent_of_negative_lebel_for_each_film(18), \".2f\")}')\n",
        "print(f' Score of Ngative Sentiment for \"Death_of_Salesman\" film: {format(percent_of_negative_lebel_for_each_film(10), \".2f\")}')\n",
        "print(f' Score of Ngative Sentiment for \"Departed\" film: {format(percent_of_negative_lebel_for_each_film(15), \".2f\")}')\n",
        "print(f' Score of Ngative Sentiment for \"Facing_Mirrors\" film: {format(percent_of_negative_lebel_for_each_film(23), \".2f\")}')\n",
        "print(f' Score of Ngative Sentiment for \"LoserMan\" film: {format(percent_of_negative_lebel_for_each_film(22), \".2f\")}')\n",
        "print(f' Score of Ngative Sentiment for \"NoChoice\" film: {format(percent_of_negative_lebel_for_each_film(20), \".2f\")}')\n",
        "print(f' Score of Ngative Sentiment for \"The_Late_Father\" film: {format(percent_of_negative_lebel_for_each_film(20), \".2f\")}')\n"
      ],
      "metadata": {
        "colab": {
          "base_uri": "https://localhost:8080/"
        },
        "id": "KpTM-3zx0GRj",
        "outputId": "03c60daf-7bd3-4ae7-c6c5-51d614e69af5"
      },
      "id": "KpTM-3zx0GRj",
      "execution_count": 179,
      "outputs": [
        {
          "output_type": "stream",
          "name": "stdout",
          "text": [
            " Score of Ngative Sentiment for \"BalckCats\" film: 1.41\n",
            " Score of Ngative Sentiment for \"Death_of_Salesman\" film: 0.78\n",
            " Score of Ngative Sentiment for \"Departed\" film: 1.17\n",
            " Score of Ngative Sentiment for \"Facing_Mirrors\" film: 1.80\n",
            " Score of Ngative Sentiment for \"LoserMan\" film: 1.72\n",
            " Score of Ngative Sentiment for \"NoChoice\" film: 1.56\n",
            " Score of Ngative Sentiment for \"The_Late_Father\" film: 1.56\n"
          ]
        }
      ]
    },
    {
      "cell_type": "code",
      "source": [
        "def percent_of_psitive_lebel_for_each_film(x):\n",
        "  perc = 118 /128 \n",
        "  pos_perc = perc * x\n",
        "  return pos_perc"
      ],
      "metadata": {
        "id": "AEVA6b925FU3"
      },
      "id": "AEVA6b925FU3",
      "execution_count": 176,
      "outputs": []
    },
    {
      "cell_type": "code",
      "source": [
        "print(f' Score of Positive Sentiment for \"BalckCats\" film: {format(percent_of_psitive_lebel_for_each_film(18), \".2f\")}')\n",
        "print(f' Score of Positive Sentiment for \"Death_of_Salesman\t\" film: {format(percent_of_psitive_lebel_for_each_film(10), \".2f\")}')\n",
        "print(f' Score of Positive Sentiment for \"Departed\" film: {format(percent_of_psitive_lebel_for_each_film(15), \".2f\")}')\n",
        "print(f' Score of Positive Sentiment for \"Facing_Mirrors\" film: {format(percent_of_psitive_lebel_for_each_film(23), \".2f\")}')\n",
        "print(f' Score of Positive Sentiment for \"LoserMan\" film: {format(percent_of_psitive_lebel_for_each_film(22), \".2f\")}')\n",
        "print(f' Score of Positive Sentiment for \"NoChoice\" film: {format(percent_of_psitive_lebel_for_each_film(20), \".2f\")}')\n",
        "print(f' Score of Positive Sentiment for \"The_Late_Father\" film: {format(percent_of_psitive_lebel_for_each_film(20), \".2f\")}')"
      ],
      "metadata": {
        "colab": {
          "base_uri": "https://localhost:8080/"
        },
        "id": "tGvSdfoC5Uzz",
        "outputId": "5c942ffe-e650-4ef6-9169-09a6cf0bd256"
      },
      "id": "tGvSdfoC5Uzz",
      "execution_count": 180,
      "outputs": [
        {
          "output_type": "stream",
          "name": "stdout",
          "text": [
            " Score of Positive Sentiment for \"BalckCats\" film: 16.59\n",
            " Score of Positive Sentiment for \"Death_of_Salesman\t\" film: 9.22\n",
            " Score of Positive Sentiment for \"Departed\" film: 13.83\n",
            " Score of Positive Sentiment for \"Facing_Mirrors\" film: 21.20\n",
            " Score of Positive Sentiment for \"LoserMan\" film: 20.28\n",
            " Score of Positive Sentiment for \"NoChoice\" film: 18.44\n",
            " Score of Positive Sentiment for \"The_Late_Father\" film: 18.44\n"
          ]
        }
      ]
    }
  ],
  "metadata": {
    "colab": {
      "name": "filimosentimentanalysis.ipynb",
      "provenance": [],
      "collapsed_sections": []
    },
    "interpreter": {
      "hash": "c43df34d769266604eb8bcb3df8f7bfc320ecf6817675ae0843665b190b250de"
    },
    "kernelspec": {
      "display_name": "Python 3.9.13 ('venv': venv)",
      "language": "python",
      "name": "python3"
    },
    "language_info": {
      "codemirror_mode": {
        "name": "ipython",
        "version": 3
      },
      "file_extension": ".py",
      "mimetype": "text/x-python",
      "name": "python",
      "nbconvert_exporter": "python",
      "pygments_lexer": "ipython3",
      "version": "3.9.13"
    }
  },
  "nbformat": 4,
  "nbformat_minor": 5
}